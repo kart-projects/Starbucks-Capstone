{
 "cells": [
  {
   "cell_type": "markdown",
   "metadata": {},
   "source": [
    "# Starbucks Capstone Project\n",
    "\n",
    "### Introduction\n",
    "\n",
    "This data set contains simulated data that mimics customer behavior on the Starbucks rewards mobile app. Once every few days, Starbucks sends out an offer to users of the mobile app. An offer can be merely an advertisement for a drink or an actual offer such as a discount or BOGO (buy one get one free). Some users might not receive any offer during certain weeks. \n",
    "\n",
    "Not all users receive the same offer, and that is the challenge to solve with this data set.\n",
    "\n",
    "Your task is to combine transaction, demographic and offer data to determine which demographic groups respond best to which offer type. This data set is a simplified version of the real Starbucks app because the underlying simulator only has one product whereas Starbucks actually sells dozens of products.\n",
    "\n",
    "Every offer has a validity period before the offer expires. As an example, a BOGO offer might be valid for only 5 days. You'll see in the data set that informational offers have a validity period even though these ads are merely providing information about a product; for example, if an informational offer has 7 days of validity, you can assume the customer is feeling the influence of the offer for 7 days after receiving the advertisement.\n",
    "\n",
    "You'll be given transactional data showing user purchases made on the app including the timestamp of purchase and the amount of money spent on a purchase. This transactional data also has a record for each offer that a user receives as well as a record for when a user actually views the offer. There are also records for when a user completes an offer. \n",
    "\n",
    "Keep in mind as well that someone using the app might make a purchase through the app without having received an offer or seen an offer.\n",
    "\n",
    "### Example\n",
    "\n",
    "To give an example, a user could receive a discount offer buy 10 dollars get 2 off on Monday. The offer is valid for 10 days from receipt. If the customer accumulates at least 10 dollars in purchases during the validity period, the customer completes the offer.\n",
    "\n",
    "However, there are a few things to watch out for in this data set. Customers do not opt into the offers that they receive; in other words, a user can receive an offer, never actually view the offer, and still complete the offer. For example, a user might receive the \"buy 10 dollars get 2 dollars off offer\", but the user never opens the offer during the 10 day validity period. The customer spends 15 dollars during those ten days. There will be an offer completion record in the data set; however, the customer was not influenced by the offer because the customer never viewed the offer."
   ]
  },
  {
   "cell_type": "markdown",
   "metadata": {},
   "source": [
    "# Data Sets\n",
    "\n",
    "The data is contained in three files:\n",
    "\n",
    "* portfolio.json - containing offer ids and meta data about each offer (duration, type, etc.)\n",
    "* profile.json - demographic data for each customer\n",
    "* transcript.json - records for transactions, offers received, offers viewed, and offers completed\n",
    "\n",
    "Here is the schema and explanation of each variable in the files:\n",
    "\n",
    "**portfolio.json**\n",
    "* id (string) - offer id\n",
    "* offer_type (string) - type of offer ie BOGO, discount, informational\n",
    "* difficulty (int) - minimum required spend to complete an offer\n",
    "* reward (int) - reward given for completing an offer\n",
    "* duration (int) - time for offer to be open, in days\n",
    "* channels (list of strings)\n",
    "\n",
    "**profile.json**\n",
    "* age (int) - age of the customer \n",
    "* became_member_on (int) - date when customer created an app account\n",
    "* gender (str) - gender of the customer (note some entries contain 'O' for other rather than M or F)\n",
    "* id (str) - customer id\n",
    "* income (float) - customer's income\n",
    "\n",
    "**transcript.json**\n",
    "* event (str) - record description (ie transaction, offer received, offer viewed, etc.)\n",
    "* person (str) - customer id\n",
    "* time (int) - time in hours since start of test. The data begins at time t=0\n",
    "* value - (dict of strings) - either an offer id or transaction amount depending on the record"
   ]
  },
  {
   "cell_type": "code",
   "execution_count": 81,
   "metadata": {},
   "outputs": [],
   "source": [
    "import pandas as pd\n",
    "import numpy as np\n",
    "import math\n",
    "import json\n",
    "import matplotlib.pyplot as plt\n",
    "from sklearn import model_selection\n",
    "from sklearn.model_selection import train_test_split\n",
    "from sklearn.ensemble import RandomForestClassifier\n",
    "from sklearn.model_selection import RandomizedSearchCV\n",
    "from sklearn.metrics import classification_report, confusion_matrix\n",
    "from sklearn.model_selection import cross_val_score\n",
    "\n",
    "% matplotlib inline\n",
    "\n",
    "# read in the json files\n",
    "portfolio = pd.read_json('data/portfolio.json', orient='records', lines=True)\n",
    "profile = pd.read_json('data/profile.json', orient='records', lines=True)\n",
    "transcript = pd.read_json('data/transcript.json', orient='records', lines=True)"
   ]
  },
  {
   "cell_type": "markdown",
   "metadata": {},
   "source": [
    "# 1. Data Exploration \n",
    "## 1.a. Exploring the Portfolio dataframe"
   ]
  },
  {
   "cell_type": "code",
   "execution_count": 4,
   "metadata": {},
   "outputs": [
    {
     "data": {
      "text/html": [
       "<div>\n",
       "<style scoped>\n",
       "    .dataframe tbody tr th:only-of-type {\n",
       "        vertical-align: middle;\n",
       "    }\n",
       "\n",
       "    .dataframe tbody tr th {\n",
       "        vertical-align: top;\n",
       "    }\n",
       "\n",
       "    .dataframe thead th {\n",
       "        text-align: right;\n",
       "    }\n",
       "</style>\n",
       "<table border=\"1\" class=\"dataframe\">\n",
       "  <thead>\n",
       "    <tr style=\"text-align: right;\">\n",
       "      <th></th>\n",
       "      <th>channels</th>\n",
       "      <th>difficulty</th>\n",
       "      <th>duration</th>\n",
       "      <th>id</th>\n",
       "      <th>offer_type</th>\n",
       "      <th>reward</th>\n",
       "    </tr>\n",
       "  </thead>\n",
       "  <tbody>\n",
       "    <tr>\n",
       "      <th>0</th>\n",
       "      <td>[email, mobile, social]</td>\n",
       "      <td>10</td>\n",
       "      <td>7</td>\n",
       "      <td>ae264e3637204a6fb9bb56bc8210ddfd</td>\n",
       "      <td>bogo</td>\n",
       "      <td>10</td>\n",
       "    </tr>\n",
       "    <tr>\n",
       "      <th>1</th>\n",
       "      <td>[web, email, mobile, social]</td>\n",
       "      <td>10</td>\n",
       "      <td>5</td>\n",
       "      <td>4d5c57ea9a6940dd891ad53e9dbe8da0</td>\n",
       "      <td>bogo</td>\n",
       "      <td>10</td>\n",
       "    </tr>\n",
       "    <tr>\n",
       "      <th>2</th>\n",
       "      <td>[web, email, mobile]</td>\n",
       "      <td>0</td>\n",
       "      <td>4</td>\n",
       "      <td>3f207df678b143eea3cee63160fa8bed</td>\n",
       "      <td>informational</td>\n",
       "      <td>0</td>\n",
       "    </tr>\n",
       "    <tr>\n",
       "      <th>3</th>\n",
       "      <td>[web, email, mobile]</td>\n",
       "      <td>5</td>\n",
       "      <td>7</td>\n",
       "      <td>9b98b8c7a33c4b65b9aebfe6a799e6d9</td>\n",
       "      <td>bogo</td>\n",
       "      <td>5</td>\n",
       "    </tr>\n",
       "    <tr>\n",
       "      <th>4</th>\n",
       "      <td>[web, email]</td>\n",
       "      <td>20</td>\n",
       "      <td>10</td>\n",
       "      <td>0b1e1539f2cc45b7b9fa7c272da2e1d7</td>\n",
       "      <td>discount</td>\n",
       "      <td>5</td>\n",
       "    </tr>\n",
       "    <tr>\n",
       "      <th>5</th>\n",
       "      <td>[web, email, mobile, social]</td>\n",
       "      <td>7</td>\n",
       "      <td>7</td>\n",
       "      <td>2298d6c36e964ae4a3e7e9706d1fb8c2</td>\n",
       "      <td>discount</td>\n",
       "      <td>3</td>\n",
       "    </tr>\n",
       "    <tr>\n",
       "      <th>6</th>\n",
       "      <td>[web, email, mobile, social]</td>\n",
       "      <td>10</td>\n",
       "      <td>10</td>\n",
       "      <td>fafdcd668e3743c1bb461111dcafc2a4</td>\n",
       "      <td>discount</td>\n",
       "      <td>2</td>\n",
       "    </tr>\n",
       "    <tr>\n",
       "      <th>7</th>\n",
       "      <td>[email, mobile, social]</td>\n",
       "      <td>0</td>\n",
       "      <td>3</td>\n",
       "      <td>5a8bc65990b245e5a138643cd4eb9837</td>\n",
       "      <td>informational</td>\n",
       "      <td>0</td>\n",
       "    </tr>\n",
       "    <tr>\n",
       "      <th>8</th>\n",
       "      <td>[web, email, mobile, social]</td>\n",
       "      <td>5</td>\n",
       "      <td>5</td>\n",
       "      <td>f19421c1d4aa40978ebb69ca19b0e20d</td>\n",
       "      <td>bogo</td>\n",
       "      <td>5</td>\n",
       "    </tr>\n",
       "    <tr>\n",
       "      <th>9</th>\n",
       "      <td>[web, email, mobile]</td>\n",
       "      <td>10</td>\n",
       "      <td>7</td>\n",
       "      <td>2906b810c7d4411798c6938adc9daaa5</td>\n",
       "      <td>discount</td>\n",
       "      <td>2</td>\n",
       "    </tr>\n",
       "  </tbody>\n",
       "</table>\n",
       "</div>"
      ],
      "text/plain": [
       "                       channels  difficulty  duration  \\\n",
       "0       [email, mobile, social]          10         7   \n",
       "1  [web, email, mobile, social]          10         5   \n",
       "2          [web, email, mobile]           0         4   \n",
       "3          [web, email, mobile]           5         7   \n",
       "4                  [web, email]          20        10   \n",
       "5  [web, email, mobile, social]           7         7   \n",
       "6  [web, email, mobile, social]          10        10   \n",
       "7       [email, mobile, social]           0         3   \n",
       "8  [web, email, mobile, social]           5         5   \n",
       "9          [web, email, mobile]          10         7   \n",
       "\n",
       "                                 id     offer_type  reward  \n",
       "0  ae264e3637204a6fb9bb56bc8210ddfd           bogo      10  \n",
       "1  4d5c57ea9a6940dd891ad53e9dbe8da0           bogo      10  \n",
       "2  3f207df678b143eea3cee63160fa8bed  informational       0  \n",
       "3  9b98b8c7a33c4b65b9aebfe6a799e6d9           bogo       5  \n",
       "4  0b1e1539f2cc45b7b9fa7c272da2e1d7       discount       5  \n",
       "5  2298d6c36e964ae4a3e7e9706d1fb8c2       discount       3  \n",
       "6  fafdcd668e3743c1bb461111dcafc2a4       discount       2  \n",
       "7  5a8bc65990b245e5a138643cd4eb9837  informational       0  \n",
       "8  f19421c1d4aa40978ebb69ca19b0e20d           bogo       5  \n",
       "9  2906b810c7d4411798c6938adc9daaa5       discount       2  "
      ]
     },
     "execution_count": 4,
     "metadata": {},
     "output_type": "execute_result"
    }
   ],
   "source": [
    "portfolio.head(10)"
   ]
  },
  {
   "cell_type": "code",
   "execution_count": 5,
   "metadata": {},
   "outputs": [
    {
     "name": "stdout",
     "output_type": "stream",
     "text": [
      "portfolio: Rows = 10, Columns = 6\n"
     ]
    }
   ],
   "source": [
    "print(\"portfolio: Rows = {0}, Columns = {1}\".format(str(portfolio.shape[0]), str(portfolio.shape[1])))"
   ]
  },
  {
   "cell_type": "code",
   "execution_count": 6,
   "metadata": {},
   "outputs": [
    {
     "data": {
      "text/html": [
       "<div>\n",
       "<style scoped>\n",
       "    .dataframe tbody tr th:only-of-type {\n",
       "        vertical-align: middle;\n",
       "    }\n",
       "\n",
       "    .dataframe tbody tr th {\n",
       "        vertical-align: top;\n",
       "    }\n",
       "\n",
       "    .dataframe thead th {\n",
       "        text-align: right;\n",
       "    }\n",
       "</style>\n",
       "<table border=\"1\" class=\"dataframe\">\n",
       "  <thead>\n",
       "    <tr style=\"text-align: right;\">\n",
       "      <th></th>\n",
       "      <th>difficulty</th>\n",
       "      <th>duration</th>\n",
       "      <th>reward</th>\n",
       "    </tr>\n",
       "  </thead>\n",
       "  <tbody>\n",
       "    <tr>\n",
       "      <th>count</th>\n",
       "      <td>10.000000</td>\n",
       "      <td>10.000000</td>\n",
       "      <td>10.000000</td>\n",
       "    </tr>\n",
       "    <tr>\n",
       "      <th>mean</th>\n",
       "      <td>7.700000</td>\n",
       "      <td>6.500000</td>\n",
       "      <td>4.200000</td>\n",
       "    </tr>\n",
       "    <tr>\n",
       "      <th>std</th>\n",
       "      <td>5.831905</td>\n",
       "      <td>2.321398</td>\n",
       "      <td>3.583915</td>\n",
       "    </tr>\n",
       "    <tr>\n",
       "      <th>min</th>\n",
       "      <td>0.000000</td>\n",
       "      <td>3.000000</td>\n",
       "      <td>0.000000</td>\n",
       "    </tr>\n",
       "    <tr>\n",
       "      <th>25%</th>\n",
       "      <td>5.000000</td>\n",
       "      <td>5.000000</td>\n",
       "      <td>2.000000</td>\n",
       "    </tr>\n",
       "    <tr>\n",
       "      <th>50%</th>\n",
       "      <td>8.500000</td>\n",
       "      <td>7.000000</td>\n",
       "      <td>4.000000</td>\n",
       "    </tr>\n",
       "    <tr>\n",
       "      <th>75%</th>\n",
       "      <td>10.000000</td>\n",
       "      <td>7.000000</td>\n",
       "      <td>5.000000</td>\n",
       "    </tr>\n",
       "    <tr>\n",
       "      <th>max</th>\n",
       "      <td>20.000000</td>\n",
       "      <td>10.000000</td>\n",
       "      <td>10.000000</td>\n",
       "    </tr>\n",
       "  </tbody>\n",
       "</table>\n",
       "</div>"
      ],
      "text/plain": [
       "       difficulty   duration     reward\n",
       "count   10.000000  10.000000  10.000000\n",
       "mean     7.700000   6.500000   4.200000\n",
       "std      5.831905   2.321398   3.583915\n",
       "min      0.000000   3.000000   0.000000\n",
       "25%      5.000000   5.000000   2.000000\n",
       "50%      8.500000   7.000000   4.000000\n",
       "75%     10.000000   7.000000   5.000000\n",
       "max     20.000000  10.000000  10.000000"
      ]
     },
     "execution_count": 6,
     "metadata": {},
     "output_type": "execute_result"
    }
   ],
   "source": [
    "portfolio.describe()"
   ]
  },
  {
   "cell_type": "code",
   "execution_count": 7,
   "metadata": {},
   "outputs": [],
   "source": [
    "# Function: HorizontalBarPlot\n",
    "def HorizontalBarPlot(df, colName, pltTitle, pltfigsize=[5,5], bInvertYAxis=True, fntSize=12, fntWeight='bold'):\n",
    "    plt.figure(figsize=pltfigsize)\n",
    "    fig, ax = plt.subplots()    \n",
    "    y_counts = df[colName].value_counts()\n",
    "    if bInvertYAxis == True:\n",
    "        y_counts.plot(kind='barh').invert_yaxis()\n",
    "    else:\n",
    "         y_counts.plot(kind='barh')   \n",
    "    for i, v in enumerate(y_counts):\n",
    "        ax.text(v, i, str(v), color='black', fontsize=fntSize, fontweight=fntWeight)\n",
    "        plt.title(pltTitle)"
   ]
  },
  {
   "cell_type": "code",
   "execution_count": 8,
   "metadata": {},
   "outputs": [
    {
     "data": {
      "text/plain": [
       "<matplotlib.figure.Figure at 0x7fcde0ad2e48>"
      ]
     },
     "metadata": {},
     "output_type": "display_data"
    },
    {
     "data": {
      "image/png": "[encoded data removed]",
      "text/plain": [
       "<matplotlib.figure.Figure at 0x7fce11c8b518>"
      ]
     },
     "metadata": {
      "needs_background": "light"
     },
     "output_type": "display_data"
    }
   ],
   "source": [
    "HorizontalBarPlot(portfolio, 'offer_type', \"Break-down of available offer types in portfolio\")"
   ]
  },
  {
   "cell_type": "code",
   "execution_count": 9,
   "metadata": {},
   "outputs": [
    {
     "data": {
      "text/plain": [
       "<matplotlib.figure.Figure at 0x7fcde07278d0>"
      ]
     },
     "metadata": {},
     "output_type": "display_data"
    },
    {
     "data": {
      "image/png": "[encoded data removed]",
      "text/plain": [
       "<matplotlib.figure.Figure at 0x7fcde0702080>"
      ]
     },
     "metadata": {
      "needs_background": "light"
     },
     "output_type": "display_data"
    }
   ],
   "source": [
    "HorizontalBarPlot(portfolio, 'duration', \"Break-down of offer duration in portfolio\")"
   ]
  },
  {
   "cell_type": "markdown",
   "metadata": {},
   "source": [
    "## 1.1. Exploring the transcript dataframe"
   ]
  },
  {
   "cell_type": "code",
   "execution_count": 10,
   "metadata": {},
   "outputs": [
    {
     "data": {
      "text/html": [
       "<div>\n",
       "<style scoped>\n",
       "    .dataframe tbody tr th:only-of-type {\n",
       "        vertical-align: middle;\n",
       "    }\n",
       "\n",
       "    .dataframe tbody tr th {\n",
       "        vertical-align: top;\n",
       "    }\n",
       "\n",
       "    .dataframe thead th {\n",
       "        text-align: right;\n",
       "    }\n",
       "</style>\n",
       "<table border=\"1\" class=\"dataframe\">\n",
       "  <thead>\n",
       "    <tr style=\"text-align: right;\">\n",
       "      <th></th>\n",
       "      <th>event</th>\n",
       "      <th>person</th>\n",
       "      <th>time</th>\n",
       "      <th>value</th>\n",
       "    </tr>\n",
       "  </thead>\n",
       "  <tbody>\n",
       "    <tr>\n",
       "      <th>0</th>\n",
       "      <td>offer received</td>\n",
       "      <td>78afa995795e4d85b5d9ceeca43f5fef</td>\n",
       "      <td>0</td>\n",
       "      <td>{'offer id': '9b98b8c7a33c4b65b9aebfe6a799e6d9'}</td>\n",
       "    </tr>\n",
       "    <tr>\n",
       "      <th>1</th>\n",
       "      <td>offer received</td>\n",
       "      <td>a03223e636434f42ac4c3df47e8bac43</td>\n",
       "      <td>0</td>\n",
       "      <td>{'offer id': '0b1e1539f2cc45b7b9fa7c272da2e1d7'}</td>\n",
       "    </tr>\n",
       "    <tr>\n",
       "      <th>2</th>\n",
       "      <td>offer received</td>\n",
       "      <td>e2127556f4f64592b11af22de27a7932</td>\n",
       "      <td>0</td>\n",
       "      <td>{'offer id': '2906b810c7d4411798c6938adc9daaa5'}</td>\n",
       "    </tr>\n",
       "    <tr>\n",
       "      <th>3</th>\n",
       "      <td>offer received</td>\n",
       "      <td>8ec6ce2a7e7949b1bf142def7d0e0586</td>\n",
       "      <td>0</td>\n",
       "      <td>{'offer id': 'fafdcd668e3743c1bb461111dcafc2a4'}</td>\n",
       "    </tr>\n",
       "    <tr>\n",
       "      <th>4</th>\n",
       "      <td>offer received</td>\n",
       "      <td>68617ca6246f4fbc85e91a2a49552598</td>\n",
       "      <td>0</td>\n",
       "      <td>{'offer id': '4d5c57ea9a6940dd891ad53e9dbe8da0'}</td>\n",
       "    </tr>\n",
       "  </tbody>\n",
       "</table>\n",
       "</div>"
      ],
      "text/plain": [
       "            event                            person  time  \\\n",
       "0  offer received  78afa995795e4d85b5d9ceeca43f5fef     0   \n",
       "1  offer received  a03223e636434f42ac4c3df47e8bac43     0   \n",
       "2  offer received  e2127556f4f64592b11af22de27a7932     0   \n",
       "3  offer received  8ec6ce2a7e7949b1bf142def7d0e0586     0   \n",
       "4  offer received  68617ca6246f4fbc85e91a2a49552598     0   \n",
       "\n",
       "                                              value  \n",
       "0  {'offer id': '9b98b8c7a33c4b65b9aebfe6a799e6d9'}  \n",
       "1  {'offer id': '0b1e1539f2cc45b7b9fa7c272da2e1d7'}  \n",
       "2  {'offer id': '2906b810c7d4411798c6938adc9daaa5'}  \n",
       "3  {'offer id': 'fafdcd668e3743c1bb461111dcafc2a4'}  \n",
       "4  {'offer id': '4d5c57ea9a6940dd891ad53e9dbe8da0'}  "
      ]
     },
     "execution_count": 10,
     "metadata": {},
     "output_type": "execute_result"
    }
   ],
   "source": [
    "transcript.head()"
   ]
  },
  {
   "cell_type": "code",
   "execution_count": 11,
   "metadata": {},
   "outputs": [
    {
     "name": "stdout",
     "output_type": "stream",
     "text": [
      "transcript: Rows = 306534, Columns = 4\n"
     ]
    }
   ],
   "source": [
    "print(\"transcript: Rows = {0}, Columns = {1}\".format(str(transcript.shape[0]), str(transcript.shape[1])))"
   ]
  },
  {
   "cell_type": "code",
   "execution_count": 12,
   "metadata": {},
   "outputs": [
    {
     "data": {
      "text/html": [
       "<div>\n",
       "<style scoped>\n",
       "    .dataframe tbody tr th:only-of-type {\n",
       "        vertical-align: middle;\n",
       "    }\n",
       "\n",
       "    .dataframe tbody tr th {\n",
       "        vertical-align: top;\n",
       "    }\n",
       "\n",
       "    .dataframe thead th {\n",
       "        text-align: right;\n",
       "    }\n",
       "</style>\n",
       "<table border=\"1\" class=\"dataframe\">\n",
       "  <thead>\n",
       "    <tr style=\"text-align: right;\">\n",
       "      <th></th>\n",
       "      <th>event</th>\n",
       "      <th>person</th>\n",
       "      <th>time</th>\n",
       "      <th>value</th>\n",
       "    </tr>\n",
       "  </thead>\n",
       "  <tbody>\n",
       "    <tr>\n",
       "      <th>count</th>\n",
       "      <td>306534</td>\n",
       "      <td>306534</td>\n",
       "      <td>306534.000000</td>\n",
       "      <td>306534</td>\n",
       "    </tr>\n",
       "    <tr>\n",
       "      <th>unique</th>\n",
       "      <td>4</td>\n",
       "      <td>17000</td>\n",
       "      <td>NaN</td>\n",
       "      <td>5121</td>\n",
       "    </tr>\n",
       "    <tr>\n",
       "      <th>top</th>\n",
       "      <td>transaction</td>\n",
       "      <td>94de646f7b6041228ca7dec82adb97d2</td>\n",
       "      <td>NaN</td>\n",
       "      <td>{'offer id': '2298d6c36e964ae4a3e7e9706d1fb8c2'}</td>\n",
       "    </tr>\n",
       "    <tr>\n",
       "      <th>freq</th>\n",
       "      <td>138953</td>\n",
       "      <td>51</td>\n",
       "      <td>NaN</td>\n",
       "      <td>14983</td>\n",
       "    </tr>\n",
       "    <tr>\n",
       "      <th>mean</th>\n",
       "      <td>NaN</td>\n",
       "      <td>NaN</td>\n",
       "      <td>366.382940</td>\n",
       "      <td>NaN</td>\n",
       "    </tr>\n",
       "    <tr>\n",
       "      <th>std</th>\n",
       "      <td>NaN</td>\n",
       "      <td>NaN</td>\n",
       "      <td>200.326314</td>\n",
       "      <td>NaN</td>\n",
       "    </tr>\n",
       "    <tr>\n",
       "      <th>min</th>\n",
       "      <td>NaN</td>\n",
       "      <td>NaN</td>\n",
       "      <td>0.000000</td>\n",
       "      <td>NaN</td>\n",
       "    </tr>\n",
       "    <tr>\n",
       "      <th>25%</th>\n",
       "      <td>NaN</td>\n",
       "      <td>NaN</td>\n",
       "      <td>186.000000</td>\n",
       "      <td>NaN</td>\n",
       "    </tr>\n",
       "    <tr>\n",
       "      <th>50%</th>\n",
       "      <td>NaN</td>\n",
       "      <td>NaN</td>\n",
       "      <td>408.000000</td>\n",
       "      <td>NaN</td>\n",
       "    </tr>\n",
       "    <tr>\n",
       "      <th>75%</th>\n",
       "      <td>NaN</td>\n",
       "      <td>NaN</td>\n",
       "      <td>528.000000</td>\n",
       "      <td>NaN</td>\n",
       "    </tr>\n",
       "    <tr>\n",
       "      <th>max</th>\n",
       "      <td>NaN</td>\n",
       "      <td>NaN</td>\n",
       "      <td>714.000000</td>\n",
       "      <td>NaN</td>\n",
       "    </tr>\n",
       "  </tbody>\n",
       "</table>\n",
       "</div>"
      ],
      "text/plain": [
       "              event                            person           time  \\\n",
       "count        306534                            306534  306534.000000   \n",
       "unique            4                             17000            NaN   \n",
       "top     transaction  94de646f7b6041228ca7dec82adb97d2            NaN   \n",
       "freq         138953                                51            NaN   \n",
       "mean            NaN                               NaN     366.382940   \n",
       "std             NaN                               NaN     200.326314   \n",
       "min             NaN                               NaN       0.000000   \n",
       "25%             NaN                               NaN     186.000000   \n",
       "50%             NaN                               NaN     408.000000   \n",
       "75%             NaN                               NaN     528.000000   \n",
       "max             NaN                               NaN     714.000000   \n",
       "\n",
       "                                                   value  \n",
       "count                                             306534  \n",
       "unique                                              5121  \n",
       "top     {'offer id': '2298d6c36e964ae4a3e7e9706d1fb8c2'}  \n",
       "freq                                               14983  \n",
       "mean                                                 NaN  \n",
       "std                                                  NaN  \n",
       "min                                                  NaN  \n",
       "25%                                                  NaN  \n",
       "50%                                                  NaN  \n",
       "75%                                                  NaN  \n",
       "max                                                  NaN  "
      ]
     },
     "execution_count": 12,
     "metadata": {},
     "output_type": "execute_result"
    }
   ],
   "source": [
    "transcript.describe(include=\"all\")"
   ]
  },
  {
   "cell_type": "markdown",
   "metadata": {},
   "source": [
    "### 1.1.1. Let's look at all the events of the customer with most records i.e. 94de646f7b6041228ca7dec82adb97d2 in transcript data"
   ]
  },
  {
   "cell_type": "code",
   "execution_count": 13,
   "metadata": {},
   "outputs": [
    {
     "name": "stdout",
     "output_type": "stream",
     "text": [
      "transcripts_top_customer: Rows = 51, Columns = 4\n"
     ]
    },
    {
     "data": {
      "text/html": [
       "<div>\n",
       "<style scoped>\n",
       "    .dataframe tbody tr th:only-of-type {\n",
       "        vertical-align: middle;\n",
       "    }\n",
       "\n",
       "    .dataframe tbody tr th {\n",
       "        vertical-align: top;\n",
       "    }\n",
       "\n",
       "    .dataframe thead th {\n",
       "        text-align: right;\n",
       "    }\n",
       "</style>\n",
       "<table border=\"1\" class=\"dataframe\">\n",
       "  <thead>\n",
       "    <tr style=\"text-align: right;\">\n",
       "      <th></th>\n",
       "      <th>event</th>\n",
       "      <th>person</th>\n",
       "      <th>time</th>\n",
       "      <th>value</th>\n",
       "    </tr>\n",
       "  </thead>\n",
       "  <tbody>\n",
       "    <tr>\n",
       "      <th>2276</th>\n",
       "      <td>offer received</td>\n",
       "      <td>94de646f7b6041228ca7dec82adb97d2</td>\n",
       "      <td>0</td>\n",
       "      <td>{'offer id': 'f19421c1d4aa40978ebb69ca19b0e20d'}</td>\n",
       "    </tr>\n",
       "    <tr>\n",
       "      <th>16010</th>\n",
       "      <td>offer viewed</td>\n",
       "      <td>94de646f7b6041228ca7dec82adb97d2</td>\n",
       "      <td>6</td>\n",
       "      <td>{'offer id': 'f19421c1d4aa40978ebb69ca19b0e20d'}</td>\n",
       "    </tr>\n",
       "    <tr>\n",
       "      <th>24531</th>\n",
       "      <td>transaction</td>\n",
       "      <td>94de646f7b6041228ca7dec82adb97d2</td>\n",
       "      <td>30</td>\n",
       "      <td>{'amount': 7.41}</td>\n",
       "    </tr>\n",
       "    <tr>\n",
       "      <th>24532</th>\n",
       "      <td>offer completed</td>\n",
       "      <td>94de646f7b6041228ca7dec82adb97d2</td>\n",
       "      <td>30</td>\n",
       "      <td>{'offer_id': 'f19421c1d4aa40978ebb69ca19b0e20d...</td>\n",
       "    </tr>\n",
       "    <tr>\n",
       "      <th>42252</th>\n",
       "      <td>transaction</td>\n",
       "      <td>94de646f7b6041228ca7dec82adb97d2</td>\n",
       "      <td>102</td>\n",
       "      <td>{'amount': 1.47}</td>\n",
       "    </tr>\n",
       "    <tr>\n",
       "      <th>55475</th>\n",
       "      <td>offer received</td>\n",
       "      <td>94de646f7b6041228ca7dec82adb97d2</td>\n",
       "      <td>168</td>\n",
       "      <td>{'offer id': '9b98b8c7a33c4b65b9aebfe6a799e6d9'}</td>\n",
       "    </tr>\n",
       "    <tr>\n",
       "      <th>75256</th>\n",
       "      <td>offer viewed</td>\n",
       "      <td>94de646f7b6041228ca7dec82adb97d2</td>\n",
       "      <td>186</td>\n",
       "      <td>{'offer id': '9b98b8c7a33c4b65b9aebfe6a799e6d9'}</td>\n",
       "    </tr>\n",
       "    <tr>\n",
       "      <th>77624</th>\n",
       "      <td>transaction</td>\n",
       "      <td>94de646f7b6041228ca7dec82adb97d2</td>\n",
       "      <td>192</td>\n",
       "      <td>{'amount': 2.62}</td>\n",
       "    </tr>\n",
       "    <tr>\n",
       "      <th>81725</th>\n",
       "      <td>transaction</td>\n",
       "      <td>94de646f7b6041228ca7dec82adb97d2</td>\n",
       "      <td>204</td>\n",
       "      <td>{'amount': 0.59}</td>\n",
       "    </tr>\n",
       "    <tr>\n",
       "      <th>93913</th>\n",
       "      <td>transaction</td>\n",
       "      <td>94de646f7b6041228ca7dec82adb97d2</td>\n",
       "      <td>246</td>\n",
       "      <td>{'amount': 2.2800000000000002}</td>\n",
       "    </tr>\n",
       "    <tr>\n",
       "      <th>96627</th>\n",
       "      <td>transaction</td>\n",
       "      <td>94de646f7b6041228ca7dec82adb97d2</td>\n",
       "      <td>258</td>\n",
       "      <td>{'amount': 1.56}</td>\n",
       "    </tr>\n",
       "    <tr>\n",
       "      <th>97913</th>\n",
       "      <td>transaction</td>\n",
       "      <td>94de646f7b6041228ca7dec82adb97d2</td>\n",
       "      <td>264</td>\n",
       "      <td>{'amount': 2.74}</td>\n",
       "    </tr>\n",
       "    <tr>\n",
       "      <th>99190</th>\n",
       "      <td>transaction</td>\n",
       "      <td>94de646f7b6041228ca7dec82adb97d2</td>\n",
       "      <td>270</td>\n",
       "      <td>{'amount': 6.98}</td>\n",
       "    </tr>\n",
       "    <tr>\n",
       "      <th>99191</th>\n",
       "      <td>offer completed</td>\n",
       "      <td>94de646f7b6041228ca7dec82adb97d2</td>\n",
       "      <td>270</td>\n",
       "      <td>{'offer_id': '9b98b8c7a33c4b65b9aebfe6a799e6d9...</td>\n",
       "    </tr>\n",
       "    <tr>\n",
       "      <th>100437</th>\n",
       "      <td>transaction</td>\n",
       "      <td>94de646f7b6041228ca7dec82adb97d2</td>\n",
       "      <td>276</td>\n",
       "      <td>{'amount': 5.87}</td>\n",
       "    </tr>\n",
       "    <tr>\n",
       "      <th>101667</th>\n",
       "      <td>transaction</td>\n",
       "      <td>94de646f7b6041228ca7dec82adb97d2</td>\n",
       "      <td>282</td>\n",
       "      <td>{'amount': 3.77}</td>\n",
       "    </tr>\n",
       "    <tr>\n",
       "      <th>102890</th>\n",
       "      <td>transaction</td>\n",
       "      <td>94de646f7b6041228ca7dec82adb97d2</td>\n",
       "      <td>288</td>\n",
       "      <td>{'amount': 0.33}</td>\n",
       "    </tr>\n",
       "    <tr>\n",
       "      <th>104013</th>\n",
       "      <td>transaction</td>\n",
       "      <td>94de646f7b6041228ca7dec82adb97d2</td>\n",
       "      <td>294</td>\n",
       "      <td>{'amount': 1.0}</td>\n",
       "    </tr>\n",
       "    <tr>\n",
       "      <th>109101</th>\n",
       "      <td>transaction</td>\n",
       "      <td>94de646f7b6041228ca7dec82adb97d2</td>\n",
       "      <td>324</td>\n",
       "      <td>{'amount': 2.98}</td>\n",
       "    </tr>\n",
       "    <tr>\n",
       "      <th>110041</th>\n",
       "      <td>transaction</td>\n",
       "      <td>94de646f7b6041228ca7dec82adb97d2</td>\n",
       "      <td>330</td>\n",
       "      <td>{'amount': 0.52}</td>\n",
       "    </tr>\n",
       "    <tr>\n",
       "      <th>113102</th>\n",
       "      <td>offer received</td>\n",
       "      <td>94de646f7b6041228ca7dec82adb97d2</td>\n",
       "      <td>336</td>\n",
       "      <td>{'offer id': '0b1e1539f2cc45b7b9fa7c272da2e1d7'}</td>\n",
       "    </tr>\n",
       "    <tr>\n",
       "      <th>152891</th>\n",
       "      <td>offer received</td>\n",
       "      <td>94de646f7b6041228ca7dec82adb97d2</td>\n",
       "      <td>408</td>\n",
       "      <td>{'offer id': 'fafdcd668e3743c1bb461111dcafc2a4'}</td>\n",
       "    </tr>\n",
       "    <tr>\n",
       "      <th>164148</th>\n",
       "      <td>offer viewed</td>\n",
       "      <td>94de646f7b6041228ca7dec82adb97d2</td>\n",
       "      <td>408</td>\n",
       "      <td>{'offer id': 'fafdcd668e3743c1bb461111dcafc2a4'}</td>\n",
       "    </tr>\n",
       "    <tr>\n",
       "      <th>168269</th>\n",
       "      <td>transaction</td>\n",
       "      <td>94de646f7b6041228ca7dec82adb97d2</td>\n",
       "      <td>414</td>\n",
       "      <td>{'amount': 9.66}</td>\n",
       "    </tr>\n",
       "    <tr>\n",
       "      <th>171735</th>\n",
       "      <td>transaction</td>\n",
       "      <td>94de646f7b6041228ca7dec82adb97d2</td>\n",
       "      <td>420</td>\n",
       "      <td>{'amount': 1.35}</td>\n",
       "    </tr>\n",
       "    <tr>\n",
       "      <th>171736</th>\n",
       "      <td>offer completed</td>\n",
       "      <td>94de646f7b6041228ca7dec82adb97d2</td>\n",
       "      <td>420</td>\n",
       "      <td>{'offer_id': 'fafdcd668e3743c1bb461111dcafc2a4...</td>\n",
       "    </tr>\n",
       "    <tr>\n",
       "      <th>177767</th>\n",
       "      <td>transaction</td>\n",
       "      <td>94de646f7b6041228ca7dec82adb97d2</td>\n",
       "      <td>432</td>\n",
       "      <td>{'amount': 1.8399999999999999}</td>\n",
       "    </tr>\n",
       "    <tr>\n",
       "      <th>180401</th>\n",
       "      <td>transaction</td>\n",
       "      <td>94de646f7b6041228ca7dec82adb97d2</td>\n",
       "      <td>438</td>\n",
       "      <td>{'amount': 0.93}</td>\n",
       "    </tr>\n",
       "    <tr>\n",
       "      <th>185283</th>\n",
       "      <td>transaction</td>\n",
       "      <td>94de646f7b6041228ca7dec82adb97d2</td>\n",
       "      <td>450</td>\n",
       "      <td>{'amount': 2.79}</td>\n",
       "    </tr>\n",
       "    <tr>\n",
       "      <th>187480</th>\n",
       "      <td>transaction</td>\n",
       "      <td>94de646f7b6041228ca7dec82adb97d2</td>\n",
       "      <td>456</td>\n",
       "      <td>{'amount': 1.7000000000000002}</td>\n",
       "    </tr>\n",
       "    <tr>\n",
       "      <th>193520</th>\n",
       "      <td>transaction</td>\n",
       "      <td>94de646f7b6041228ca7dec82adb97d2</td>\n",
       "      <td>474</td>\n",
       "      <td>{'amount': 0.99}</td>\n",
       "    </tr>\n",
       "    <tr>\n",
       "      <th>198779</th>\n",
       "      <td>transaction</td>\n",
       "      <td>94de646f7b6041228ca7dec82adb97d2</td>\n",
       "      <td>492</td>\n",
       "      <td>{'amount': 1.4}</td>\n",
       "    </tr>\n",
       "    <tr>\n",
       "      <th>198780</th>\n",
       "      <td>offer completed</td>\n",
       "      <td>94de646f7b6041228ca7dec82adb97d2</td>\n",
       "      <td>492</td>\n",
       "      <td>{'offer_id': '0b1e1539f2cc45b7b9fa7c272da2e1d7...</td>\n",
       "    </tr>\n",
       "    <tr>\n",
       "      <th>203846</th>\n",
       "      <td>offer received</td>\n",
       "      <td>94de646f7b6041228ca7dec82adb97d2</td>\n",
       "      <td>504</td>\n",
       "      <td>{'offer id': '9b98b8c7a33c4b65b9aebfe6a799e6d9'}</td>\n",
       "    </tr>\n",
       "    <tr>\n",
       "      <th>222483</th>\n",
       "      <td>offer viewed</td>\n",
       "      <td>94de646f7b6041228ca7dec82adb97d2</td>\n",
       "      <td>516</td>\n",
       "      <td>{'offer id': '9b98b8c7a33c4b65b9aebfe6a799e6d9'}</td>\n",
       "    </tr>\n",
       "    <tr>\n",
       "      <th>222484</th>\n",
       "      <td>transaction</td>\n",
       "      <td>94de646f7b6041228ca7dec82adb97d2</td>\n",
       "      <td>516</td>\n",
       "      <td>{'amount': 0.27}</td>\n",
       "    </tr>\n",
       "    <tr>\n",
       "      <th>235588</th>\n",
       "      <td>transaction</td>\n",
       "      <td>94de646f7b6041228ca7dec82adb97d2</td>\n",
       "      <td>546</td>\n",
       "      <td>{'amount': 1.02}</td>\n",
       "    </tr>\n",
       "    <tr>\n",
       "      <th>237713</th>\n",
       "      <td>transaction</td>\n",
       "      <td>94de646f7b6041228ca7dec82adb97d2</td>\n",
       "      <td>552</td>\n",
       "      <td>{'amount': 2.7}</td>\n",
       "    </tr>\n",
       "    <tr>\n",
       "      <th>247375</th>\n",
       "      <td>offer received</td>\n",
       "      <td>94de646f7b6041228ca7dec82adb97d2</td>\n",
       "      <td>576</td>\n",
       "      <td>{'offer id': '4d5c57ea9a6940dd891ad53e9dbe8da0'}</td>\n",
       "    </tr>\n",
       "    <tr>\n",
       "      <th>258696</th>\n",
       "      <td>transaction</td>\n",
       "      <td>94de646f7b6041228ca7dec82adb97d2</td>\n",
       "      <td>576</td>\n",
       "      <td>{'amount': 4.13}</td>\n",
       "    </tr>\n",
       "    <tr>\n",
       "      <th>266174</th>\n",
       "      <td>transaction</td>\n",
       "      <td>94de646f7b6041228ca7dec82adb97d2</td>\n",
       "      <td>588</td>\n",
       "      <td>{'amount': 0.31}</td>\n",
       "    </tr>\n",
       "    <tr>\n",
       "      <th>275001</th>\n",
       "      <td>transaction</td>\n",
       "      <td>94de646f7b6041228ca7dec82adb97d2</td>\n",
       "      <td>606</td>\n",
       "      <td>{'amount': 5.64}</td>\n",
       "    </tr>\n",
       "    <tr>\n",
       "      <th>275002</th>\n",
       "      <td>offer completed</td>\n",
       "      <td>94de646f7b6041228ca7dec82adb97d2</td>\n",
       "      <td>606</td>\n",
       "      <td>{'offer_id': '9b98b8c7a33c4b65b9aebfe6a799e6d9...</td>\n",
       "    </tr>\n",
       "    <tr>\n",
       "      <th>282196</th>\n",
       "      <td>offer viewed</td>\n",
       "      <td>94de646f7b6041228ca7dec82adb97d2</td>\n",
       "      <td>624</td>\n",
       "      <td>{'offer id': '4d5c57ea9a6940dd891ad53e9dbe8da0'}</td>\n",
       "    </tr>\n",
       "    <tr>\n",
       "      <th>282197</th>\n",
       "      <td>transaction</td>\n",
       "      <td>94de646f7b6041228ca7dec82adb97d2</td>\n",
       "      <td>624</td>\n",
       "      <td>{'amount': 6.18}</td>\n",
       "    </tr>\n",
       "    <tr>\n",
       "      <th>293425</th>\n",
       "      <td>transaction</td>\n",
       "      <td>94de646f7b6041228ca7dec82adb97d2</td>\n",
       "      <td>660</td>\n",
       "      <td>{'amount': 1.78}</td>\n",
       "    </tr>\n",
       "    <tr>\n",
       "      <th>295012</th>\n",
       "      <td>transaction</td>\n",
       "      <td>94de646f7b6041228ca7dec82adb97d2</td>\n",
       "      <td>666</td>\n",
       "      <td>{'amount': 0.41000000000000003}</td>\n",
       "    </tr>\n",
       "    <tr>\n",
       "      <th>298164</th>\n",
       "      <td>transaction</td>\n",
       "      <td>94de646f7b6041228ca7dec82adb97d2</td>\n",
       "      <td>678</td>\n",
       "      <td>{'amount': 0.42}</td>\n",
       "    </tr>\n",
       "    <tr>\n",
       "      <th>300877</th>\n",
       "      <td>transaction</td>\n",
       "      <td>94de646f7b6041228ca7dec82adb97d2</td>\n",
       "      <td>690</td>\n",
       "      <td>{'amount': 0.73}</td>\n",
       "    </tr>\n",
       "    <tr>\n",
       "      <th>302162</th>\n",
       "      <td>transaction</td>\n",
       "      <td>94de646f7b6041228ca7dec82adb97d2</td>\n",
       "      <td>696</td>\n",
       "      <td>{'amount': 4.96}</td>\n",
       "    </tr>\n",
       "    <tr>\n",
       "      <th>303445</th>\n",
       "      <td>transaction</td>\n",
       "      <td>94de646f7b6041228ca7dec82adb97d2</td>\n",
       "      <td>702</td>\n",
       "      <td>{'amount': 0.9}</td>\n",
       "    </tr>\n",
       "  </tbody>\n",
       "</table>\n",
       "</div>"
      ],
      "text/plain": [
       "                  event                            person  time  \\\n",
       "2276     offer received  94de646f7b6041228ca7dec82adb97d2     0   \n",
       "16010      offer viewed  94de646f7b6041228ca7dec82adb97d2     6   \n",
       "24531       transaction  94de646f7b6041228ca7dec82adb97d2    30   \n",
       "24532   offer completed  94de646f7b6041228ca7dec82adb97d2    30   \n",
       "42252       transaction  94de646f7b6041228ca7dec82adb97d2   102   \n",
       "55475    offer received  94de646f7b6041228ca7dec82adb97d2   168   \n",
       "75256      offer viewed  94de646f7b6041228ca7dec82adb97d2   186   \n",
       "77624       transaction  94de646f7b6041228ca7dec82adb97d2   192   \n",
       "81725       transaction  94de646f7b6041228ca7dec82adb97d2   204   \n",
       "93913       transaction  94de646f7b6041228ca7dec82adb97d2   246   \n",
       "96627       transaction  94de646f7b6041228ca7dec82adb97d2   258   \n",
       "97913       transaction  94de646f7b6041228ca7dec82adb97d2   264   \n",
       "99190       transaction  94de646f7b6041228ca7dec82adb97d2   270   \n",
       "99191   offer completed  94de646f7b6041228ca7dec82adb97d2   270   \n",
       "100437      transaction  94de646f7b6041228ca7dec82adb97d2   276   \n",
       "101667      transaction  94de646f7b6041228ca7dec82adb97d2   282   \n",
       "102890      transaction  94de646f7b6041228ca7dec82adb97d2   288   \n",
       "104013      transaction  94de646f7b6041228ca7dec82adb97d2   294   \n",
       "109101      transaction  94de646f7b6041228ca7dec82adb97d2   324   \n",
       "110041      transaction  94de646f7b6041228ca7dec82adb97d2   330   \n",
       "113102   offer received  94de646f7b6041228ca7dec82adb97d2   336   \n",
       "152891   offer received  94de646f7b6041228ca7dec82adb97d2   408   \n",
       "164148     offer viewed  94de646f7b6041228ca7dec82adb97d2   408   \n",
       "168269      transaction  94de646f7b6041228ca7dec82adb97d2   414   \n",
       "171735      transaction  94de646f7b6041228ca7dec82adb97d2   420   \n",
       "171736  offer completed  94de646f7b6041228ca7dec82adb97d2   420   \n",
       "177767      transaction  94de646f7b6041228ca7dec82adb97d2   432   \n",
       "180401      transaction  94de646f7b6041228ca7dec82adb97d2   438   \n",
       "185283      transaction  94de646f7b6041228ca7dec82adb97d2   450   \n",
       "187480      transaction  94de646f7b6041228ca7dec82adb97d2   456   \n",
       "193520      transaction  94de646f7b6041228ca7dec82adb97d2   474   \n",
       "198779      transaction  94de646f7b6041228ca7dec82adb97d2   492   \n",
       "198780  offer completed  94de646f7b6041228ca7dec82adb97d2   492   \n",
       "203846   offer received  94de646f7b6041228ca7dec82adb97d2   504   \n",
       "222483     offer viewed  94de646f7b6041228ca7dec82adb97d2   516   \n",
       "222484      transaction  94de646f7b6041228ca7dec82adb97d2   516   \n",
       "235588      transaction  94de646f7b6041228ca7dec82adb97d2   546   \n",
       "237713      transaction  94de646f7b6041228ca7dec82adb97d2   552   \n",
       "247375   offer received  94de646f7b6041228ca7dec82adb97d2   576   \n",
       "258696      transaction  94de646f7b6041228ca7dec82adb97d2   576   \n",
       "266174      transaction  94de646f7b6041228ca7dec82adb97d2   588   \n",
       "275001      transaction  94de646f7b6041228ca7dec82adb97d2   606   \n",
       "275002  offer completed  94de646f7b6041228ca7dec82adb97d2   606   \n",
       "282196     offer viewed  94de646f7b6041228ca7dec82adb97d2   624   \n",
       "282197      transaction  94de646f7b6041228ca7dec82adb97d2   624   \n",
       "293425      transaction  94de646f7b6041228ca7dec82adb97d2   660   \n",
       "295012      transaction  94de646f7b6041228ca7dec82adb97d2   666   \n",
       "298164      transaction  94de646f7b6041228ca7dec82adb97d2   678   \n",
       "300877      transaction  94de646f7b6041228ca7dec82adb97d2   690   \n",
       "302162      transaction  94de646f7b6041228ca7dec82adb97d2   696   \n",
       "303445      transaction  94de646f7b6041228ca7dec82adb97d2   702   \n",
       "\n",
       "                                                    value  \n",
       "2276     {'offer id': 'f19421c1d4aa40978ebb69ca19b0e20d'}  \n",
       "16010    {'offer id': 'f19421c1d4aa40978ebb69ca19b0e20d'}  \n",
       "24531                                    {'amount': 7.41}  \n",
       "24532   {'offer_id': 'f19421c1d4aa40978ebb69ca19b0e20d...  \n",
       "42252                                    {'amount': 1.47}  \n",
       "55475    {'offer id': '9b98b8c7a33c4b65b9aebfe6a799e6d9'}  \n",
       "75256    {'offer id': '9b98b8c7a33c4b65b9aebfe6a799e6d9'}  \n",
       "77624                                    {'amount': 2.62}  \n",
       "81725                                    {'amount': 0.59}  \n",
       "93913                      {'amount': 2.2800000000000002}  \n",
       "96627                                    {'amount': 1.56}  \n",
       "97913                                    {'amount': 2.74}  \n",
       "99190                                    {'amount': 6.98}  \n",
       "99191   {'offer_id': '9b98b8c7a33c4b65b9aebfe6a799e6d9...  \n",
       "100437                                   {'amount': 5.87}  \n",
       "101667                                   {'amount': 3.77}  \n",
       "102890                                   {'amount': 0.33}  \n",
       "104013                                    {'amount': 1.0}  \n",
       "109101                                   {'amount': 2.98}  \n",
       "110041                                   {'amount': 0.52}  \n",
       "113102   {'offer id': '0b1e1539f2cc45b7b9fa7c272da2e1d7'}  \n",
       "152891   {'offer id': 'fafdcd668e3743c1bb461111dcafc2a4'}  \n",
       "164148   {'offer id': 'fafdcd668e3743c1bb461111dcafc2a4'}  \n",
       "168269                                   {'amount': 9.66}  \n",
       "171735                                   {'amount': 1.35}  \n",
       "171736  {'offer_id': 'fafdcd668e3743c1bb461111dcafc2a4...  \n",
       "177767                     {'amount': 1.8399999999999999}  \n",
       "180401                                   {'amount': 0.93}  \n",
       "185283                                   {'amount': 2.79}  \n",
       "187480                     {'amount': 1.7000000000000002}  \n",
       "193520                                   {'amount': 0.99}  \n",
       "198779                                    {'amount': 1.4}  \n",
       "198780  {'offer_id': '0b1e1539f2cc45b7b9fa7c272da2e1d7...  \n",
       "203846   {'offer id': '9b98b8c7a33c4b65b9aebfe6a799e6d9'}  \n",
       "222483   {'offer id': '9b98b8c7a33c4b65b9aebfe6a799e6d9'}  \n",
       "222484                                   {'amount': 0.27}  \n",
       "235588                                   {'amount': 1.02}  \n",
       "237713                                    {'amount': 2.7}  \n",
       "247375   {'offer id': '4d5c57ea9a6940dd891ad53e9dbe8da0'}  \n",
       "258696                                   {'amount': 4.13}  \n",
       "266174                                   {'amount': 0.31}  \n",
       "275001                                   {'amount': 5.64}  \n",
       "275002  {'offer_id': '9b98b8c7a33c4b65b9aebfe6a799e6d9...  \n",
       "282196   {'offer id': '4d5c57ea9a6940dd891ad53e9dbe8da0'}  \n",
       "282197                                   {'amount': 6.18}  \n",
       "293425                                   {'amount': 1.78}  \n",
       "295012                    {'amount': 0.41000000000000003}  \n",
       "298164                                   {'amount': 0.42}  \n",
       "300877                                   {'amount': 0.73}  \n",
       "302162                                   {'amount': 4.96}  \n",
       "303445                                    {'amount': 0.9}  "
      ]
     },
     "execution_count": 13,
     "metadata": {},
     "output_type": "execute_result"
    }
   ],
   "source": [
    "transcripts_top_customer = transcript[transcript.person == '94de646f7b6041228ca7dec82adb97d2']\n",
    "print(\"transcripts_top_customer: Rows = {0}, Columns = {1}\".format(str(transcripts_top_customer.shape[0]), str(transcripts_top_customer.shape[1])))\n",
    "transcripts_top_customer"
   ]
  },
  {
   "cell_type": "code",
   "execution_count": 14,
   "metadata": {},
   "outputs": [
    {
     "data": {
      "text/plain": [
       "<matplotlib.figure.Figure at 0x7fcdebe59400>"
      ]
     },
     "metadata": {},
     "output_type": "display_data"
    },
    {
     "data": {
      "image/png": "[encoded data removed]",
      "text/plain": [
       "<matplotlib.figure.Figure at 0x7fcde0702e48>"
      ]
     },
     "metadata": {
      "needs_background": "light"
     },
     "output_type": "display_data"
    }
   ],
   "source": [
    "HorizontalBarPlot(transcript, 'event', \"Break-down of available event types in transcript\")"
   ]
  },
  {
   "cell_type": "markdown",
   "metadata": {},
   "source": [
    "## 1.2. Exploring the profile dataframe"
   ]
  },
  {
   "cell_type": "code",
   "execution_count": 15,
   "metadata": {},
   "outputs": [
    {
     "data": {
      "text/html": [
       "<div>\n",
       "<style scoped>\n",
       "    .dataframe tbody tr th:only-of-type {\n",
       "        vertical-align: middle;\n",
       "    }\n",
       "\n",
       "    .dataframe tbody tr th {\n",
       "        vertical-align: top;\n",
       "    }\n",
       "\n",
       "    .dataframe thead th {\n",
       "        text-align: right;\n",
       "    }\n",
       "</style>\n",
       "<table border=\"1\" class=\"dataframe\">\n",
       "  <thead>\n",
       "    <tr style=\"text-align: right;\">\n",
       "      <th></th>\n",
       "      <th>age</th>\n",
       "      <th>became_member_on</th>\n",
       "      <th>gender</th>\n",
       "      <th>id</th>\n",
       "      <th>income</th>\n",
       "    </tr>\n",
       "  </thead>\n",
       "  <tbody>\n",
       "    <tr>\n",
       "      <th>0</th>\n",
       "      <td>118</td>\n",
       "      <td>20170212</td>\n",
       "      <td>None</td>\n",
       "      <td>68be06ca386d4c31939f3a4f0e3dd783</td>\n",
       "      <td>NaN</td>\n",
       "    </tr>\n",
       "    <tr>\n",
       "      <th>1</th>\n",
       "      <td>55</td>\n",
       "      <td>20170715</td>\n",
       "      <td>F</td>\n",
       "      <td>0610b486422d4921ae7d2bf64640c50b</td>\n",
       "      <td>112000.0</td>\n",
       "    </tr>\n",
       "    <tr>\n",
       "      <th>2</th>\n",
       "      <td>118</td>\n",
       "      <td>20180712</td>\n",
       "      <td>None</td>\n",
       "      <td>38fe809add3b4fcf9315a9694bb96ff5</td>\n",
       "      <td>NaN</td>\n",
       "    </tr>\n",
       "    <tr>\n",
       "      <th>3</th>\n",
       "      <td>75</td>\n",
       "      <td>20170509</td>\n",
       "      <td>F</td>\n",
       "      <td>78afa995795e4d85b5d9ceeca43f5fef</td>\n",
       "      <td>100000.0</td>\n",
       "    </tr>\n",
       "    <tr>\n",
       "      <th>4</th>\n",
       "      <td>118</td>\n",
       "      <td>20170804</td>\n",
       "      <td>None</td>\n",
       "      <td>a03223e636434f42ac4c3df47e8bac43</td>\n",
       "      <td>NaN</td>\n",
       "    </tr>\n",
       "  </tbody>\n",
       "</table>\n",
       "</div>"
      ],
      "text/plain": [
       "   age  became_member_on gender                                id    income\n",
       "0  118          20170212   None  68be06ca386d4c31939f3a4f0e3dd783       NaN\n",
       "1   55          20170715      F  0610b486422d4921ae7d2bf64640c50b  112000.0\n",
       "2  118          20180712   None  38fe809add3b4fcf9315a9694bb96ff5       NaN\n",
       "3   75          20170509      F  78afa995795e4d85b5d9ceeca43f5fef  100000.0\n",
       "4  118          20170804   None  a03223e636434f42ac4c3df47e8bac43       NaN"
      ]
     },
     "execution_count": 15,
     "metadata": {},
     "output_type": "execute_result"
    }
   ],
   "source": [
    "profile.head()"
   ]
  },
  {
   "cell_type": "code",
   "execution_count": 16,
   "metadata": {},
   "outputs": [
    {
     "name": "stdout",
     "output_type": "stream",
     "text": [
      "profile: Rows = 17000, Columns = 5\n"
     ]
    }
   ],
   "source": [
    "print(\"profile: Rows = {0}, Columns = {1}\".format(str(profile.shape[0]), str(profile.shape[1])))"
   ]
  },
  {
   "cell_type": "code",
   "execution_count": 17,
   "metadata": {},
   "outputs": [
    {
     "data": {
      "text/html": [
       "<div>\n",
       "<style scoped>\n",
       "    .dataframe tbody tr th:only-of-type {\n",
       "        vertical-align: middle;\n",
       "    }\n",
       "\n",
       "    .dataframe tbody tr th {\n",
       "        vertical-align: top;\n",
       "    }\n",
       "\n",
       "    .dataframe thead th {\n",
       "        text-align: right;\n",
       "    }\n",
       "</style>\n",
       "<table border=\"1\" class=\"dataframe\">\n",
       "  <thead>\n",
       "    <tr style=\"text-align: right;\">\n",
       "      <th></th>\n",
       "      <th>age</th>\n",
       "      <th>became_member_on</th>\n",
       "      <th>gender</th>\n",
       "      <th>id</th>\n",
       "      <th>income</th>\n",
       "    </tr>\n",
       "  </thead>\n",
       "  <tbody>\n",
       "    <tr>\n",
       "      <th>count</th>\n",
       "      <td>17000.000000</td>\n",
       "      <td>1.700000e+04</td>\n",
       "      <td>14825</td>\n",
       "      <td>17000</td>\n",
       "      <td>14825.000000</td>\n",
       "    </tr>\n",
       "    <tr>\n",
       "      <th>unique</th>\n",
       "      <td>NaN</td>\n",
       "      <td>NaN</td>\n",
       "      <td>3</td>\n",
       "      <td>17000</td>\n",
       "      <td>NaN</td>\n",
       "    </tr>\n",
       "    <tr>\n",
       "      <th>top</th>\n",
       "      <td>NaN</td>\n",
       "      <td>NaN</td>\n",
       "      <td>M</td>\n",
       "      <td>86114b8f1921463f8991c68520ccf5c4</td>\n",
       "      <td>NaN</td>\n",
       "    </tr>\n",
       "    <tr>\n",
       "      <th>freq</th>\n",
       "      <td>NaN</td>\n",
       "      <td>NaN</td>\n",
       "      <td>8484</td>\n",
       "      <td>1</td>\n",
       "      <td>NaN</td>\n",
       "    </tr>\n",
       "    <tr>\n",
       "      <th>mean</th>\n",
       "      <td>62.531412</td>\n",
       "      <td>2.016703e+07</td>\n",
       "      <td>NaN</td>\n",
       "      <td>NaN</td>\n",
       "      <td>65404.991568</td>\n",
       "    </tr>\n",
       "    <tr>\n",
       "      <th>std</th>\n",
       "      <td>26.738580</td>\n",
       "      <td>1.167750e+04</td>\n",
       "      <td>NaN</td>\n",
       "      <td>NaN</td>\n",
       "      <td>21598.299410</td>\n",
       "    </tr>\n",
       "    <tr>\n",
       "      <th>min</th>\n",
       "      <td>18.000000</td>\n",
       "      <td>2.013073e+07</td>\n",
       "      <td>NaN</td>\n",
       "      <td>NaN</td>\n",
       "      <td>30000.000000</td>\n",
       "    </tr>\n",
       "    <tr>\n",
       "      <th>25%</th>\n",
       "      <td>45.000000</td>\n",
       "      <td>2.016053e+07</td>\n",
       "      <td>NaN</td>\n",
       "      <td>NaN</td>\n",
       "      <td>49000.000000</td>\n",
       "    </tr>\n",
       "    <tr>\n",
       "      <th>50%</th>\n",
       "      <td>58.000000</td>\n",
       "      <td>2.017080e+07</td>\n",
       "      <td>NaN</td>\n",
       "      <td>NaN</td>\n",
       "      <td>64000.000000</td>\n",
       "    </tr>\n",
       "    <tr>\n",
       "      <th>75%</th>\n",
       "      <td>73.000000</td>\n",
       "      <td>2.017123e+07</td>\n",
       "      <td>NaN</td>\n",
       "      <td>NaN</td>\n",
       "      <td>80000.000000</td>\n",
       "    </tr>\n",
       "    <tr>\n",
       "      <th>max</th>\n",
       "      <td>118.000000</td>\n",
       "      <td>2.018073e+07</td>\n",
       "      <td>NaN</td>\n",
       "      <td>NaN</td>\n",
       "      <td>120000.000000</td>\n",
       "    </tr>\n",
       "  </tbody>\n",
       "</table>\n",
       "</div>"
      ],
      "text/plain": [
       "                 age  became_member_on gender  \\\n",
       "count   17000.000000      1.700000e+04  14825   \n",
       "unique           NaN               NaN      3   \n",
       "top              NaN               NaN      M   \n",
       "freq             NaN               NaN   8484   \n",
       "mean       62.531412      2.016703e+07    NaN   \n",
       "std        26.738580      1.167750e+04    NaN   \n",
       "min        18.000000      2.013073e+07    NaN   \n",
       "25%        45.000000      2.016053e+07    NaN   \n",
       "50%        58.000000      2.017080e+07    NaN   \n",
       "75%        73.000000      2.017123e+07    NaN   \n",
       "max       118.000000      2.018073e+07    NaN   \n",
       "\n",
       "                                      id         income  \n",
       "count                              17000   14825.000000  \n",
       "unique                             17000            NaN  \n",
       "top     86114b8f1921463f8991c68520ccf5c4            NaN  \n",
       "freq                                   1            NaN  \n",
       "mean                                 NaN   65404.991568  \n",
       "std                                  NaN   21598.299410  \n",
       "min                                  NaN   30000.000000  \n",
       "25%                                  NaN   49000.000000  \n",
       "50%                                  NaN   64000.000000  \n",
       "75%                                  NaN   80000.000000  \n",
       "max                                  NaN  120000.000000  "
      ]
     },
     "execution_count": 17,
     "metadata": {},
     "output_type": "execute_result"
    }
   ],
   "source": [
    "profile.describe(include=\"all\")"
   ]
  },
  {
   "cell_type": "markdown",
   "metadata": {},
   "source": [
    "### 1.2.1. Gender counts in the profile dataframe"
   ]
  },
  {
   "cell_type": "code",
   "execution_count": 18,
   "metadata": {},
   "outputs": [
    {
     "data": {
      "text/plain": [
       "<matplotlib.figure.Figure at 0x7fcde071fa20>"
      ]
     },
     "metadata": {},
     "output_type": "display_data"
    },
    {
     "data": {
      "image/png": "[encoded data removed]",
      "text/plain": [
       "<matplotlib.figure.Figure at 0x7fcde06871d0>"
      ]
     },
     "metadata": {
      "needs_background": "light"
     },
     "output_type": "display_data"
    }
   ],
   "source": [
    "HorizontalBarPlot(profile, 'gender', \"Gender counts in profile\")"
   ]
  },
  {
   "cell_type": "code",
   "execution_count": 19,
   "metadata": {},
   "outputs": [],
   "source": [
    "#Function: Exploded Pie Plot\n",
    "def PiePlot(df, pltTitle, pltColors=[], pltLabels=[], pltExplode=(), pltFigSize=[8, 8]):\n",
    "    plt.figure(figsize=[8, 8])\n",
    "    pltValues = df['gender'].value_counts()\n",
    "    colors = pltColors\n",
    "    labels = pltLabels\n",
    "    explode = pltExplode # if (0.1, 0, 0) then explode 1st slice by 10% and dont explode 2nd and 3rd slizes\n",
    "    plt.pie(pltValues, colors=pltColors, labels=pltLabels, explode=pltExplode, autopct='%1.2f%%', counterclock=False, shadow=True)\n",
    "    plt.title(pltTitle)"
   ]
  },
  {
   "cell_type": "code",
   "execution_count": 20,
   "metadata": {},
   "outputs": [
    {
     "data": {
      "image/png": "[encoded data removed]",
      "text/plain": [
       "<matplotlib.figure.Figure at 0x7fcde0673b70>"
      ]
     },
     "metadata": {},
     "output_type": "display_data"
    }
   ],
   "source": [
    "PiePlot(profile, 'Gender counts in the profile dataframe', ['blue', 'darkorange', 'green'], ['Male', 'Female', 'Other'], (0.1, 0, 0))"
   ]
  },
  {
   "cell_type": "markdown",
   "metadata": {},
   "source": [
    "# 2. Data Preparation and Cleaning\n",
    "### 2.1 Check if there are customers who have not transacted at all."
   ]
  },
  {
   "cell_type": "code",
   "execution_count": 21,
   "metadata": {},
   "outputs": [
    {
     "name": "stdout",
     "output_type": "stream",
     "text": [
      "transactions: Rows = 138953, Columns = 4\n"
     ]
    }
   ],
   "source": [
    "#Create the transactions dataframe with only all user transactions i.e. with \"transaction\" event\n",
    "transactions = transcript.loc[transcript.event == \"transaction\"]\n",
    "print(\"transactions: Rows = {0}, Columns = {1}\".format(str(transactions.shape[0]), str(transactions.shape[1])))"
   ]
  },
  {
   "cell_type": "code",
   "execution_count": 22,
   "metadata": {},
   "outputs": [
    {
     "data": {
      "text/html": [
       "<div>\n",
       "<style scoped>\n",
       "    .dataframe tbody tr th:only-of-type {\n",
       "        vertical-align: middle;\n",
       "    }\n",
       "\n",
       "    .dataframe tbody tr th {\n",
       "        vertical-align: top;\n",
       "    }\n",
       "\n",
       "    .dataframe thead th {\n",
       "        text-align: right;\n",
       "    }\n",
       "</style>\n",
       "<table border=\"1\" class=\"dataframe\">\n",
       "  <thead>\n",
       "    <tr style=\"text-align: right;\">\n",
       "      <th></th>\n",
       "      <th>event</th>\n",
       "      <th>person</th>\n",
       "      <th>time</th>\n",
       "      <th>value</th>\n",
       "    </tr>\n",
       "  </thead>\n",
       "  <tbody>\n",
       "    <tr>\n",
       "      <th>12654</th>\n",
       "      <td>transaction</td>\n",
       "      <td>02c083884c7d45b39cc68e1314fec56c</td>\n",
       "      <td>0</td>\n",
       "      <td>{'amount': 0.8300000000000001}</td>\n",
       "    </tr>\n",
       "    <tr>\n",
       "      <th>12657</th>\n",
       "      <td>transaction</td>\n",
       "      <td>9fa9ae8f57894cc9a3b8a9bbe0fc1b2f</td>\n",
       "      <td>0</td>\n",
       "      <td>{'amount': 34.56}</td>\n",
       "    </tr>\n",
       "    <tr>\n",
       "      <th>12659</th>\n",
       "      <td>transaction</td>\n",
       "      <td>54890f68699049c2a04d415abc25e717</td>\n",
       "      <td>0</td>\n",
       "      <td>{'amount': 13.23}</td>\n",
       "    </tr>\n",
       "    <tr>\n",
       "      <th>12670</th>\n",
       "      <td>transaction</td>\n",
       "      <td>b2f1cd155b864803ad8334cdf13c4bd2</td>\n",
       "      <td>0</td>\n",
       "      <td>{'amount': 19.51}</td>\n",
       "    </tr>\n",
       "    <tr>\n",
       "      <th>12671</th>\n",
       "      <td>transaction</td>\n",
       "      <td>fe97aa22dd3e48c8b143116a8403dd52</td>\n",
       "      <td>0</td>\n",
       "      <td>{'amount': 18.97}</td>\n",
       "    </tr>\n",
       "  </tbody>\n",
       "</table>\n",
       "</div>"
      ],
      "text/plain": [
       "             event                            person  time  \\\n",
       "12654  transaction  02c083884c7d45b39cc68e1314fec56c     0   \n",
       "12657  transaction  9fa9ae8f57894cc9a3b8a9bbe0fc1b2f     0   \n",
       "12659  transaction  54890f68699049c2a04d415abc25e717     0   \n",
       "12670  transaction  b2f1cd155b864803ad8334cdf13c4bd2     0   \n",
       "12671  transaction  fe97aa22dd3e48c8b143116a8403dd52     0   \n",
       "\n",
       "                                value  \n",
       "12654  {'amount': 0.8300000000000001}  \n",
       "12657               {'amount': 34.56}  \n",
       "12659               {'amount': 13.23}  \n",
       "12670               {'amount': 19.51}  \n",
       "12671               {'amount': 18.97}  "
      ]
     },
     "execution_count": 22,
     "metadata": {},
     "output_type": "execute_result"
    }
   ],
   "source": [
    "transactions.head()"
   ]
  },
  {
   "cell_type": "code",
   "execution_count": 23,
   "metadata": {},
   "outputs": [
    {
     "name": "stdout",
     "output_type": "stream",
     "text": [
      "transacted_customers: Rows = 16578\n"
     ]
    }
   ],
   "source": [
    "#Create transacted_customers, a vector with all unique users who were involved in a transaction i.e. with \"transaction\" event\n",
    "transacted_customers = transactions.person.unique()\n",
    "print(\"transacted_customers: Rows = {0}\".format(str(transacted_customers.shape[0])))"
   ]
  },
  {
   "cell_type": "code",
   "execution_count": 24,
   "metadata": {},
   "outputs": [
    {
     "name": "stdout",
     "output_type": "stream",
     "text": [
      "All Existing Customers i.e. profile: Rows = 17000\n"
     ]
    }
   ],
   "source": [
    "#Check the size of the profile data\n",
    "print(\"All Existing Customers i.e. profile: Rows = {0}\".format(str(profile.shape[0])))"
   ]
  },
  {
   "cell_type": "markdown",
   "metadata": {},
   "source": [
    "### 2.1.1. We see that 17000 user profiles exists but only 16578 user profiles have a transaction with Starbucks application. We need to examine these users for their completed offers.\n",
    "\n",
    "### 2.1.2. Since there are 422 users who have not done any transactions using the App, let's subset the profile data to exclude these users so we can analyse only the transacted users."
   ]
  },
  {
   "cell_type": "code",
   "execution_count": 25,
   "metadata": {},
   "outputs": [],
   "source": [
    "# Function: Return a boolean to check if a customer has transacted using the App\n",
    "def HasCustomerTrasacted(cusId, transacted_customers):\n",
    "    return cusId in transacted_customers"
   ]
  },
  {
   "cell_type": "code",
   "execution_count": 26,
   "metadata": {},
   "outputs": [],
   "source": [
    "profile[\"has_transacted\"] = profile.apply(lambda x: HasCustomerTrasacted(x.id, transacted_customers),axis=1)"
   ]
  },
  {
   "cell_type": "code",
   "execution_count": 27,
   "metadata": {},
   "outputs": [
    {
     "data": {
      "text/html": [
       "<div>\n",
       "<style scoped>\n",
       "    .dataframe tbody tr th:only-of-type {\n",
       "        vertical-align: middle;\n",
       "    }\n",
       "\n",
       "    .dataframe tbody tr th {\n",
       "        vertical-align: top;\n",
       "    }\n",
       "\n",
       "    .dataframe thead th {\n",
       "        text-align: right;\n",
       "    }\n",
       "</style>\n",
       "<table border=\"1\" class=\"dataframe\">\n",
       "  <thead>\n",
       "    <tr style=\"text-align: right;\">\n",
       "      <th></th>\n",
       "      <th>age</th>\n",
       "      <th>became_member_on</th>\n",
       "      <th>gender</th>\n",
       "      <th>id</th>\n",
       "      <th>income</th>\n",
       "      <th>has_transacted</th>\n",
       "    </tr>\n",
       "  </thead>\n",
       "  <tbody>\n",
       "    <tr>\n",
       "      <th>0</th>\n",
       "      <td>118</td>\n",
       "      <td>20170212</td>\n",
       "      <td>None</td>\n",
       "      <td>68be06ca386d4c31939f3a4f0e3dd783</td>\n",
       "      <td>NaN</td>\n",
       "      <td>True</td>\n",
       "    </tr>\n",
       "    <tr>\n",
       "      <th>1</th>\n",
       "      <td>55</td>\n",
       "      <td>20170715</td>\n",
       "      <td>F</td>\n",
       "      <td>0610b486422d4921ae7d2bf64640c50b</td>\n",
       "      <td>112000.0</td>\n",
       "      <td>True</td>\n",
       "    </tr>\n",
       "    <tr>\n",
       "      <th>2</th>\n",
       "      <td>118</td>\n",
       "      <td>20180712</td>\n",
       "      <td>None</td>\n",
       "      <td>38fe809add3b4fcf9315a9694bb96ff5</td>\n",
       "      <td>NaN</td>\n",
       "      <td>True</td>\n",
       "    </tr>\n",
       "    <tr>\n",
       "      <th>3</th>\n",
       "      <td>75</td>\n",
       "      <td>20170509</td>\n",
       "      <td>F</td>\n",
       "      <td>78afa995795e4d85b5d9ceeca43f5fef</td>\n",
       "      <td>100000.0</td>\n",
       "      <td>True</td>\n",
       "    </tr>\n",
       "    <tr>\n",
       "      <th>4</th>\n",
       "      <td>118</td>\n",
       "      <td>20170804</td>\n",
       "      <td>None</td>\n",
       "      <td>a03223e636434f42ac4c3df47e8bac43</td>\n",
       "      <td>NaN</td>\n",
       "      <td>True</td>\n",
       "    </tr>\n",
       "  </tbody>\n",
       "</table>\n",
       "</div>"
      ],
      "text/plain": [
       "   age  became_member_on gender                                id    income  \\\n",
       "0  118          20170212   None  68be06ca386d4c31939f3a4f0e3dd783       NaN   \n",
       "1   55          20170715      F  0610b486422d4921ae7d2bf64640c50b  112000.0   \n",
       "2  118          20180712   None  38fe809add3b4fcf9315a9694bb96ff5       NaN   \n",
       "3   75          20170509      F  78afa995795e4d85b5d9ceeca43f5fef  100000.0   \n",
       "4  118          20170804   None  a03223e636434f42ac4c3df47e8bac43       NaN   \n",
       "\n",
       "   has_transacted  \n",
       "0            True  \n",
       "1            True  \n",
       "2            True  \n",
       "3            True  \n",
       "4            True  "
      ]
     },
     "execution_count": 27,
     "metadata": {},
     "output_type": "execute_result"
    }
   ],
   "source": [
    "profile.head()"
   ]
  },
  {
   "cell_type": "code",
   "execution_count": 28,
   "metadata": {},
   "outputs": [],
   "source": [
    "not_transacted = profile[profile.has_transacted == False]"
   ]
  },
  {
   "cell_type": "code",
   "execution_count": 29,
   "metadata": {},
   "outputs": [
    {
     "data": {
      "text/html": [
       "<div>\n",
       "<style scoped>\n",
       "    .dataframe tbody tr th:only-of-type {\n",
       "        vertical-align: middle;\n",
       "    }\n",
       "\n",
       "    .dataframe tbody tr th {\n",
       "        vertical-align: top;\n",
       "    }\n",
       "\n",
       "    .dataframe thead th {\n",
       "        text-align: right;\n",
       "    }\n",
       "</style>\n",
       "<table border=\"1\" class=\"dataframe\">\n",
       "  <thead>\n",
       "    <tr style=\"text-align: right;\">\n",
       "      <th></th>\n",
       "      <th>age</th>\n",
       "      <th>became_member_on</th>\n",
       "      <th>gender</th>\n",
       "      <th>id</th>\n",
       "      <th>income</th>\n",
       "      <th>has_transacted</th>\n",
       "    </tr>\n",
       "  </thead>\n",
       "  <tbody>\n",
       "    <tr>\n",
       "      <th>6</th>\n",
       "      <td>118</td>\n",
       "      <td>20170925</td>\n",
       "      <td>None</td>\n",
       "      <td>8ec6ce2a7e7949b1bf142def7d0e0586</td>\n",
       "      <td>NaN</td>\n",
       "      <td>False</td>\n",
       "    </tr>\n",
       "    <tr>\n",
       "      <th>90</th>\n",
       "      <td>70</td>\n",
       "      <td>20180613</td>\n",
       "      <td>F</td>\n",
       "      <td>13b7b2eccf664a329d83d2a238a9a11d</td>\n",
       "      <td>74000.0</td>\n",
       "      <td>False</td>\n",
       "    </tr>\n",
       "    <tr>\n",
       "      <th>92</th>\n",
       "      <td>62</td>\n",
       "      <td>20180410</td>\n",
       "      <td>F</td>\n",
       "      <td>ffc6c9fbe34b4578911dcdf6745b4c74</td>\n",
       "      <td>57000.0</td>\n",
       "      <td>False</td>\n",
       "    </tr>\n",
       "    <tr>\n",
       "      <th>202</th>\n",
       "      <td>81</td>\n",
       "      <td>20180503</td>\n",
       "      <td>M</td>\n",
       "      <td>accec36a10704e1fbaeb9b28b8bc5da8</td>\n",
       "      <td>93000.0</td>\n",
       "      <td>False</td>\n",
       "    </tr>\n",
       "    <tr>\n",
       "      <th>219</th>\n",
       "      <td>79</td>\n",
       "      <td>20180711</td>\n",
       "      <td>F</td>\n",
       "      <td>688e4f2487d44ad8bbcc0f96936f42d6</td>\n",
       "      <td>106000.0</td>\n",
       "      <td>False</td>\n",
       "    </tr>\n",
       "  </tbody>\n",
       "</table>\n",
       "</div>"
      ],
      "text/plain": [
       "     age  became_member_on gender                                id    income  \\\n",
       "6    118          20170925   None  8ec6ce2a7e7949b1bf142def7d0e0586       NaN   \n",
       "90    70          20180613      F  13b7b2eccf664a329d83d2a238a9a11d   74000.0   \n",
       "92    62          20180410      F  ffc6c9fbe34b4578911dcdf6745b4c74   57000.0   \n",
       "202   81          20180503      M  accec36a10704e1fbaeb9b28b8bc5da8   93000.0   \n",
       "219   79          20180711      F  688e4f2487d44ad8bbcc0f96936f42d6  106000.0   \n",
       "\n",
       "     has_transacted  \n",
       "6             False  \n",
       "90            False  \n",
       "92            False  \n",
       "202           False  \n",
       "219           False  "
      ]
     },
     "execution_count": 29,
     "metadata": {},
     "output_type": "execute_result"
    }
   ],
   "source": [
    "not_transacted.head()"
   ]
  },
  {
   "cell_type": "code",
   "execution_count": 30,
   "metadata": {},
   "outputs": [
    {
     "data": {
      "text/plain": [
       "16578"
      ]
     },
     "execution_count": 30,
     "metadata": {},
     "output_type": "execute_result"
    }
   ],
   "source": [
    "profile_of_transacted_users = profile[profile[\"has_transacted\"]]\n",
    "profile_of_transacted_users.shape[0]"
   ]
  },
  {
   "cell_type": "code",
   "execution_count": 31,
   "metadata": {},
   "outputs": [
    {
     "data": {
      "text/plain": [
       "422"
      ]
     },
     "execution_count": 31,
     "metadata": {},
     "output_type": "execute_result"
    }
   ],
   "source": [
    "profile_of_no_transaction_users = profile[profile[\"has_transacted\"] == False]\n",
    "profile_of_no_transaction_users.shape[0]"
   ]
  },
  {
   "cell_type": "markdown",
   "metadata": {},
   "source": [
    "### 2.1.3. We see that both, \"profile_of_transacted_users\" and \"profile_of_no_transaction_users\" have some columns that have invalid values like, \n",
    "\n",
    "1. \"None\" in gender\n",
    "2. \"118\" in age\n",
    "3. \"NaN\" in income\n",
    "\n",
    "### Let's drop these rows."
   ]
  },
  {
   "cell_type": "code",
   "execution_count": 32,
   "metadata": {},
   "outputs": [
    {
     "data": {
      "text/plain": [
       "2086"
      ]
     },
     "execution_count": 32,
     "metadata": {},
     "output_type": "execute_result"
    }
   ],
   "source": [
    "profile_of_transacted_users[profile_of_transacted_users['age'] == 118].shape[0]"
   ]
  },
  {
   "cell_type": "code",
   "execution_count": 33,
   "metadata": {},
   "outputs": [
    {
     "data": {
      "text/plain": [
       "14492"
      ]
     },
     "execution_count": 33,
     "metadata": {},
     "output_type": "execute_result"
    }
   ],
   "source": [
    "profile_of_transacted_users_valid = profile_of_transacted_users.dropna(subset=['gender'])\n",
    "profile_of_transacted_users_valid .shape[0]"
   ]
  },
  {
   "cell_type": "code",
   "execution_count": 34,
   "metadata": {},
   "outputs": [
    {
     "data": {
      "text/plain": [
       "14492"
      ]
     },
     "execution_count": 34,
     "metadata": {},
     "output_type": "execute_result"
    }
   ],
   "source": [
    "profile_of_transacted_users_valid = profile_of_transacted_users_valid.dropna(how='all')\n",
    "profile_of_transacted_users_valid.shape[0]"
   ]
  },
  {
   "cell_type": "code",
   "execution_count": 35,
   "metadata": {},
   "outputs": [
    {
     "data": {
      "text/plain": [
       "0"
      ]
     },
     "execution_count": 35,
     "metadata": {},
     "output_type": "execute_result"
    }
   ],
   "source": [
    "profile_of_transacted_users_valid[profile_of_transacted_users_valid['age'] == 118].shape[0]"
   ]
  },
  {
   "cell_type": "code",
   "execution_count": 36,
   "metadata": {},
   "outputs": [
    {
     "data": {
      "text/html": [
       "<div>\n",
       "<style scoped>\n",
       "    .dataframe tbody tr th:only-of-type {\n",
       "        vertical-align: middle;\n",
       "    }\n",
       "\n",
       "    .dataframe tbody tr th {\n",
       "        vertical-align: top;\n",
       "    }\n",
       "\n",
       "    .dataframe thead th {\n",
       "        text-align: right;\n",
       "    }\n",
       "</style>\n",
       "<table border=\"1\" class=\"dataframe\">\n",
       "  <thead>\n",
       "    <tr style=\"text-align: right;\">\n",
       "      <th></th>\n",
       "      <th>age</th>\n",
       "      <th>became_member_on</th>\n",
       "      <th>gender</th>\n",
       "      <th>id</th>\n",
       "      <th>income</th>\n",
       "      <th>has_transacted</th>\n",
       "    </tr>\n",
       "  </thead>\n",
       "  <tbody>\n",
       "    <tr>\n",
       "      <th>1</th>\n",
       "      <td>55</td>\n",
       "      <td>20170715</td>\n",
       "      <td>F</td>\n",
       "      <td>0610b486422d4921ae7d2bf64640c50b</td>\n",
       "      <td>112000.0</td>\n",
       "      <td>True</td>\n",
       "    </tr>\n",
       "    <tr>\n",
       "      <th>3</th>\n",
       "      <td>75</td>\n",
       "      <td>20170509</td>\n",
       "      <td>F</td>\n",
       "      <td>78afa995795e4d85b5d9ceeca43f5fef</td>\n",
       "      <td>100000.0</td>\n",
       "      <td>True</td>\n",
       "    </tr>\n",
       "    <tr>\n",
       "      <th>5</th>\n",
       "      <td>68</td>\n",
       "      <td>20180426</td>\n",
       "      <td>M</td>\n",
       "      <td>e2127556f4f64592b11af22de27a7932</td>\n",
       "      <td>70000.0</td>\n",
       "      <td>True</td>\n",
       "    </tr>\n",
       "    <tr>\n",
       "      <th>8</th>\n",
       "      <td>65</td>\n",
       "      <td>20180209</td>\n",
       "      <td>M</td>\n",
       "      <td>389bc3fa690240e798340f5a15918d5c</td>\n",
       "      <td>53000.0</td>\n",
       "      <td>True</td>\n",
       "    </tr>\n",
       "    <tr>\n",
       "      <th>12</th>\n",
       "      <td>58</td>\n",
       "      <td>20171111</td>\n",
       "      <td>M</td>\n",
       "      <td>2eeac8d8feae4a8cad5a6af0499a211d</td>\n",
       "      <td>51000.0</td>\n",
       "      <td>True</td>\n",
       "    </tr>\n",
       "  </tbody>\n",
       "</table>\n",
       "</div>"
      ],
      "text/plain": [
       "    age  became_member_on gender                                id    income  \\\n",
       "1    55          20170715      F  0610b486422d4921ae7d2bf64640c50b  112000.0   \n",
       "3    75          20170509      F  78afa995795e4d85b5d9ceeca43f5fef  100000.0   \n",
       "5    68          20180426      M  e2127556f4f64592b11af22de27a7932   70000.0   \n",
       "8    65          20180209      M  389bc3fa690240e798340f5a15918d5c   53000.0   \n",
       "12   58          20171111      M  2eeac8d8feae4a8cad5a6af0499a211d   51000.0   \n",
       "\n",
       "    has_transacted  \n",
       "1             True  \n",
       "3             True  \n",
       "5             True  \n",
       "8             True  \n",
       "12            True  "
      ]
     },
     "execution_count": 36,
     "metadata": {},
     "output_type": "execute_result"
    }
   ],
   "source": [
    "profile_of_transacted_users_valid.head()"
   ]
  },
  {
   "cell_type": "markdown",
   "metadata": {},
   "source": [
    "### 2.1.4. Visualize the Gender distribution in profile_of_transacted_users_valid and the original profile dataframe.\n",
    "1. Males in original Profile data = 8484; Males in profile_of_transacted_users_valid data = 8295\n",
    "2. Females in original Profile data = 6129; Females in profile_of_transacted_users_valid data = 5993\n",
    "3. Others in original Profile data = 212; Others in profile_of_transacted_users_valid data = 204\n",
    "\n",
    "Proportion of \"Males\" from valid records who have not transacted = 1 - (8295/8484) = 1 - 0.9777 = 0.022 (Approx. 2.2%)\n",
    "\n",
    "Proportion of \"Females\" from valid records who have not transacted = 1 - (5993/6129) = 1 - 0.9778 =  0.022 (Approx. 2.2%)\n",
    "\n",
    "Proportion of \"Others\" from valid records who have not transacted = 1 -(204/212) = 1 - 0.9622 = 0.0377 (Approx. 3.8%)  "
   ]
  },
  {
   "cell_type": "code",
   "execution_count": 37,
   "metadata": {},
   "outputs": [
    {
     "data": {
      "text/plain": [
       "<matplotlib.figure.Figure at 0x7fcde05b3898>"
      ]
     },
     "metadata": {},
     "output_type": "display_data"
    },
    {
     "data": {
      "image/png": "[encoded data removed]",
      "text/plain": [
       "<matplotlib.figure.Figure at 0x7fcde05b3908>"
      ]
     },
     "metadata": {
      "needs_background": "light"
     },
     "output_type": "display_data"
    }
   ],
   "source": [
    "HorizontalBarPlot(profile_of_transacted_users, 'gender', \"Gender count in profile_of_transacted_users_valid\")"
   ]
  },
  {
   "cell_type": "code",
   "execution_count": 38,
   "metadata": {},
   "outputs": [
    {
     "data": {
      "text/plain": [
       "<matplotlib.figure.Figure at 0x7fcde0611080>"
      ]
     },
     "metadata": {},
     "output_type": "display_data"
    },
    {
     "data": {
      "image/png": "[encoded data removed]",
      "text/plain": [
       "<matplotlib.figure.Figure at 0x7fcde05b39e8>"
      ]
     },
     "metadata": {
      "needs_background": "light"
     },
     "output_type": "display_data"
    }
   ],
   "source": [
    "HorizontalBarPlot(profile, 'gender', \"Gender count in profile\")"
   ]
  },
  {
   "cell_type": "markdown",
   "metadata": {},
   "source": [
    "### 2.1.5. Pie plot of Gender counts in profile_of_transacted_users_valid dataframe"
   ]
  },
  {
   "cell_type": "code",
   "execution_count": 39,
   "metadata": {},
   "outputs": [
    {
     "data": {
      "image/png": "[encoded data removed]",
      "text/plain": [
       "<matplotlib.figure.Figure at 0x7fcde0573908>"
      ]
     },
     "metadata": {},
     "output_type": "display_data"
    }
   ],
   "source": [
    "PiePlot(profile_of_transacted_users_valid, 'Gender counts in the profile_of_transacted_users_valid dataframe', ['blue', 'darkorange', 'green'], ['Male', 'Female', 'Other'], (0.1, 0, 0))"
   ]
  },
  {
   "cell_type": "markdown",
   "metadata": {},
   "source": [
    "# 3. Analyze the datasets"
   ]
  },
  {
   "cell_type": "markdown",
   "metadata": {},
   "source": [
    "## 3.1. Read each customer events and find their influencing offers"
   ]
  },
  {
   "cell_type": "code",
   "execution_count": 40,
   "metadata": {},
   "outputs": [],
   "source": [
    "def GetCustomerEvents(customerId, df):\n",
    "    return df[df.person == customerId] "
   ]
  },
  {
   "cell_type": "markdown",
   "metadata": {},
   "source": [
    "### 3.1.1. Influencing offers are found by looking at the completed offers and also making sure the customer viewed the offer before they completed the offer based on the key offer_id in the transcript dataframe.\n",
    "\n",
    "*Note: A tricky part here was that in the \"value\" column of transcript dataframe, the dictionary keys were \"offer id\" i.e. with a space in the middle, for offer received and offfer viewed entries, but was \"offer_id\" i.e. with an underscore in the middle, for offer completed entries. So we have to be mindful of these keys.*"
   ]
  },
  {
   "cell_type": "code",
   "execution_count": 41,
   "metadata": {},
   "outputs": [],
   "source": [
    "def InfluencingOffers(customerId, df):\n",
    "    df_customer_events = GetCustomerEvents(customerId, df)\n",
    "    df_customer_events_completed_offers = df_customer_events[df_customer_events.event == \"offer completed\"]\n",
    "    df_customer_events_viewed_offers = df_customer_events[df_customer_events.event == \"offer viewed\"]\n",
    "    offers = []\n",
    "    for i1, v1 in df_customer_events_completed_offers.iterrows():\n",
    "        for i2, v2 in df_customer_events_viewed_offers.iterrows():\n",
    "            if(v1['value']['offer_id'] == v2['value']['offer id'] and v2['time'] <= v1['time']):\n",
    "                offers.append(v1['value']['offer_id'])\n",
    "    return offers"
   ]
  },
  {
   "cell_type": "code",
   "execution_count": 42,
   "metadata": {},
   "outputs": [],
   "source": [
    "# Test InfluencingOffers for user 78afa995795e4d85b5d9ceeca43f5fef\n",
    "offers = InfluencingOffers(\"78afa995795e4d85b5d9ceeca43f5fef\", transcript)"
   ]
  },
  {
   "cell_type": "code",
   "execution_count": 43,
   "metadata": {},
   "outputs": [
    {
     "data": {
      "text/plain": [
       "['9b98b8c7a33c4b65b9aebfe6a799e6d9', 'ae264e3637204a6fb9bb56bc8210ddfd']"
      ]
     },
     "execution_count": 43,
     "metadata": {},
     "output_type": "execute_result"
    }
   ],
   "source": [
    "offers"
   ]
  },
  {
   "cell_type": "markdown",
   "metadata": {},
   "source": [
    "### 3.1.2. It takes roughly about 4 minutes on a PC with i7 2.9 GHz  CPU and 16GB Ram to execute the statement below. \n",
    "We are building a column called \"influencing_offers\" for each user by applying a lambda function that deduces the influencing offers by looking at the list of all events in the transcript dataframe for each customer and returning a list of influencing offers.\n",
    "\n",
    "Note: For some users there might not be an influencing offer at all. As mentioned before an influencing offer is one where the customer viewed the offer before completing it."
   ]
  },
  {
   "cell_type": "code",
   "execution_count": 44,
   "metadata": {},
   "outputs": [],
   "source": [
    "profile_of_transacted_users_valid[\"influencing_offers\"] = profile_of_transacted_users_valid.apply(lambda x:InfluencingOffers(x.id, transcript),axis=1)"
   ]
  },
  {
   "cell_type": "code",
   "execution_count": 45,
   "metadata": {},
   "outputs": [
    {
     "data": {
      "text/html": [
       "<div>\n",
       "<style scoped>\n",
       "    .dataframe tbody tr th:only-of-type {\n",
       "        vertical-align: middle;\n",
       "    }\n",
       "\n",
       "    .dataframe tbody tr th {\n",
       "        vertical-align: top;\n",
       "    }\n",
       "\n",
       "    .dataframe thead th {\n",
       "        text-align: right;\n",
       "    }\n",
       "</style>\n",
       "<table border=\"1\" class=\"dataframe\">\n",
       "  <thead>\n",
       "    <tr style=\"text-align: right;\">\n",
       "      <th></th>\n",
       "      <th>age</th>\n",
       "      <th>became_member_on</th>\n",
       "      <th>gender</th>\n",
       "      <th>id</th>\n",
       "      <th>income</th>\n",
       "      <th>has_transacted</th>\n",
       "      <th>influencing_offers</th>\n",
       "    </tr>\n",
       "  </thead>\n",
       "  <tbody>\n",
       "    <tr>\n",
       "      <th>1</th>\n",
       "      <td>55</td>\n",
       "      <td>20170715</td>\n",
       "      <td>F</td>\n",
       "      <td>0610b486422d4921ae7d2bf64640c50b</td>\n",
       "      <td>112000.0</td>\n",
       "      <td>True</td>\n",
       "      <td>[]</td>\n",
       "    </tr>\n",
       "    <tr>\n",
       "      <th>3</th>\n",
       "      <td>75</td>\n",
       "      <td>20170509</td>\n",
       "      <td>F</td>\n",
       "      <td>78afa995795e4d85b5d9ceeca43f5fef</td>\n",
       "      <td>100000.0</td>\n",
       "      <td>True</td>\n",
       "      <td>[9b98b8c7a33c4b65b9aebfe6a799e6d9, ae264e36372...</td>\n",
       "    </tr>\n",
       "    <tr>\n",
       "      <th>5</th>\n",
       "      <td>68</td>\n",
       "      <td>20180426</td>\n",
       "      <td>M</td>\n",
       "      <td>e2127556f4f64592b11af22de27a7932</td>\n",
       "      <td>70000.0</td>\n",
       "      <td>True</td>\n",
       "      <td>[9b98b8c7a33c4b65b9aebfe6a799e6d9, fafdcd668e3...</td>\n",
       "    </tr>\n",
       "    <tr>\n",
       "      <th>8</th>\n",
       "      <td>65</td>\n",
       "      <td>20180209</td>\n",
       "      <td>M</td>\n",
       "      <td>389bc3fa690240e798340f5a15918d5c</td>\n",
       "      <td>53000.0</td>\n",
       "      <td>True</td>\n",
       "      <td>[f19421c1d4aa40978ebb69ca19b0e20d, 2906b810c7d...</td>\n",
       "    </tr>\n",
       "    <tr>\n",
       "      <th>12</th>\n",
       "      <td>58</td>\n",
       "      <td>20171111</td>\n",
       "      <td>M</td>\n",
       "      <td>2eeac8d8feae4a8cad5a6af0499a211d</td>\n",
       "      <td>51000.0</td>\n",
       "      <td>True</td>\n",
       "      <td>[fafdcd668e3743c1bb461111dcafc2a4]</td>\n",
       "    </tr>\n",
       "    <tr>\n",
       "      <th>13</th>\n",
       "      <td>61</td>\n",
       "      <td>20170911</td>\n",
       "      <td>F</td>\n",
       "      <td>aa4862eba776480b8bb9c68455b8c2e1</td>\n",
       "      <td>57000.0</td>\n",
       "      <td>True</td>\n",
       "      <td>[4d5c57ea9a6940dd891ad53e9dbe8da0, f19421c1d4a...</td>\n",
       "    </tr>\n",
       "    <tr>\n",
       "      <th>14</th>\n",
       "      <td>26</td>\n",
       "      <td>20140213</td>\n",
       "      <td>M</td>\n",
       "      <td>e12aeaf2d47d42479ea1c4ac3d8286c6</td>\n",
       "      <td>46000.0</td>\n",
       "      <td>True</td>\n",
       "      <td>[]</td>\n",
       "    </tr>\n",
       "    <tr>\n",
       "      <th>15</th>\n",
       "      <td>62</td>\n",
       "      <td>20160211</td>\n",
       "      <td>F</td>\n",
       "      <td>31dda685af34476cad5bc968bdb01c53</td>\n",
       "      <td>71000.0</td>\n",
       "      <td>True</td>\n",
       "      <td>[fafdcd668e3743c1bb461111dcafc2a4, 2298d6c36e9...</td>\n",
       "    </tr>\n",
       "    <tr>\n",
       "      <th>16</th>\n",
       "      <td>49</td>\n",
       "      <td>20141113</td>\n",
       "      <td>M</td>\n",
       "      <td>62cf5e10845442329191fc246e7bcea3</td>\n",
       "      <td>52000.0</td>\n",
       "      <td>True</td>\n",
       "      <td>[ae264e3637204a6fb9bb56bc8210ddfd]</td>\n",
       "    </tr>\n",
       "    <tr>\n",
       "      <th>18</th>\n",
       "      <td>57</td>\n",
       "      <td>20171231</td>\n",
       "      <td>M</td>\n",
       "      <td>6445de3b47274c759400cd68131d91b4</td>\n",
       "      <td>42000.0</td>\n",
       "      <td>True</td>\n",
       "      <td>[2298d6c36e964ae4a3e7e9706d1fb8c2]</td>\n",
       "    </tr>\n",
       "  </tbody>\n",
       "</table>\n",
       "</div>"
      ],
      "text/plain": [
       "    age  became_member_on gender                                id    income  \\\n",
       "1    55          20170715      F  0610b486422d4921ae7d2bf64640c50b  112000.0   \n",
       "3    75          20170509      F  78afa995795e4d85b5d9ceeca43f5fef  100000.0   \n",
       "5    68          20180426      M  e2127556f4f64592b11af22de27a7932   70000.0   \n",
       "8    65          20180209      M  389bc3fa690240e798340f5a15918d5c   53000.0   \n",
       "12   58          20171111      M  2eeac8d8feae4a8cad5a6af0499a211d   51000.0   \n",
       "13   61          20170911      F  aa4862eba776480b8bb9c68455b8c2e1   57000.0   \n",
       "14   26          20140213      M  e12aeaf2d47d42479ea1c4ac3d8286c6   46000.0   \n",
       "15   62          20160211      F  31dda685af34476cad5bc968bdb01c53   71000.0   \n",
       "16   49          20141113      M  62cf5e10845442329191fc246e7bcea3   52000.0   \n",
       "18   57          20171231      M  6445de3b47274c759400cd68131d91b4   42000.0   \n",
       "\n",
       "    has_transacted                                 influencing_offers  \n",
       "1             True                                                 []  \n",
       "3             True  [9b98b8c7a33c4b65b9aebfe6a799e6d9, ae264e36372...  \n",
       "5             True  [9b98b8c7a33c4b65b9aebfe6a799e6d9, fafdcd668e3...  \n",
       "8             True  [f19421c1d4aa40978ebb69ca19b0e20d, 2906b810c7d...  \n",
       "12            True                 [fafdcd668e3743c1bb461111dcafc2a4]  \n",
       "13            True  [4d5c57ea9a6940dd891ad53e9dbe8da0, f19421c1d4a...  \n",
       "14            True                                                 []  \n",
       "15            True  [fafdcd668e3743c1bb461111dcafc2a4, 2298d6c36e9...  \n",
       "16            True                 [ae264e3637204a6fb9bb56bc8210ddfd]  \n",
       "18            True                 [2298d6c36e964ae4a3e7e9706d1fb8c2]  "
      ]
     },
     "execution_count": 45,
     "metadata": {},
     "output_type": "execute_result"
    }
   ],
   "source": [
    "profile_of_transacted_users_valid.head(10)"
   ]
  },
  {
   "cell_type": "code",
   "execution_count": 46,
   "metadata": {},
   "outputs": [],
   "source": [
    "profile_of_transacted_users_valid_with_influencing_offers = profile_of_transacted_users_valid[profile_of_transacted_users_valid.influencing_offers.str.len()!=0]"
   ]
  },
  {
   "cell_type": "code",
   "execution_count": 47,
   "metadata": {},
   "outputs": [
    {
     "name": "stdout",
     "output_type": "stream",
     "text": [
      "profile_of_transacted_users_valid_with_influencing_offers: Rows = 10998, Columns = 7\n"
     ]
    }
   ],
   "source": [
    "print(\"profile_of_transacted_users_valid_with_influencing_offers: Rows = {0}, Columns = {1}\".format(str(profile_of_transacted_users_valid_with_influencing_offers.shape[0]), str(profile_of_transacted_users_valid.shape[1])))"
   ]
  },
  {
   "cell_type": "code",
   "execution_count": 48,
   "metadata": {},
   "outputs": [
    {
     "data": {
      "text/html": [
       "<div>\n",
       "<style scoped>\n",
       "    .dataframe tbody tr th:only-of-type {\n",
       "        vertical-align: middle;\n",
       "    }\n",
       "\n",
       "    .dataframe tbody tr th {\n",
       "        vertical-align: top;\n",
       "    }\n",
       "\n",
       "    .dataframe thead th {\n",
       "        text-align: right;\n",
       "    }\n",
       "</style>\n",
       "<table border=\"1\" class=\"dataframe\">\n",
       "  <thead>\n",
       "    <tr style=\"text-align: right;\">\n",
       "      <th></th>\n",
       "      <th>age</th>\n",
       "      <th>became_member_on</th>\n",
       "      <th>gender</th>\n",
       "      <th>id</th>\n",
       "      <th>income</th>\n",
       "      <th>has_transacted</th>\n",
       "      <th>influencing_offers</th>\n",
       "    </tr>\n",
       "  </thead>\n",
       "  <tbody>\n",
       "    <tr>\n",
       "      <th>3</th>\n",
       "      <td>75</td>\n",
       "      <td>20170509</td>\n",
       "      <td>F</td>\n",
       "      <td>78afa995795e4d85b5d9ceeca43f5fef</td>\n",
       "      <td>100000.0</td>\n",
       "      <td>True</td>\n",
       "      <td>[9b98b8c7a33c4b65b9aebfe6a799e6d9, ae264e36372...</td>\n",
       "    </tr>\n",
       "    <tr>\n",
       "      <th>5</th>\n",
       "      <td>68</td>\n",
       "      <td>20180426</td>\n",
       "      <td>M</td>\n",
       "      <td>e2127556f4f64592b11af22de27a7932</td>\n",
       "      <td>70000.0</td>\n",
       "      <td>True</td>\n",
       "      <td>[9b98b8c7a33c4b65b9aebfe6a799e6d9, fafdcd668e3...</td>\n",
       "    </tr>\n",
       "    <tr>\n",
       "      <th>8</th>\n",
       "      <td>65</td>\n",
       "      <td>20180209</td>\n",
       "      <td>M</td>\n",
       "      <td>389bc3fa690240e798340f5a15918d5c</td>\n",
       "      <td>53000.0</td>\n",
       "      <td>True</td>\n",
       "      <td>[f19421c1d4aa40978ebb69ca19b0e20d, 2906b810c7d...</td>\n",
       "    </tr>\n",
       "    <tr>\n",
       "      <th>12</th>\n",
       "      <td>58</td>\n",
       "      <td>20171111</td>\n",
       "      <td>M</td>\n",
       "      <td>2eeac8d8feae4a8cad5a6af0499a211d</td>\n",
       "      <td>51000.0</td>\n",
       "      <td>True</td>\n",
       "      <td>[fafdcd668e3743c1bb461111dcafc2a4]</td>\n",
       "    </tr>\n",
       "    <tr>\n",
       "      <th>13</th>\n",
       "      <td>61</td>\n",
       "      <td>20170911</td>\n",
       "      <td>F</td>\n",
       "      <td>aa4862eba776480b8bb9c68455b8c2e1</td>\n",
       "      <td>57000.0</td>\n",
       "      <td>True</td>\n",
       "      <td>[4d5c57ea9a6940dd891ad53e9dbe8da0, f19421c1d4a...</td>\n",
       "    </tr>\n",
       "    <tr>\n",
       "      <th>15</th>\n",
       "      <td>62</td>\n",
       "      <td>20160211</td>\n",
       "      <td>F</td>\n",
       "      <td>31dda685af34476cad5bc968bdb01c53</td>\n",
       "      <td>71000.0</td>\n",
       "      <td>True</td>\n",
       "      <td>[fafdcd668e3743c1bb461111dcafc2a4, 2298d6c36e9...</td>\n",
       "    </tr>\n",
       "    <tr>\n",
       "      <th>16</th>\n",
       "      <td>49</td>\n",
       "      <td>20141113</td>\n",
       "      <td>M</td>\n",
       "      <td>62cf5e10845442329191fc246e7bcea3</td>\n",
       "      <td>52000.0</td>\n",
       "      <td>True</td>\n",
       "      <td>[ae264e3637204a6fb9bb56bc8210ddfd]</td>\n",
       "    </tr>\n",
       "    <tr>\n",
       "      <th>18</th>\n",
       "      <td>57</td>\n",
       "      <td>20171231</td>\n",
       "      <td>M</td>\n",
       "      <td>6445de3b47274c759400cd68131d91b4</td>\n",
       "      <td>42000.0</td>\n",
       "      <td>True</td>\n",
       "      <td>[2298d6c36e964ae4a3e7e9706d1fb8c2]</td>\n",
       "    </tr>\n",
       "    <tr>\n",
       "      <th>20</th>\n",
       "      <td>40</td>\n",
       "      <td>20160504</td>\n",
       "      <td>F</td>\n",
       "      <td>440cf1fd7580490c971d8c651ed962af</td>\n",
       "      <td>71000.0</td>\n",
       "      <td>True</td>\n",
       "      <td>[2298d6c36e964ae4a3e7e9706d1fb8c2, 2298d6c36e9...</td>\n",
       "    </tr>\n",
       "    <tr>\n",
       "      <th>21</th>\n",
       "      <td>64</td>\n",
       "      <td>20170909</td>\n",
       "      <td>M</td>\n",
       "      <td>4b0da7e80e5945209a1fdddfe813dbe0</td>\n",
       "      <td>100000.0</td>\n",
       "      <td>True</td>\n",
       "      <td>[0b1e1539f2cc45b7b9fa7c272da2e1d7, 0b1e1539f2c...</td>\n",
       "    </tr>\n",
       "  </tbody>\n",
       "</table>\n",
       "</div>"
      ],
      "text/plain": [
       "    age  became_member_on gender                                id    income  \\\n",
       "3    75          20170509      F  78afa995795e4d85b5d9ceeca43f5fef  100000.0   \n",
       "5    68          20180426      M  e2127556f4f64592b11af22de27a7932   70000.0   \n",
       "8    65          20180209      M  389bc3fa690240e798340f5a15918d5c   53000.0   \n",
       "12   58          20171111      M  2eeac8d8feae4a8cad5a6af0499a211d   51000.0   \n",
       "13   61          20170911      F  aa4862eba776480b8bb9c68455b8c2e1   57000.0   \n",
       "15   62          20160211      F  31dda685af34476cad5bc968bdb01c53   71000.0   \n",
       "16   49          20141113      M  62cf5e10845442329191fc246e7bcea3   52000.0   \n",
       "18   57          20171231      M  6445de3b47274c759400cd68131d91b4   42000.0   \n",
       "20   40          20160504      F  440cf1fd7580490c971d8c651ed962af   71000.0   \n",
       "21   64          20170909      M  4b0da7e80e5945209a1fdddfe813dbe0  100000.0   \n",
       "\n",
       "    has_transacted                                 influencing_offers  \n",
       "3             True  [9b98b8c7a33c4b65b9aebfe6a799e6d9, ae264e36372...  \n",
       "5             True  [9b98b8c7a33c4b65b9aebfe6a799e6d9, fafdcd668e3...  \n",
       "8             True  [f19421c1d4aa40978ebb69ca19b0e20d, 2906b810c7d...  \n",
       "12            True                 [fafdcd668e3743c1bb461111dcafc2a4]  \n",
       "13            True  [4d5c57ea9a6940dd891ad53e9dbe8da0, f19421c1d4a...  \n",
       "15            True  [fafdcd668e3743c1bb461111dcafc2a4, 2298d6c36e9...  \n",
       "16            True                 [ae264e3637204a6fb9bb56bc8210ddfd]  \n",
       "18            True                 [2298d6c36e964ae4a3e7e9706d1fb8c2]  \n",
       "20            True  [2298d6c36e964ae4a3e7e9706d1fb8c2, 2298d6c36e9...  \n",
       "21            True  [0b1e1539f2cc45b7b9fa7c272da2e1d7, 0b1e1539f2c...  "
      ]
     },
     "execution_count": 48,
     "metadata": {},
     "output_type": "execute_result"
    }
   ],
   "source": [
    "profile_of_transacted_users_valid_with_influencing_offers.head(10)"
   ]
  },
  {
   "cell_type": "code",
   "execution_count": 62,
   "metadata": {},
   "outputs": [],
   "source": [
    "profile_to_investigate = profile_of_transacted_users_valid_with_influencing_offers"
   ]
  },
  {
   "cell_type": "code",
   "execution_count": 63,
   "metadata": {},
   "outputs": [
    {
     "data": {
      "text/html": [
       "<div>\n",
       "<style scoped>\n",
       "    .dataframe tbody tr th:only-of-type {\n",
       "        vertical-align: middle;\n",
       "    }\n",
       "\n",
       "    .dataframe tbody tr th {\n",
       "        vertical-align: top;\n",
       "    }\n",
       "\n",
       "    .dataframe thead th {\n",
       "        text-align: right;\n",
       "    }\n",
       "</style>\n",
       "<table border=\"1\" class=\"dataframe\">\n",
       "  <thead>\n",
       "    <tr style=\"text-align: right;\">\n",
       "      <th></th>\n",
       "      <th>age</th>\n",
       "      <th>became_member_on</th>\n",
       "      <th>gender</th>\n",
       "      <th>id</th>\n",
       "      <th>income</th>\n",
       "      <th>has_transacted</th>\n",
       "      <th>influencing_offers</th>\n",
       "      <th>ae264e3637204a6fb9bb56bc8210ddfd</th>\n",
       "      <th>4d5c57ea9a6940dd891ad53e9dbe8da0</th>\n",
       "      <th>3f207df678b143eea3cee63160fa8bed</th>\n",
       "      <th>9b98b8c7a33c4b65b9aebfe6a799e6d9</th>\n",
       "      <th>0b1e1539f2cc45b7b9fa7c272da2e1d7</th>\n",
       "      <th>2298d6c36e964ae4a3e7e9706d1fb8c2</th>\n",
       "      <th>fafdcd668e3743c1bb461111dcafc2a4</th>\n",
       "      <th>5a8bc65990b245e5a138643cd4eb9837</th>\n",
       "      <th>f19421c1d4aa40978ebb69ca19b0e20d</th>\n",
       "      <th>2906b810c7d4411798c6938adc9daaa5</th>\n",
       "    </tr>\n",
       "  </thead>\n",
       "  <tbody>\n",
       "    <tr>\n",
       "      <th>3</th>\n",
       "      <td>75</td>\n",
       "      <td>20170509</td>\n",
       "      <td>F</td>\n",
       "      <td>78afa995795e4d85b5d9ceeca43f5fef</td>\n",
       "      <td>100000.0</td>\n",
       "      <td>True</td>\n",
       "      <td>[9b98b8c7a33c4b65b9aebfe6a799e6d9, ae264e36372...</td>\n",
       "      <td>1</td>\n",
       "      <td>0</td>\n",
       "      <td>0</td>\n",
       "      <td>1</td>\n",
       "      <td>0</td>\n",
       "      <td>0</td>\n",
       "      <td>0</td>\n",
       "      <td>0</td>\n",
       "      <td>0</td>\n",
       "      <td>0</td>\n",
       "    </tr>\n",
       "    <tr>\n",
       "      <th>5</th>\n",
       "      <td>68</td>\n",
       "      <td>20180426</td>\n",
       "      <td>M</td>\n",
       "      <td>e2127556f4f64592b11af22de27a7932</td>\n",
       "      <td>70000.0</td>\n",
       "      <td>True</td>\n",
       "      <td>[9b98b8c7a33c4b65b9aebfe6a799e6d9, fafdcd668e3...</td>\n",
       "      <td>0</td>\n",
       "      <td>0</td>\n",
       "      <td>0</td>\n",
       "      <td>1</td>\n",
       "      <td>0</td>\n",
       "      <td>0</td>\n",
       "      <td>1</td>\n",
       "      <td>0</td>\n",
       "      <td>0</td>\n",
       "      <td>0</td>\n",
       "    </tr>\n",
       "    <tr>\n",
       "      <th>8</th>\n",
       "      <td>65</td>\n",
       "      <td>20180209</td>\n",
       "      <td>M</td>\n",
       "      <td>389bc3fa690240e798340f5a15918d5c</td>\n",
       "      <td>53000.0</td>\n",
       "      <td>True</td>\n",
       "      <td>[f19421c1d4aa40978ebb69ca19b0e20d, 2906b810c7d...</td>\n",
       "      <td>0</td>\n",
       "      <td>0</td>\n",
       "      <td>0</td>\n",
       "      <td>1</td>\n",
       "      <td>0</td>\n",
       "      <td>0</td>\n",
       "      <td>1</td>\n",
       "      <td>0</td>\n",
       "      <td>1</td>\n",
       "      <td>1</td>\n",
       "    </tr>\n",
       "    <tr>\n",
       "      <th>12</th>\n",
       "      <td>58</td>\n",
       "      <td>20171111</td>\n",
       "      <td>M</td>\n",
       "      <td>2eeac8d8feae4a8cad5a6af0499a211d</td>\n",
       "      <td>51000.0</td>\n",
       "      <td>True</td>\n",
       "      <td>[fafdcd668e3743c1bb461111dcafc2a4]</td>\n",
       "      <td>0</td>\n",
       "      <td>0</td>\n",
       "      <td>0</td>\n",
       "      <td>0</td>\n",
       "      <td>0</td>\n",
       "      <td>0</td>\n",
       "      <td>1</td>\n",
       "      <td>0</td>\n",
       "      <td>0</td>\n",
       "      <td>0</td>\n",
       "    </tr>\n",
       "    <tr>\n",
       "      <th>13</th>\n",
       "      <td>61</td>\n",
       "      <td>20170911</td>\n",
       "      <td>F</td>\n",
       "      <td>aa4862eba776480b8bb9c68455b8c2e1</td>\n",
       "      <td>57000.0</td>\n",
       "      <td>True</td>\n",
       "      <td>[4d5c57ea9a6940dd891ad53e9dbe8da0, f19421c1d4a...</td>\n",
       "      <td>0</td>\n",
       "      <td>1</td>\n",
       "      <td>0</td>\n",
       "      <td>0</td>\n",
       "      <td>0</td>\n",
       "      <td>0</td>\n",
       "      <td>0</td>\n",
       "      <td>0</td>\n",
       "      <td>1</td>\n",
       "      <td>0</td>\n",
       "    </tr>\n",
       "  </tbody>\n",
       "</table>\n",
       "</div>"
      ],
      "text/plain": [
       "    age  became_member_on gender                                id    income  \\\n",
       "3    75          20170509      F  78afa995795e4d85b5d9ceeca43f5fef  100000.0   \n",
       "5    68          20180426      M  e2127556f4f64592b11af22de27a7932   70000.0   \n",
       "8    65          20180209      M  389bc3fa690240e798340f5a15918d5c   53000.0   \n",
       "12   58          20171111      M  2eeac8d8feae4a8cad5a6af0499a211d   51000.0   \n",
       "13   61          20170911      F  aa4862eba776480b8bb9c68455b8c2e1   57000.0   \n",
       "\n",
       "    has_transacted                                 influencing_offers  \\\n",
       "3             True  [9b98b8c7a33c4b65b9aebfe6a799e6d9, ae264e36372...   \n",
       "5             True  [9b98b8c7a33c4b65b9aebfe6a799e6d9, fafdcd668e3...   \n",
       "8             True  [f19421c1d4aa40978ebb69ca19b0e20d, 2906b810c7d...   \n",
       "12            True                 [fafdcd668e3743c1bb461111dcafc2a4]   \n",
       "13            True  [4d5c57ea9a6940dd891ad53e9dbe8da0, f19421c1d4a...   \n",
       "\n",
       "    ae264e3637204a6fb9bb56bc8210ddfd  4d5c57ea9a6940dd891ad53e9dbe8da0  \\\n",
       "3                                  1                                 0   \n",
       "5                                  0                                 0   \n",
       "8                                  0                                 0   \n",
       "12                                 0                                 0   \n",
       "13                                 0                                 1   \n",
       "\n",
       "    3f207df678b143eea3cee63160fa8bed  9b98b8c7a33c4b65b9aebfe6a799e6d9  \\\n",
       "3                                  0                                 1   \n",
       "5                                  0                                 1   \n",
       "8                                  0                                 1   \n",
       "12                                 0                                 0   \n",
       "13                                 0                                 0   \n",
       "\n",
       "    0b1e1539f2cc45b7b9fa7c272da2e1d7  2298d6c36e964ae4a3e7e9706d1fb8c2  \\\n",
       "3                                  0                                 0   \n",
       "5                                  0                                 0   \n",
       "8                                  0                                 0   \n",
       "12                                 0                                 0   \n",
       "13                                 0                                 0   \n",
       "\n",
       "    fafdcd668e3743c1bb461111dcafc2a4  5a8bc65990b245e5a138643cd4eb9837  \\\n",
       "3                                  0                                 0   \n",
       "5                                  1                                 0   \n",
       "8                                  1                                 0   \n",
       "12                                 1                                 0   \n",
       "13                                 0                                 0   \n",
       "\n",
       "    f19421c1d4aa40978ebb69ca19b0e20d  2906b810c7d4411798c6938adc9daaa5  \n",
       "3                                  0                                 0  \n",
       "5                                  0                                 0  \n",
       "8                                  1                                 1  \n",
       "12                                 0                                 0  \n",
       "13                                 1                                 0  "
      ]
     },
     "execution_count": 63,
     "metadata": {},
     "output_type": "execute_result"
    }
   ],
   "source": [
    "profile_to_investigate.head()"
   ]
  },
  {
   "cell_type": "markdown",
   "metadata": {},
   "source": [
    "## 3.2 Expand the influencing offers column into columns of all offer ids with a 1 if the customer was influenced by the offer and a 0 if they were not influenced by the offer."
   ]
  },
  {
   "cell_type": "code",
   "execution_count": 64,
   "metadata": {},
   "outputs": [],
   "source": [
    "def OfferInInfluencingOffers(offerId, influencing_offers):\n",
    "    if (offerId in influencing_offers):\n",
    "        return 1\n",
    "    else:\n",
    "        return 0"
   ]
  },
  {
   "cell_type": "code",
   "execution_count": 65,
   "metadata": {},
   "outputs": [
    {
     "data": {
      "text/plain": [
       "['9b98b8c7a33c4b65b9aebfe6a799e6d9', 'ae264e3637204a6fb9bb56bc8210ddfd']"
      ]
     },
     "execution_count": 65,
     "metadata": {},
     "output_type": "execute_result"
    }
   ],
   "source": [
    "influencing_offers = profile_to_investigate.influencing_offers.iloc[0]\n",
    "influencing_offers"
   ]
  },
  {
   "cell_type": "code",
   "execution_count": 66,
   "metadata": {},
   "outputs": [
    {
     "data": {
      "text/plain": [
       "1"
      ]
     },
     "execution_count": 66,
     "metadata": {},
     "output_type": "execute_result"
    }
   ],
   "source": [
    "OfferInInfluencingOffers(\"9b98b8c7a33c4b65b9aebfe6a799e6d9\", influencing_offers)"
   ]
  },
  {
   "cell_type": "code",
   "execution_count": 67,
   "metadata": {},
   "outputs": [
    {
     "name": "stderr",
     "output_type": "stream",
     "text": [
      "/opt/conda/lib/python3.6/site-packages/ipykernel_launcher.py:2: SettingWithCopyWarning: \n",
      "A value is trying to be set on a copy of a slice from a DataFrame.\n",
      "Try using .loc[row_indexer,col_indexer] = value instead\n",
      "\n",
      "See the caveats in the documentation: http://pandas.pydata.org/pandas-docs/stable/indexing.html#indexing-view-versus-copy\n",
      "  \n"
     ]
    }
   ],
   "source": [
    "for offerId in portfolio.id:\n",
    "    profile_to_investigate[offerId] = profile_to_investigate.apply(lambda x:OfferInInfluencingOffers(offerId, x.influencing_offers), axis=1)"
   ]
  },
  {
   "cell_type": "code",
   "execution_count": 68,
   "metadata": {},
   "outputs": [
    {
     "data": {
      "text/html": [
       "<div>\n",
       "<style scoped>\n",
       "    .dataframe tbody tr th:only-of-type {\n",
       "        vertical-align: middle;\n",
       "    }\n",
       "\n",
       "    .dataframe tbody tr th {\n",
       "        vertical-align: top;\n",
       "    }\n",
       "\n",
       "    .dataframe thead th {\n",
       "        text-align: right;\n",
       "    }\n",
       "</style>\n",
       "<table border=\"1\" class=\"dataframe\">\n",
       "  <thead>\n",
       "    <tr style=\"text-align: right;\">\n",
       "      <th></th>\n",
       "      <th>age</th>\n",
       "      <th>became_member_on</th>\n",
       "      <th>gender</th>\n",
       "      <th>id</th>\n",
       "      <th>income</th>\n",
       "      <th>has_transacted</th>\n",
       "      <th>influencing_offers</th>\n",
       "      <th>ae264e3637204a6fb9bb56bc8210ddfd</th>\n",
       "      <th>4d5c57ea9a6940dd891ad53e9dbe8da0</th>\n",
       "      <th>3f207df678b143eea3cee63160fa8bed</th>\n",
       "      <th>9b98b8c7a33c4b65b9aebfe6a799e6d9</th>\n",
       "      <th>0b1e1539f2cc45b7b9fa7c272da2e1d7</th>\n",
       "      <th>2298d6c36e964ae4a3e7e9706d1fb8c2</th>\n",
       "      <th>fafdcd668e3743c1bb461111dcafc2a4</th>\n",
       "      <th>5a8bc65990b245e5a138643cd4eb9837</th>\n",
       "      <th>f19421c1d4aa40978ebb69ca19b0e20d</th>\n",
       "      <th>2906b810c7d4411798c6938adc9daaa5</th>\n",
       "    </tr>\n",
       "  </thead>\n",
       "  <tbody>\n",
       "    <tr>\n",
       "      <th>3</th>\n",
       "      <td>75</td>\n",
       "      <td>20170509</td>\n",
       "      <td>F</td>\n",
       "      <td>78afa995795e4d85b5d9ceeca43f5fef</td>\n",
       "      <td>100000.0</td>\n",
       "      <td>True</td>\n",
       "      <td>[9b98b8c7a33c4b65b9aebfe6a799e6d9, ae264e36372...</td>\n",
       "      <td>1</td>\n",
       "      <td>0</td>\n",
       "      <td>0</td>\n",
       "      <td>1</td>\n",
       "      <td>0</td>\n",
       "      <td>0</td>\n",
       "      <td>0</td>\n",
       "      <td>0</td>\n",
       "      <td>0</td>\n",
       "      <td>0</td>\n",
       "    </tr>\n",
       "    <tr>\n",
       "      <th>5</th>\n",
       "      <td>68</td>\n",
       "      <td>20180426</td>\n",
       "      <td>M</td>\n",
       "      <td>e2127556f4f64592b11af22de27a7932</td>\n",
       "      <td>70000.0</td>\n",
       "      <td>True</td>\n",
       "      <td>[9b98b8c7a33c4b65b9aebfe6a799e6d9, fafdcd668e3...</td>\n",
       "      <td>0</td>\n",
       "      <td>0</td>\n",
       "      <td>0</td>\n",
       "      <td>1</td>\n",
       "      <td>0</td>\n",
       "      <td>0</td>\n",
       "      <td>1</td>\n",
       "      <td>0</td>\n",
       "      <td>0</td>\n",
       "      <td>0</td>\n",
       "    </tr>\n",
       "    <tr>\n",
       "      <th>8</th>\n",
       "      <td>65</td>\n",
       "      <td>20180209</td>\n",
       "      <td>M</td>\n",
       "      <td>389bc3fa690240e798340f5a15918d5c</td>\n",
       "      <td>53000.0</td>\n",
       "      <td>True</td>\n",
       "      <td>[f19421c1d4aa40978ebb69ca19b0e20d, 2906b810c7d...</td>\n",
       "      <td>0</td>\n",
       "      <td>0</td>\n",
       "      <td>0</td>\n",
       "      <td>1</td>\n",
       "      <td>0</td>\n",
       "      <td>0</td>\n",
       "      <td>1</td>\n",
       "      <td>0</td>\n",
       "      <td>1</td>\n",
       "      <td>1</td>\n",
       "    </tr>\n",
       "    <tr>\n",
       "      <th>12</th>\n",
       "      <td>58</td>\n",
       "      <td>20171111</td>\n",
       "      <td>M</td>\n",
       "      <td>2eeac8d8feae4a8cad5a6af0499a211d</td>\n",
       "      <td>51000.0</td>\n",
       "      <td>True</td>\n",
       "      <td>[fafdcd668e3743c1bb461111dcafc2a4]</td>\n",
       "      <td>0</td>\n",
       "      <td>0</td>\n",
       "      <td>0</td>\n",
       "      <td>0</td>\n",
       "      <td>0</td>\n",
       "      <td>0</td>\n",
       "      <td>1</td>\n",
       "      <td>0</td>\n",
       "      <td>0</td>\n",
       "      <td>0</td>\n",
       "    </tr>\n",
       "    <tr>\n",
       "      <th>13</th>\n",
       "      <td>61</td>\n",
       "      <td>20170911</td>\n",
       "      <td>F</td>\n",
       "      <td>aa4862eba776480b8bb9c68455b8c2e1</td>\n",
       "      <td>57000.0</td>\n",
       "      <td>True</td>\n",
       "      <td>[4d5c57ea9a6940dd891ad53e9dbe8da0, f19421c1d4a...</td>\n",
       "      <td>0</td>\n",
       "      <td>1</td>\n",
       "      <td>0</td>\n",
       "      <td>0</td>\n",
       "      <td>0</td>\n",
       "      <td>0</td>\n",
       "      <td>0</td>\n",
       "      <td>0</td>\n",
       "      <td>1</td>\n",
       "      <td>0</td>\n",
       "    </tr>\n",
       "  </tbody>\n",
       "</table>\n",
       "</div>"
      ],
      "text/plain": [
       "    age  became_member_on gender                                id    income  \\\n",
       "3    75          20170509      F  78afa995795e4d85b5d9ceeca43f5fef  100000.0   \n",
       "5    68          20180426      M  e2127556f4f64592b11af22de27a7932   70000.0   \n",
       "8    65          20180209      M  389bc3fa690240e798340f5a15918d5c   53000.0   \n",
       "12   58          20171111      M  2eeac8d8feae4a8cad5a6af0499a211d   51000.0   \n",
       "13   61          20170911      F  aa4862eba776480b8bb9c68455b8c2e1   57000.0   \n",
       "\n",
       "    has_transacted                                 influencing_offers  \\\n",
       "3             True  [9b98b8c7a33c4b65b9aebfe6a799e6d9, ae264e36372...   \n",
       "5             True  [9b98b8c7a33c4b65b9aebfe6a799e6d9, fafdcd668e3...   \n",
       "8             True  [f19421c1d4aa40978ebb69ca19b0e20d, 2906b810c7d...   \n",
       "12            True                 [fafdcd668e3743c1bb461111dcafc2a4]   \n",
       "13            True  [4d5c57ea9a6940dd891ad53e9dbe8da0, f19421c1d4a...   \n",
       "\n",
       "    ae264e3637204a6fb9bb56bc8210ddfd  4d5c57ea9a6940dd891ad53e9dbe8da0  \\\n",
       "3                                  1                                 0   \n",
       "5                                  0                                 0   \n",
       "8                                  0                                 0   \n",
       "12                                 0                                 0   \n",
       "13                                 0                                 1   \n",
       "\n",
       "    3f207df678b143eea3cee63160fa8bed  9b98b8c7a33c4b65b9aebfe6a799e6d9  \\\n",
       "3                                  0                                 1   \n",
       "5                                  0                                 1   \n",
       "8                                  0                                 1   \n",
       "12                                 0                                 0   \n",
       "13                                 0                                 0   \n",
       "\n",
       "    0b1e1539f2cc45b7b9fa7c272da2e1d7  2298d6c36e964ae4a3e7e9706d1fb8c2  \\\n",
       "3                                  0                                 0   \n",
       "5                                  0                                 0   \n",
       "8                                  0                                 0   \n",
       "12                                 0                                 0   \n",
       "13                                 0                                 0   \n",
       "\n",
       "    fafdcd668e3743c1bb461111dcafc2a4  5a8bc65990b245e5a138643cd4eb9837  \\\n",
       "3                                  0                                 0   \n",
       "5                                  1                                 0   \n",
       "8                                  1                                 0   \n",
       "12                                 1                                 0   \n",
       "13                                 0                                 0   \n",
       "\n",
       "    f19421c1d4aa40978ebb69ca19b0e20d  2906b810c7d4411798c6938adc9daaa5  \n",
       "3                                  0                                 0  \n",
       "5                                  0                                 0  \n",
       "8                                  1                                 1  \n",
       "12                                 0                                 0  \n",
       "13                                 1                                 0  "
      ]
     },
     "execution_count": 68,
     "metadata": {},
     "output_type": "execute_result"
    }
   ],
   "source": [
    "profile_to_investigate.head()"
   ]
  },
  {
   "cell_type": "markdown",
   "metadata": {},
   "source": [
    "## 3.3. Drop the unwanted columns like 'has_transacted', 'influencing_offers' and 'id' from profile_to_investigate dataframe"
   ]
  },
  {
   "cell_type": "code",
   "execution_count": 69,
   "metadata": {},
   "outputs": [],
   "source": [
    "profile_to_investigate = profile_to_investigate.drop(['has_transacted','influencing_offers', 'id'], axis=1)"
   ]
  },
  {
   "cell_type": "markdown",
   "metadata": {},
   "source": [
    "## 3.4 One-Hot encode the gender variable by splitting it into three columns\n",
    "1. gender_F\t\n",
    "2. gender_M\t\n",
    "3. gender_O"
   ]
  },
  {
   "cell_type": "code",
   "execution_count": 70,
   "metadata": {},
   "outputs": [
    {
     "data": {
      "text/html": [
       "<div>\n",
       "<style scoped>\n",
       "    .dataframe tbody tr th:only-of-type {\n",
       "        vertical-align: middle;\n",
       "    }\n",
       "\n",
       "    .dataframe tbody tr th {\n",
       "        vertical-align: top;\n",
       "    }\n",
       "\n",
       "    .dataframe thead th {\n",
       "        text-align: right;\n",
       "    }\n",
       "</style>\n",
       "<table border=\"1\" class=\"dataframe\">\n",
       "  <thead>\n",
       "    <tr style=\"text-align: right;\">\n",
       "      <th></th>\n",
       "      <th>age</th>\n",
       "      <th>became_member_on</th>\n",
       "      <th>income</th>\n",
       "      <th>ae264e3637204a6fb9bb56bc8210ddfd</th>\n",
       "      <th>4d5c57ea9a6940dd891ad53e9dbe8da0</th>\n",
       "      <th>3f207df678b143eea3cee63160fa8bed</th>\n",
       "      <th>9b98b8c7a33c4b65b9aebfe6a799e6d9</th>\n",
       "      <th>0b1e1539f2cc45b7b9fa7c272da2e1d7</th>\n",
       "      <th>2298d6c36e964ae4a3e7e9706d1fb8c2</th>\n",
       "      <th>fafdcd668e3743c1bb461111dcafc2a4</th>\n",
       "      <th>5a8bc65990b245e5a138643cd4eb9837</th>\n",
       "      <th>f19421c1d4aa40978ebb69ca19b0e20d</th>\n",
       "      <th>2906b810c7d4411798c6938adc9daaa5</th>\n",
       "      <th>gender_F</th>\n",
       "      <th>gender_M</th>\n",
       "      <th>gender_O</th>\n",
       "    </tr>\n",
       "  </thead>\n",
       "  <tbody>\n",
       "    <tr>\n",
       "      <th>3</th>\n",
       "      <td>75</td>\n",
       "      <td>20170509</td>\n",
       "      <td>100000.0</td>\n",
       "      <td>1</td>\n",
       "      <td>0</td>\n",
       "      <td>0</td>\n",
       "      <td>1</td>\n",
       "      <td>0</td>\n",
       "      <td>0</td>\n",
       "      <td>0</td>\n",
       "      <td>0</td>\n",
       "      <td>0</td>\n",
       "      <td>0</td>\n",
       "      <td>1</td>\n",
       "      <td>0</td>\n",
       "      <td>0</td>\n",
       "    </tr>\n",
       "    <tr>\n",
       "      <th>5</th>\n",
       "      <td>68</td>\n",
       "      <td>20180426</td>\n",
       "      <td>70000.0</td>\n",
       "      <td>0</td>\n",
       "      <td>0</td>\n",
       "      <td>0</td>\n",
       "      <td>1</td>\n",
       "      <td>0</td>\n",
       "      <td>0</td>\n",
       "      <td>1</td>\n",
       "      <td>0</td>\n",
       "      <td>0</td>\n",
       "      <td>0</td>\n",
       "      <td>0</td>\n",
       "      <td>1</td>\n",
       "      <td>0</td>\n",
       "    </tr>\n",
       "    <tr>\n",
       "      <th>8</th>\n",
       "      <td>65</td>\n",
       "      <td>20180209</td>\n",
       "      <td>53000.0</td>\n",
       "      <td>0</td>\n",
       "      <td>0</td>\n",
       "      <td>0</td>\n",
       "      <td>1</td>\n",
       "      <td>0</td>\n",
       "      <td>0</td>\n",
       "      <td>1</td>\n",
       "      <td>0</td>\n",
       "      <td>1</td>\n",
       "      <td>1</td>\n",
       "      <td>0</td>\n",
       "      <td>1</td>\n",
       "      <td>0</td>\n",
       "    </tr>\n",
       "    <tr>\n",
       "      <th>12</th>\n",
       "      <td>58</td>\n",
       "      <td>20171111</td>\n",
       "      <td>51000.0</td>\n",
       "      <td>0</td>\n",
       "      <td>0</td>\n",
       "      <td>0</td>\n",
       "      <td>0</td>\n",
       "      <td>0</td>\n",
       "      <td>0</td>\n",
       "      <td>1</td>\n",
       "      <td>0</td>\n",
       "      <td>0</td>\n",
       "      <td>0</td>\n",
       "      <td>0</td>\n",
       "      <td>1</td>\n",
       "      <td>0</td>\n",
       "    </tr>\n",
       "    <tr>\n",
       "      <th>13</th>\n",
       "      <td>61</td>\n",
       "      <td>20170911</td>\n",
       "      <td>57000.0</td>\n",
       "      <td>0</td>\n",
       "      <td>1</td>\n",
       "      <td>0</td>\n",
       "      <td>0</td>\n",
       "      <td>0</td>\n",
       "      <td>0</td>\n",
       "      <td>0</td>\n",
       "      <td>0</td>\n",
       "      <td>1</td>\n",
       "      <td>0</td>\n",
       "      <td>1</td>\n",
       "      <td>0</td>\n",
       "      <td>0</td>\n",
       "    </tr>\n",
       "  </tbody>\n",
       "</table>\n",
       "</div>"
      ],
      "text/plain": [
       "    age  became_member_on    income  ae264e3637204a6fb9bb56bc8210ddfd  \\\n",
       "3    75          20170509  100000.0                                 1   \n",
       "5    68          20180426   70000.0                                 0   \n",
       "8    65          20180209   53000.0                                 0   \n",
       "12   58          20171111   51000.0                                 0   \n",
       "13   61          20170911   57000.0                                 0   \n",
       "\n",
       "    4d5c57ea9a6940dd891ad53e9dbe8da0  3f207df678b143eea3cee63160fa8bed  \\\n",
       "3                                  0                                 0   \n",
       "5                                  0                                 0   \n",
       "8                                  0                                 0   \n",
       "12                                 0                                 0   \n",
       "13                                 1                                 0   \n",
       "\n",
       "    9b98b8c7a33c4b65b9aebfe6a799e6d9  0b1e1539f2cc45b7b9fa7c272da2e1d7  \\\n",
       "3                                  1                                 0   \n",
       "5                                  1                                 0   \n",
       "8                                  1                                 0   \n",
       "12                                 0                                 0   \n",
       "13                                 0                                 0   \n",
       "\n",
       "    2298d6c36e964ae4a3e7e9706d1fb8c2  fafdcd668e3743c1bb461111dcafc2a4  \\\n",
       "3                                  0                                 0   \n",
       "5                                  0                                 1   \n",
       "8                                  0                                 1   \n",
       "12                                 0                                 1   \n",
       "13                                 0                                 0   \n",
       "\n",
       "    5a8bc65990b245e5a138643cd4eb9837  f19421c1d4aa40978ebb69ca19b0e20d  \\\n",
       "3                                  0                                 0   \n",
       "5                                  0                                 0   \n",
       "8                                  0                                 1   \n",
       "12                                 0                                 0   \n",
       "13                                 0                                 1   \n",
       "\n",
       "    2906b810c7d4411798c6938adc9daaa5  gender_F  gender_M  gender_O  \n",
       "3                                  0         1         0         0  \n",
       "5                                  0         0         1         0  \n",
       "8                                  1         0         1         0  \n",
       "12                                 0         0         1         0  \n",
       "13                                 0         1         0         0  "
      ]
     },
     "execution_count": 70,
     "metadata": {},
     "output_type": "execute_result"
    }
   ],
   "source": [
    "profile_to_investigate = pd.get_dummies(profile_to_investigate, prefix=['gender'])\n",
    "profile_to_investigate.head()"
   ]
  },
  {
   "cell_type": "markdown",
   "metadata": {},
   "source": [
    "# 4. Build a Machine Learning model to predict if we can send an offer to a customer"
   ]
  },
  {
   "cell_type": "markdown",
   "metadata": {},
   "source": [
    "## 4.1. In this section we will build a Random Forest model for each of the BOGO and discount type offers and summarize the quality of the models."
   ]
  },
  {
   "cell_type": "markdown",
   "metadata": {},
   "source": [
    "### 4.1.1. As a first step let's remove the informational offer fields form the portfolio data to focus on bogo and discount offer types."
   ]
  },
  {
   "cell_type": "code",
   "execution_count": 180,
   "metadata": {},
   "outputs": [
    {
     "name": "stdout",
     "output_type": "stream",
     "text": [
      "['ae264e3637204a6fb9bb56bc8210ddfd', '4d5c57ea9a6940dd891ad53e9dbe8da0', '9b98b8c7a33c4b65b9aebfe6a799e6d9', '0b1e1539f2cc45b7b9fa7c272da2e1d7', '2298d6c36e964ae4a3e7e9706d1fb8c2', 'fafdcd668e3743c1bb461111dcafc2a4', 'f19421c1d4aa40978ebb69ca19b0e20d', '2906b810c7d4411798c6938adc9daaa5']\n",
      "['bogo', 'bogo', 'bogo', 'discount', 'discount', 'discount', 'bogo', 'discount']\n"
     ]
    }
   ],
   "source": [
    "complete_offer_ids = []\n",
    "for offerId in portfolio.id:\n",
    "    complete_offer_ids.append(offerId)\n",
    "all_offer_ids  = []\n",
    "all_offer_types = []\n",
    "portfolio_no_informational_offer = portfolio[portfolio.offer_type != \"informational\"]\n",
    "for offerId in portfolio_no_informational_offer.id:\n",
    "    all_offer_ids.append(offerId)\n",
    "for offer_type in portfolio_no_informational_offer.offer_type:\n",
    "    all_offer_types.append(offer_type)\n",
    "print(all_offer_ids)\n",
    "print(all_offer_types)"
   ]
  },
  {
   "cell_type": "markdown",
   "metadata": {},
   "source": [
    "### 4.1.2. Create the Features and Response columns (X and y)"
   ]
  },
  {
   "cell_type": "code",
   "execution_count": 181,
   "metadata": {},
   "outputs": [
    {
     "data": {
      "text/html": [
       "<div>\n",
       "<style scoped>\n",
       "    .dataframe tbody tr th:only-of-type {\n",
       "        vertical-align: middle;\n",
       "    }\n",
       "\n",
       "    .dataframe tbody tr th {\n",
       "        vertical-align: top;\n",
       "    }\n",
       "\n",
       "    .dataframe thead th {\n",
       "        text-align: right;\n",
       "    }\n",
       "</style>\n",
       "<table border=\"1\" class=\"dataframe\">\n",
       "  <thead>\n",
       "    <tr style=\"text-align: right;\">\n",
       "      <th></th>\n",
       "      <th>age</th>\n",
       "      <th>became_member_on</th>\n",
       "      <th>income</th>\n",
       "      <th>gender_F</th>\n",
       "      <th>gender_M</th>\n",
       "      <th>gender_O</th>\n",
       "    </tr>\n",
       "  </thead>\n",
       "  <tbody>\n",
       "    <tr>\n",
       "      <th>3</th>\n",
       "      <td>75</td>\n",
       "      <td>20170509</td>\n",
       "      <td>100000.0</td>\n",
       "      <td>1</td>\n",
       "      <td>0</td>\n",
       "      <td>0</td>\n",
       "    </tr>\n",
       "    <tr>\n",
       "      <th>5</th>\n",
       "      <td>68</td>\n",
       "      <td>20180426</td>\n",
       "      <td>70000.0</td>\n",
       "      <td>0</td>\n",
       "      <td>1</td>\n",
       "      <td>0</td>\n",
       "    </tr>\n",
       "    <tr>\n",
       "      <th>8</th>\n",
       "      <td>65</td>\n",
       "      <td>20180209</td>\n",
       "      <td>53000.0</td>\n",
       "      <td>0</td>\n",
       "      <td>1</td>\n",
       "      <td>0</td>\n",
       "    </tr>\n",
       "    <tr>\n",
       "      <th>12</th>\n",
       "      <td>58</td>\n",
       "      <td>20171111</td>\n",
       "      <td>51000.0</td>\n",
       "      <td>0</td>\n",
       "      <td>1</td>\n",
       "      <td>0</td>\n",
       "    </tr>\n",
       "    <tr>\n",
       "      <th>13</th>\n",
       "      <td>61</td>\n",
       "      <td>20170911</td>\n",
       "      <td>57000.0</td>\n",
       "      <td>1</td>\n",
       "      <td>0</td>\n",
       "      <td>0</td>\n",
       "    </tr>\n",
       "  </tbody>\n",
       "</table>\n",
       "</div>"
      ],
      "text/plain": [
       "    age  became_member_on    income  gender_F  gender_M  gender_O\n",
       "3    75          20170509  100000.0         1         0         0\n",
       "5    68          20180426   70000.0         0         1         0\n",
       "8    65          20180209   53000.0         0         1         0\n",
       "12   58          20171111   51000.0         0         1         0\n",
       "13   61          20170911   57000.0         1         0         0"
      ]
     },
     "execution_count": 181,
     "metadata": {},
     "output_type": "execute_result"
    }
   ],
   "source": [
    "X = profile_to_investigate.drop(complete_offer_ids, axis=1)\n",
    "X.head()"
   ]
  },
  {
   "cell_type": "markdown",
   "metadata": {},
   "source": [
    "### 4.1.3. Let's \"*target*\" only the offer id \"ae264e3637204a6fb9bb56bc8210ddfd\" which is a \"bogo\" type"
   ]
  },
  {
   "cell_type": "code",
   "execution_count": 182,
   "metadata": {},
   "outputs": [
    {
     "data": {
      "text/plain": [
       "3     1\n",
       "5     0\n",
       "8     0\n",
       "12    0\n",
       "13    0\n",
       "Name: ae264e3637204a6fb9bb56bc8210ddfd, dtype: int64"
      ]
     },
     "execution_count": 182,
     "metadata": {},
     "output_type": "execute_result"
    }
   ],
   "source": [
    "y = profile_to_investigate[all_offer_ids[0]]\n",
    "y.head()"
   ]
  },
  {
   "cell_type": "markdown",
   "metadata": {},
   "source": [
    "### 4.1.4. Build the simplest Random Forest Classification model with all defaults and summarize results"
   ]
  },
  {
   "cell_type": "code",
   "execution_count": 259,
   "metadata": {},
   "outputs": [],
   "source": [
    "# Split records to train and test train = 80% test = 20%\n",
    "X_train, X_test, y_train, y_test = train_test_split(X, y, test_size=0.33, random_state=45)\n",
    "\n",
    "# Create a RandomForest Classifier\n",
    "basic_rf_model = RandomForestClassifier()\n",
    "basic_rf_model.fit(X_train,y_train)\n",
    "\n",
    "# Predict on test data\n",
    "basic_rf_model_predictions = basic_rf_model.predict(X_test)"
   ]
  },
  {
   "cell_type": "code",
   "execution_count": 260,
   "metadata": {},
   "outputs": [
    {
     "data": {
      "text/html": [
       "<div>\n",
       "<style scoped>\n",
       "    .dataframe tbody tr th:only-of-type {\n",
       "        vertical-align: middle;\n",
       "    }\n",
       "\n",
       "    .dataframe tbody tr th {\n",
       "        vertical-align: top;\n",
       "    }\n",
       "\n",
       "    .dataframe thead th {\n",
       "        text-align: right;\n",
       "    }\n",
       "</style>\n",
       "<table border=\"1\" class=\"dataframe\">\n",
       "  <thead>\n",
       "    <tr style=\"text-align: right;\">\n",
       "      <th></th>\n",
       "      <th>age</th>\n",
       "      <th>became_member_on</th>\n",
       "      <th>income</th>\n",
       "      <th>gender_F</th>\n",
       "      <th>gender_M</th>\n",
       "      <th>gender_O</th>\n",
       "    </tr>\n",
       "  </thead>\n",
       "  <tbody>\n",
       "    <tr>\n",
       "      <th>11789</th>\n",
       "      <td>21</td>\n",
       "      <td>20160628</td>\n",
       "      <td>38000.0</td>\n",
       "      <td>0</td>\n",
       "      <td>1</td>\n",
       "      <td>0</td>\n",
       "    </tr>\n",
       "    <tr>\n",
       "      <th>9778</th>\n",
       "      <td>58</td>\n",
       "      <td>20160316</td>\n",
       "      <td>79000.0</td>\n",
       "      <td>0</td>\n",
       "      <td>1</td>\n",
       "      <td>0</td>\n",
       "    </tr>\n",
       "    <tr>\n",
       "      <th>2019</th>\n",
       "      <td>39</td>\n",
       "      <td>20170312</td>\n",
       "      <td>67000.0</td>\n",
       "      <td>0</td>\n",
       "      <td>1</td>\n",
       "      <td>0</td>\n",
       "    </tr>\n",
       "    <tr>\n",
       "      <th>2055</th>\n",
       "      <td>92</td>\n",
       "      <td>20160229</td>\n",
       "      <td>39000.0</td>\n",
       "      <td>1</td>\n",
       "      <td>0</td>\n",
       "      <td>0</td>\n",
       "    </tr>\n",
       "    <tr>\n",
       "      <th>13588</th>\n",
       "      <td>20</td>\n",
       "      <td>20171009</td>\n",
       "      <td>45000.0</td>\n",
       "      <td>1</td>\n",
       "      <td>0</td>\n",
       "      <td>0</td>\n",
       "    </tr>\n",
       "  </tbody>\n",
       "</table>\n",
       "</div>"
      ],
      "text/plain": [
       "       age  became_member_on   income  gender_F  gender_M  gender_O\n",
       "11789   21          20160628  38000.0         0         1         0\n",
       "9778    58          20160316  79000.0         0         1         0\n",
       "2019    39          20170312  67000.0         0         1         0\n",
       "2055    92          20160229  39000.0         1         0         0\n",
       "13588   20          20171009  45000.0         1         0         0"
      ]
     },
     "execution_count": 260,
     "metadata": {},
     "output_type": "execute_result"
    }
   ],
   "source": [
    "X_test.head()"
   ]
  },
  {
   "cell_type": "markdown",
   "metadata": {},
   "source": [
    "### 4.1.5. Sumary of basic_rf_model\n",
    "1. Precision of this model is 0.67\n",
    "2. Recall is 0.75 \n",
    "3. AUC is 0.5322\n",
    "4. From the confusion matrix, out of 468 offers that influenced customers our model seems to be returning only correct predictions for 28 cases. This is not very good."
   ]
  },
  {
   "cell_type": "code",
   "execution_count": 261,
   "metadata": {},
   "outputs": [
    {
     "name": "stdout",
     "output_type": "stream",
     "text": [
      "             precision    recall  f1-score   support\n",
      "\n",
      "          0       0.80      0.94      0.86      2876\n",
      "          1       0.25      0.08      0.12       754\n",
      "\n",
      "avg / total       0.68      0.76      0.71      3630\n",
      "\n"
     ]
    }
   ],
   "source": [
    "print(classification_report(y_test, basic_rf_model_predictions))"
   ]
  },
  {
   "cell_type": "code",
   "execution_count": 262,
   "metadata": {},
   "outputs": [],
   "source": [
    "basic_rf_model_cv_score = cross_val_score(basic_rf_model, X, y, cv=10, scoring='roc_auc')"
   ]
  },
  {
   "cell_type": "code",
   "execution_count": 263,
   "metadata": {},
   "outputs": [
    {
     "name": "stdout",
     "output_type": "stream",
     "text": [
      "Mean AUC Score of Basic Random Forest:  0.531061253253\n"
     ]
    }
   ],
   "source": [
    "print(\"Mean AUC Score of Basic Random Forest: \", basic_rf_model_cv_score.mean())"
   ]
  },
  {
   "cell_type": "code",
   "execution_count": 264,
   "metadata": {},
   "outputs": [
    {
     "data": {
      "text/plain": [
       "array([[2705,  171],\n",
       "       [ 697,   57]])"
      ]
     },
     "execution_count": 264,
     "metadata": {},
     "output_type": "execute_result"
    }
   ],
   "source": [
    "confusion_matrix(y_test, basic_rf_model_predictions)"
   ]
  },
  {
   "cell_type": "markdown",
   "metadata": {},
   "source": [
    "### 4.1.6. We would want to improve our basic model a bit by *tuning the hyperparameters* of the RandomForest model like,\n",
    "1. Number of Random Forest trees\n",
    "2. The number of features to consider when looking for the best split\n",
    "3. Depth of the built trees\n",
    "\n",
    "### The RandomSearchForBestParameters below will come in handy for tuning the hyperparameters."
   ]
  },
  {
   "cell_type": "code",
   "execution_count": 130,
   "metadata": {},
   "outputs": [],
   "source": [
    "def RandomSearchForBestParameters(n_iter, cv):\n",
    "    # Number of Random Forest trees\n",
    "    n_estimators = [int(x) for x in np.linspace(start = 200, stop = 2000, num = 10)]\n",
    "    # The number of features to consider when looking for the best split\n",
    "    max_features = ['auto', 'sqrt', 'log2']\n",
    "    # Max depth Parameter\n",
    "    max_depth = [int(x) for x in np.linspace(100, 500, num = 11)]\n",
    "    max_depth.append(None)\n",
    "    # Specify the random grid\n",
    "    random_grid = {\n",
    "        'n_estimators': n_estimators,\n",
    "        'max_features': max_features,\n",
    "        'max_depth': max_depth\n",
    "    }\n",
    "    # Random search of parameters\n",
    "    rf_model_random = RandomizedSearchCV(estimator = rf_model, param_distributions = random_grid, n_iter = n_iter, cv = cv, verbose=2, random_state=42, n_jobs = -1)\n",
    "    # Fit the Random Forest model\n",
    "    rf_model_random.fit(X_train, y_train)\n",
    "    # Summarize the best parameters\n",
    "    print(rf_model_random.best_params_)\n",
    "    return n_estimators, max_features, max_depth"
   ]
  },
  {
   "cell_type": "code",
   "execution_count": 131,
   "metadata": {},
   "outputs": [
    {
     "name": "stdout",
     "output_type": "stream",
     "text": [
      "Fitting 10 folds for each of 10 candidates, totalling 100 fits\n",
      "[CV] n_estimators=1000, max_features=sqrt, max_depth=380 .............\n",
      "[CV]  n_estimators=1000, max_features=sqrt, max_depth=380, total=  11.0s\n",
      "[CV] n_estimators=1000, max_features=sqrt, max_depth=380 .............\n"
     ]
    },
    {
     "name": "stderr",
     "output_type": "stream",
     "text": [
      "[Parallel(n_jobs=-1)]: Done   1 out of   1 | elapsed:   12.6s remaining:    0.0s\n"
     ]
    },
    {
     "name": "stdout",
     "output_type": "stream",
     "text": [
      "[CV]  n_estimators=1000, max_features=sqrt, max_depth=380, total=  10.8s\n",
      "[CV] n_estimators=1000, max_features=sqrt, max_depth=380 .............\n",
      "[CV]  n_estimators=1000, max_features=sqrt, max_depth=380, total=  10.9s\n",
      "[CV] n_estimators=1000, max_features=sqrt, max_depth=380 .............\n",
      "[CV]  n_estimators=1000, max_features=sqrt, max_depth=380, total=  10.7s\n",
      "[CV] n_estimators=1000, max_features=sqrt, max_depth=380 .............\n",
      "[CV]  n_estimators=1000, max_features=sqrt, max_depth=380, total=  10.9s\n",
      "[CV] n_estimators=1000, max_features=sqrt, max_depth=380 .............\n",
      "[CV]  n_estimators=1000, max_features=sqrt, max_depth=380, total=  10.7s\n",
      "[CV] n_estimators=1000, max_features=sqrt, max_depth=380 .............\n",
      "[CV]  n_estimators=1000, max_features=sqrt, max_depth=380, total=  10.7s\n",
      "[CV] n_estimators=1000, max_features=sqrt, max_depth=380 .............\n",
      "[CV]  n_estimators=1000, max_features=sqrt, max_depth=380, total=  10.8s\n",
      "[CV] n_estimators=1000, max_features=sqrt, max_depth=380 .............\n",
      "[CV]  n_estimators=1000, max_features=sqrt, max_depth=380, total=  10.6s\n",
      "[CV] n_estimators=1000, max_features=sqrt, max_depth=380 .............\n",
      "[CV]  n_estimators=1000, max_features=sqrt, max_depth=380, total=  10.5s\n",
      "[CV] n_estimators=600, max_features=sqrt, max_depth=140 ..............\n",
      "[CV]  n_estimators=600, max_features=sqrt, max_depth=140, total=   6.3s\n",
      "[CV] n_estimators=600, max_features=sqrt, max_depth=140 ..............\n",
      "[CV]  n_estimators=600, max_features=sqrt, max_depth=140, total=   6.4s\n",
      "[CV] n_estimators=600, max_features=sqrt, max_depth=140 ..............\n",
      "[CV]  n_estimators=600, max_features=sqrt, max_depth=140, total=   6.4s\n",
      "[CV] n_estimators=600, max_features=sqrt, max_depth=140 ..............\n",
      "[CV]  n_estimators=600, max_features=sqrt, max_depth=140, total=   6.5s\n",
      "[CV] n_estimators=600, max_features=sqrt, max_depth=140 ..............\n",
      "[CV]  n_estimators=600, max_features=sqrt, max_depth=140, total=   6.4s\n",
      "[CV] n_estimators=600, max_features=sqrt, max_depth=140 ..............\n",
      "[CV]  n_estimators=600, max_features=sqrt, max_depth=140, total=   6.3s\n",
      "[CV] n_estimators=600, max_features=sqrt, max_depth=140 ..............\n",
      "[CV]  n_estimators=600, max_features=sqrt, max_depth=140, total=   6.4s\n",
      "[CV] n_estimators=600, max_features=sqrt, max_depth=140 ..............\n",
      "[CV]  n_estimators=600, max_features=sqrt, max_depth=140, total=   6.3s\n",
      "[CV] n_estimators=600, max_features=sqrt, max_depth=140 ..............\n",
      "[CV]  n_estimators=600, max_features=sqrt, max_depth=140, total=   6.3s\n",
      "[CV] n_estimators=600, max_features=sqrt, max_depth=140 ..............\n",
      "[CV]  n_estimators=600, max_features=sqrt, max_depth=140, total=   6.4s\n",
      "[CV] n_estimators=1200, max_features=sqrt, max_depth=460 .............\n",
      "[CV]  n_estimators=1200, max_features=sqrt, max_depth=460, total=  12.9s\n",
      "[CV] n_estimators=1200, max_features=sqrt, max_depth=460 .............\n",
      "[CV]  n_estimators=1200, max_features=sqrt, max_depth=460, total=  13.0s\n",
      "[CV] n_estimators=1200, max_features=sqrt, max_depth=460 .............\n",
      "[CV]  n_estimators=1200, max_features=sqrt, max_depth=460, total=  12.7s\n",
      "[CV] n_estimators=1200, max_features=sqrt, max_depth=460 .............\n",
      "[CV]  n_estimators=1200, max_features=sqrt, max_depth=460, total=  12.9s\n",
      "[CV] n_estimators=1200, max_features=sqrt, max_depth=460 .............\n",
      "[CV]  n_estimators=1200, max_features=sqrt, max_depth=460, total=  12.9s\n",
      "[CV] n_estimators=1200, max_features=sqrt, max_depth=460 .............\n",
      "[CV]  n_estimators=1200, max_features=sqrt, max_depth=460, total=  12.7s\n",
      "[CV] n_estimators=1200, max_features=sqrt, max_depth=460 .............\n",
      "[CV]  n_estimators=1200, max_features=sqrt, max_depth=460, total=  12.9s\n",
      "[CV] n_estimators=1200, max_features=sqrt, max_depth=460 .............\n",
      "[CV]  n_estimators=1200, max_features=sqrt, max_depth=460, total=  12.9s\n",
      "[CV] n_estimators=1200, max_features=sqrt, max_depth=460 .............\n",
      "[CV]  n_estimators=1200, max_features=sqrt, max_depth=460, total=  12.8s\n",
      "[CV] n_estimators=1200, max_features=sqrt, max_depth=460 .............\n",
      "[CV]  n_estimators=1200, max_features=sqrt, max_depth=460, total=  12.5s\n",
      "[CV] n_estimators=600, max_features=auto, max_depth=500 ..............\n",
      "[CV]  n_estimators=600, max_features=auto, max_depth=500, total=   6.4s\n",
      "[CV] n_estimators=600, max_features=auto, max_depth=500 ..............\n",
      "[CV]  n_estimators=600, max_features=auto, max_depth=500, total=   6.4s\n",
      "[CV] n_estimators=600, max_features=auto, max_depth=500 ..............\n",
      "[CV]  n_estimators=600, max_features=auto, max_depth=500, total=   6.3s\n",
      "[CV] n_estimators=600, max_features=auto, max_depth=500 ..............\n",
      "[CV]  n_estimators=600, max_features=auto, max_depth=500, total=   6.5s\n",
      "[CV] n_estimators=600, max_features=auto, max_depth=500 ..............\n",
      "[CV]  n_estimators=600, max_features=auto, max_depth=500, total=   6.4s\n",
      "[CV] n_estimators=600, max_features=auto, max_depth=500 ..............\n",
      "[CV]  n_estimators=600, max_features=auto, max_depth=500, total=   6.3s\n",
      "[CV] n_estimators=600, max_features=auto, max_depth=500 ..............\n",
      "[CV]  n_estimators=600, max_features=auto, max_depth=500, total=   6.5s\n",
      "[CV] n_estimators=600, max_features=auto, max_depth=500 ..............\n",
      "[CV]  n_estimators=600, max_features=auto, max_depth=500, total=   6.4s\n",
      "[CV] n_estimators=600, max_features=auto, max_depth=500 ..............\n",
      "[CV]  n_estimators=600, max_features=auto, max_depth=500, total=   6.5s\n",
      "[CV] n_estimators=600, max_features=auto, max_depth=500 ..............\n",
      "[CV]  n_estimators=600, max_features=auto, max_depth=500, total=   6.3s\n",
      "[CV] n_estimators=1400, max_features=log2, max_depth=140 .............\n",
      "[CV]  n_estimators=1400, max_features=log2, max_depth=140, total=  16.9s\n",
      "[CV] n_estimators=1400, max_features=log2, max_depth=140 .............\n",
      "[CV]  n_estimators=1400, max_features=log2, max_depth=140, total=  17.1s\n",
      "[CV] n_estimators=1400, max_features=log2, max_depth=140 .............\n",
      "[CV]  n_estimators=1400, max_features=log2, max_depth=140, total=  16.9s\n",
      "[CV] n_estimators=1400, max_features=log2, max_depth=140 .............\n",
      "[CV]  n_estimators=1400, max_features=log2, max_depth=140, total=  16.7s\n",
      "[CV] n_estimators=1400, max_features=log2, max_depth=140 .............\n",
      "[CV]  n_estimators=1400, max_features=log2, max_depth=140, total=  17.0s\n",
      "[CV] n_estimators=1400, max_features=log2, max_depth=140 .............\n",
      "[CV]  n_estimators=1400, max_features=log2, max_depth=140, total=  17.0s\n",
      "[CV] n_estimators=1400, max_features=log2, max_depth=140 .............\n",
      "[CV]  n_estimators=1400, max_features=log2, max_depth=140, total=  16.8s\n",
      "[CV] n_estimators=1400, max_features=log2, max_depth=140 .............\n",
      "[CV]  n_estimators=1400, max_features=log2, max_depth=140, total=  16.7s\n",
      "[CV] n_estimators=1400, max_features=log2, max_depth=140 .............\n",
      "[CV]  n_estimators=1400, max_features=log2, max_depth=140, total=  16.8s\n",
      "[CV] n_estimators=1400, max_features=log2, max_depth=140 .............\n",
      "[CV]  n_estimators=1400, max_features=log2, max_depth=140, total=  16.7s\n",
      "[CV] n_estimators=600, max_features=auto, max_depth=460 ..............\n",
      "[CV]  n_estimators=600, max_features=auto, max_depth=460, total=   6.3s\n",
      "[CV] n_estimators=600, max_features=auto, max_depth=460 ..............\n",
      "[CV]  n_estimators=600, max_features=auto, max_depth=460, total=   6.5s\n",
      "[CV] n_estimators=600, max_features=auto, max_depth=460 ..............\n",
      "[CV]  n_estimators=600, max_features=auto, max_depth=460, total=   6.5s\n",
      "[CV] n_estimators=600, max_features=auto, max_depth=460 ..............\n",
      "[CV]  n_estimators=600, max_features=auto, max_depth=460, total=   6.3s\n",
      "[CV] n_estimators=600, max_features=auto, max_depth=460 ..............\n",
      "[CV]  n_estimators=600, max_features=auto, max_depth=460, total=   6.3s\n",
      "[CV] n_estimators=600, max_features=auto, max_depth=460 ..............\n",
      "[CV]  n_estimators=600, max_features=auto, max_depth=460, total=   6.4s\n",
      "[CV] n_estimators=600, max_features=auto, max_depth=460 ..............\n",
      "[CV]  n_estimators=600, max_features=auto, max_depth=460, total=   6.3s\n",
      "[CV] n_estimators=600, max_features=auto, max_depth=460 ..............\n",
      "[CV]  n_estimators=600, max_features=auto, max_depth=460, total=   6.3s\n",
      "[CV] n_estimators=600, max_features=auto, max_depth=460 ..............\n",
      "[CV]  n_estimators=600, max_features=auto, max_depth=460, total=   6.5s\n",
      "[CV] n_estimators=600, max_features=auto, max_depth=460 ..............\n"
     ]
    },
    {
     "name": "stdout",
     "output_type": "stream",
     "text": [
      "[CV]  n_estimators=600, max_features=auto, max_depth=460, total=   6.3s\n",
      "[CV] n_estimators=1200, max_features=sqrt, max_depth=100 .............\n",
      "[CV]  n_estimators=1200, max_features=sqrt, max_depth=100, total=  13.0s\n",
      "[CV] n_estimators=1200, max_features=sqrt, max_depth=100 .............\n",
      "[CV]  n_estimators=1200, max_features=sqrt, max_depth=100, total=  13.0s\n",
      "[CV] n_estimators=1200, max_features=sqrt, max_depth=100 .............\n",
      "[CV]  n_estimators=1200, max_features=sqrt, max_depth=100, total=  12.7s\n",
      "[CV] n_estimators=1200, max_features=sqrt, max_depth=100 .............\n",
      "[CV]  n_estimators=1200, max_features=sqrt, max_depth=100, total=  12.9s\n",
      "[CV] n_estimators=1200, max_features=sqrt, max_depth=100 .............\n",
      "[CV]  n_estimators=1200, max_features=sqrt, max_depth=100, total=  12.8s\n",
      "[CV] n_estimators=1200, max_features=sqrt, max_depth=100 .............\n",
      "[CV]  n_estimators=1200, max_features=sqrt, max_depth=100, total=  12.8s\n",
      "[CV] n_estimators=1200, max_features=sqrt, max_depth=100 .............\n",
      "[CV]  n_estimators=1200, max_features=sqrt, max_depth=100, total=  12.9s\n",
      "[CV] n_estimators=1200, max_features=sqrt, max_depth=100 .............\n",
      "[CV]  n_estimators=1200, max_features=sqrt, max_depth=100, total=  12.8s\n",
      "[CV] n_estimators=1200, max_features=sqrt, max_depth=100 .............\n",
      "[CV]  n_estimators=1200, max_features=sqrt, max_depth=100, total=  13.1s\n",
      "[CV] n_estimators=1200, max_features=sqrt, max_depth=100 .............\n",
      "[CV]  n_estimators=1200, max_features=sqrt, max_depth=100, total=  12.9s\n",
      "[CV] n_estimators=1600, max_features=log2, max_depth=140 .............\n",
      "[CV]  n_estimators=1600, max_features=log2, max_depth=140, total=  19.3s\n",
      "[CV] n_estimators=1600, max_features=log2, max_depth=140 .............\n",
      "[CV]  n_estimators=1600, max_features=log2, max_depth=140, total=  19.3s\n",
      "[CV] n_estimators=1600, max_features=log2, max_depth=140 .............\n",
      "[CV]  n_estimators=1600, max_features=log2, max_depth=140, total=  19.1s\n",
      "[CV] n_estimators=1600, max_features=log2, max_depth=140 .............\n",
      "[CV]  n_estimators=1600, max_features=log2, max_depth=140, total=  18.9s\n",
      "[CV] n_estimators=1600, max_features=log2, max_depth=140 .............\n",
      "[CV]  n_estimators=1600, max_features=log2, max_depth=140, total=  19.5s\n",
      "[CV] n_estimators=1600, max_features=log2, max_depth=140 .............\n",
      "[CV]  n_estimators=1600, max_features=log2, max_depth=140, total=  19.1s\n",
      "[CV] n_estimators=1600, max_features=log2, max_depth=140 .............\n",
      "[CV]  n_estimators=1600, max_features=log2, max_depth=140, total=  19.2s\n",
      "[CV] n_estimators=1600, max_features=log2, max_depth=140 .............\n",
      "[CV]  n_estimators=1600, max_features=log2, max_depth=140, total=  19.2s\n",
      "[CV] n_estimators=1600, max_features=log2, max_depth=140 .............\n",
      "[CV]  n_estimators=1600, max_features=log2, max_depth=140, total=  19.3s\n",
      "[CV] n_estimators=1600, max_features=log2, max_depth=140 .............\n",
      "[CV]  n_estimators=1600, max_features=log2, max_depth=140, total=  19.0s\n",
      "[CV] n_estimators=1800, max_features=auto, max_depth=420 .............\n",
      "[CV]  n_estimators=1800, max_features=auto, max_depth=420, total=  19.1s\n",
      "[CV] n_estimators=1800, max_features=auto, max_depth=420 .............\n",
      "[CV]  n_estimators=1800, max_features=auto, max_depth=420, total=  19.3s\n",
      "[CV] n_estimators=1800, max_features=auto, max_depth=420 .............\n",
      "[CV]  n_estimators=1800, max_features=auto, max_depth=420, total=  19.1s\n",
      "[CV] n_estimators=1800, max_features=auto, max_depth=420 .............\n",
      "[CV]  n_estimators=1800, max_features=auto, max_depth=420, total=  19.4s\n",
      "[CV] n_estimators=1800, max_features=auto, max_depth=420 .............\n",
      "[CV]  n_estimators=1800, max_features=auto, max_depth=420, total=  19.1s\n",
      "[CV] n_estimators=1800, max_features=auto, max_depth=420 .............\n",
      "[CV]  n_estimators=1800, max_features=auto, max_depth=420, total=  19.0s\n",
      "[CV] n_estimators=1800, max_features=auto, max_depth=420 .............\n",
      "[CV]  n_estimators=1800, max_features=auto, max_depth=420, total=  19.0s\n",
      "[CV] n_estimators=1800, max_features=auto, max_depth=420 .............\n",
      "[CV]  n_estimators=1800, max_features=auto, max_depth=420, total=  18.9s\n",
      "[CV] n_estimators=1800, max_features=auto, max_depth=420 .............\n",
      "[CV]  n_estimators=1800, max_features=auto, max_depth=420, total=  19.1s\n",
      "[CV] n_estimators=1800, max_features=auto, max_depth=420 .............\n",
      "[CV]  n_estimators=1800, max_features=auto, max_depth=420, total=  19.2s\n",
      "[CV] n_estimators=1000, max_features=auto, max_depth=260 .............\n",
      "[CV]  n_estimators=1000, max_features=auto, max_depth=260, total=  10.5s\n",
      "[CV] n_estimators=1000, max_features=auto, max_depth=260 .............\n",
      "[CV]  n_estimators=1000, max_features=auto, max_depth=260, total=  10.9s\n",
      "[CV] n_estimators=1000, max_features=auto, max_depth=260 .............\n",
      "[CV]  n_estimators=1000, max_features=auto, max_depth=260, total=  10.6s\n",
      "[CV] n_estimators=1000, max_features=auto, max_depth=260 .............\n",
      "[CV]  n_estimators=1000, max_features=auto, max_depth=260, total=  10.7s\n",
      "[CV] n_estimators=1000, max_features=auto, max_depth=260 .............\n",
      "[CV]  n_estimators=1000, max_features=auto, max_depth=260, total=  10.7s\n",
      "[CV] n_estimators=1000, max_features=auto, max_depth=260 .............\n",
      "[CV]  n_estimators=1000, max_features=auto, max_depth=260, total=  10.8s\n",
      "[CV] n_estimators=1000, max_features=auto, max_depth=260 .............\n",
      "[CV]  n_estimators=1000, max_features=auto, max_depth=260, total=  10.6s\n",
      "[CV] n_estimators=1000, max_features=auto, max_depth=260 .............\n",
      "[CV]  n_estimators=1000, max_features=auto, max_depth=260, total=  10.6s\n",
      "[CV] n_estimators=1000, max_features=auto, max_depth=260 .............\n",
      "[CV]  n_estimators=1000, max_features=auto, max_depth=260, total=  10.9s\n",
      "[CV] n_estimators=1000, max_features=auto, max_depth=260 .............\n",
      "[CV]  n_estimators=1000, max_features=auto, max_depth=260, total=  10.6s\n"
     ]
    },
    {
     "name": "stderr",
     "output_type": "stream",
     "text": [
      "[Parallel(n_jobs=-1)]: Done 100 out of 100 | elapsed: 23.2min finished\n"
     ]
    },
    {
     "name": "stdout",
     "output_type": "stream",
     "text": [
      "{'n_estimators': 1200, 'max_features': 'sqrt', 'max_depth': 460}\n"
     ]
    }
   ],
   "source": [
    "n_estimators, max_features, max_depth = RandomSearchForBestParameters(n_iter=10, cv=10)"
   ]
  },
  {
   "cell_type": "code",
   "execution_count": 189,
   "metadata": {},
   "outputs": [],
   "source": [
    "# Based on the above Random Search set the hyper-parameters \n",
    "n_estimators1 = 200\n",
    "max_features1 = 'sqrt'\n",
    "max_depth1 = 100"
   ]
  },
  {
   "cell_type": "markdown",
   "metadata": {},
   "source": [
    "### 4.1.7. Use the tuned parameters and try building new RandomForest models on each offer type."
   ]
  },
  {
   "cell_type": "code",
   "execution_count": 265,
   "metadata": {},
   "outputs": [],
   "source": [
    "def MakeTrainTestSplits(X, y, test_size=0.33):\n",
    "    X_train, X_test, y_train, y_test = train_test_split(X, y, test_size=test_size, random_state=45)\n",
    "    return X_train, X_test, y_train, y_test"
   ]
  },
  {
   "cell_type": "code",
   "execution_count": 266,
   "metadata": {},
   "outputs": [],
   "source": [
    "def RandomForestModel(X, y, X_train, X_test, y_train, y_test, cvsplit = 10, n_estimators=600, max_depth=420, max_features='sqrt'):\n",
    "    rf_model = RandomForestClassifier(n_estimators=n_estimators, max_depth=max_depth, max_features=max_features)\n",
    "    rf_model.fit(X_train,y_train)\n",
    "    rf_model_predictions = rf_model.predict(X_test)\n",
    "    rf_model_cv_scores = cross_val_score(rf_model, X, y, cv=cvsplit, scoring='roc_auc')\n",
    "    print(\"--------------------------\")\n",
    "    print(\"    Confusion Matrix    \")\n",
    "    print(\"--------------------------\")\n",
    "    print(confusion_matrix(y_test, rf_model_predictions))\n",
    "    print('\\n')\n",
    "    print(\"---------------------------------\")\n",
    "    print(\"    Classification Summary    \")\n",
    "    print(\"---------------------------------\")\n",
    "    print(classification_report(y_test, rf_model_predictions))\n",
    "    print('\\n')\n",
    "    print(\"--------------\")\n",
    "    print(\"    AUC    \")\n",
    "    print(\"--------------\")\n",
    "    print(rf_model_cv_scores)\n",
    "    print('\\n')\n",
    "    print(\"-------------------\")\n",
    "    print(\"    Mean AUC    \")\n",
    "    print(\"-------------------\")\n",
    "    print(\"Mean AUC for Random Forest Model: \", rf_model_cv_scores.mean())\n",
    "    return rf_model"
   ]
  },
  {
   "cell_type": "code",
   "execution_count": 267,
   "metadata": {},
   "outputs": [],
   "source": [
    "def Build_OfferModels_Summarize_TestPredictions():\n",
    "    X = profile_to_investigate.drop(complete_offer_ids, axis=1)\n",
    "    cnt = 1\n",
    "    RforestModels = []\n",
    "    for i in all_offer_ids:\n",
    "        # Choose the offer column we want to model from all_offer_ids, \n",
    "        # These are essentially now filterd to only bogo and discount offers\n",
    "        y = profile_to_investigate[i]\n",
    "        X_train, X_test, y_train, y_test = MakeTrainTestSplits(X,y)\n",
    "        print(\"\\n_____________________________________________________________________________\\n\")\n",
    "        print(\"({0}.) Model Summary for offer id - {1} : {2}\".format(cnt,i, all_offer_types[cnt-1]))\n",
    "        print(\"_____________________________________________________________________________\\n\")\n",
    "        RforestModels.append(RandomForestModel(X, y, X_train, X_test, y_train, y_test,  cvsplit = 10, n_estimators=n_estimators1, max_depth=max_depth1, max_features=max_features1))\n",
    "        print(\"_____________________________________________________________________________\\n\")\n",
    "        cnt = cnt + 1\n",
    "    return RforestModels"
   ]
  },
  {
   "cell_type": "code",
   "execution_count": 268,
   "metadata": {},
   "outputs": [
    {
     "name": "stdout",
     "output_type": "stream",
     "text": [
      "\n",
      "_____________________________________________________________________________\n",
      "\n",
      "(1.) Model Summary for offer id - ae264e3637204a6fb9bb56bc8210ddfd : bogo\n",
      "_____________________________________________________________________________\n",
      "\n",
      "--------------------------\n",
      "    Confusion Matrix    \n",
      "--------------------------\n",
      "[[2749  127]\n",
      " [ 710   44]]\n",
      "\n",
      "\n",
      "---------------------------------\n",
      "    Classification Summary    \n",
      "---------------------------------\n",
      "             precision    recall  f1-score   support\n",
      "\n",
      "          0       0.79      0.96      0.87      2876\n",
      "          1       0.26      0.06      0.10       754\n",
      "\n",
      "avg / total       0.68      0.77      0.71      3630\n",
      "\n",
      "\n",
      "\n",
      "--------------\n",
      "    AUC    \n",
      "--------------\n",
      "[ 0.52076252  0.55527963  0.58126514  0.55250332  0.50975362  0.55883595\n",
      "  0.53042697  0.55361913  0.52867657  0.53250633]\n",
      "\n",
      "\n",
      "-------------------\n",
      "    Mean AUC    \n",
      "-------------------\n",
      "Mean AUC for Random Forest Model:  0.542362918241\n",
      "_____________________________________________________________________________\n",
      "\n",
      "\n",
      "_____________________________________________________________________________\n",
      "\n",
      "(2.) Model Summary for offer id - 4d5c57ea9a6940dd891ad53e9dbe8da0 : bogo\n",
      "_____________________________________________________________________________\n",
      "\n",
      "--------------------------\n",
      "    Confusion Matrix    \n",
      "--------------------------\n",
      "[[2629  152]\n",
      " [ 784   65]]\n",
      "\n",
      "\n",
      "---------------------------------\n",
      "    Classification Summary    \n",
      "---------------------------------\n",
      "             precision    recall  f1-score   support\n",
      "\n",
      "          0       0.77      0.95      0.85      2781\n",
      "          1       0.30      0.08      0.12       849\n",
      "\n",
      "avg / total       0.66      0.74      0.68      3630\n",
      "\n",
      "\n",
      "\n",
      "--------------\n",
      "    AUC    \n",
      "--------------\n",
      "[ 0.5814884   0.52612853  0.58811831  0.53596181  0.57305649  0.54197524\n",
      "  0.54334534  0.59037686  0.57459802  0.57555352]\n",
      "\n",
      "\n",
      "-------------------\n",
      "    Mean AUC    \n",
      "-------------------\n",
      "Mean AUC for Random Forest Model:  0.563060252545\n",
      "_____________________________________________________________________________\n",
      "\n",
      "\n",
      "_____________________________________________________________________________\n",
      "\n",
      "(3.) Model Summary for offer id - 9b98b8c7a33c4b65b9aebfe6a799e6d9 : bogo\n",
      "_____________________________________________________________________________\n",
      "\n",
      "--------------------------\n",
      "    Confusion Matrix    \n",
      "--------------------------\n",
      "[[2901   85]\n",
      " [ 625   19]]\n",
      "\n",
      "\n",
      "---------------------------------\n",
      "    Classification Summary    \n",
      "---------------------------------\n",
      "             precision    recall  f1-score   support\n",
      "\n",
      "          0       0.82      0.97      0.89      2986\n",
      "          1       0.18      0.03      0.05       644\n",
      "\n",
      "avg / total       0.71      0.80      0.74      3630\n",
      "\n",
      "\n",
      "\n",
      "--------------\n",
      "    AUC    \n",
      "--------------\n",
      "[ 0.55838003  0.52219109  0.53500148  0.55684042  0.49365058  0.55600692\n",
      "  0.51775075  0.55130148  0.50599191  0.54027738]\n",
      "\n",
      "\n",
      "-------------------\n",
      "    Mean AUC    \n",
      "-------------------\n",
      "Mean AUC for Random Forest Model:  0.53373920424\n",
      "_____________________________________________________________________________\n",
      "\n",
      "\n",
      "_____________________________________________________________________________\n",
      "\n",
      "(4.) Model Summary for offer id - 0b1e1539f2cc45b7b9fa7c272da2e1d7 : discount\n",
      "_____________________________________________________________________________\n",
      "\n",
      "--------------------------\n",
      "    Confusion Matrix    \n",
      "--------------------------\n",
      "[[3177   32]\n",
      " [ 419    2]]\n",
      "\n",
      "\n",
      "---------------------------------\n",
      "    Classification Summary    \n",
      "---------------------------------\n",
      "             precision    recall  f1-score   support\n",
      "\n",
      "          0       0.88      0.99      0.93      3209\n",
      "          1       0.06      0.00      0.01       421\n",
      "\n",
      "avg / total       0.79      0.88      0.83      3630\n",
      "\n",
      "\n",
      "\n",
      "--------------\n",
      "    AUC    \n",
      "--------------\n",
      "[ 0.58140984  0.54118443  0.55719262  0.58877459  0.53592225  0.59480976\n",
      "  0.57738213  0.60905294  0.5602895   0.58762614]\n",
      "\n",
      "\n",
      "-------------------\n",
      "    Mean AUC    \n",
      "-------------------\n",
      "Mean AUC for Random Forest Model:  0.57336441884\n",
      "_____________________________________________________________________________\n",
      "\n",
      "\n",
      "_____________________________________________________________________________\n",
      "\n",
      "(5.) Model Summary for offer id - 2298d6c36e964ae4a3e7e9706d1fb8c2 : discount\n",
      "_____________________________________________________________________________\n",
      "\n",
      "--------------------------\n",
      "    Confusion Matrix    \n",
      "--------------------------\n",
      "[[2054  356]\n",
      " [1003  217]]\n",
      "\n",
      "\n",
      "---------------------------------\n",
      "    Classification Summary    \n",
      "---------------------------------\n",
      "             precision    recall  f1-score   support\n",
      "\n",
      "          0       0.67      0.85      0.75      2410\n",
      "          1       0.38      0.18      0.24      1220\n",
      "\n",
      "avg / total       0.57      0.63      0.58      3630\n",
      "\n",
      "\n",
      "\n",
      "--------------\n",
      "    AUC    \n",
      "--------------\n",
      "[ 0.50239396  0.53255615  0.50568074  0.46602553  0.47549157  0.48370329\n",
      "  0.51412357  0.50552611  0.51071815  0.50932589]\n",
      "\n",
      "\n",
      "-------------------\n",
      "    Mean AUC    \n",
      "-------------------\n",
      "Mean AUC for Random Forest Model:  0.500554495776\n",
      "_____________________________________________________________________________\n",
      "\n",
      "\n",
      "_____________________________________________________________________________\n",
      "\n",
      "(6.) Model Summary for offer id - fafdcd668e3743c1bb461111dcafc2a4 : discount\n",
      "_____________________________________________________________________________\n",
      "\n",
      "--------------------------\n",
      "    Confusion Matrix    \n",
      "--------------------------\n",
      "[[1897  475]\n",
      " [1009  249]]\n",
      "\n",
      "\n",
      "---------------------------------\n",
      "    Classification Summary    \n",
      "---------------------------------\n",
      "             precision    recall  f1-score   support\n",
      "\n",
      "          0       0.65      0.80      0.72      2372\n",
      "          1       0.34      0.20      0.25      1258\n",
      "\n",
      "avg / total       0.55      0.59      0.56      3630\n",
      "\n",
      "\n",
      "\n",
      "--------------\n",
      "    AUC    \n",
      "--------------\n",
      "[ 0.4799032   0.50635832  0.52422416  0.48819065  0.50734956  0.52598085\n",
      "  0.53065967  0.47791846  0.48432605  0.4857244 ]\n",
      "\n",
      "\n",
      "-------------------\n",
      "    Mean AUC    \n",
      "-------------------\n",
      "Mean AUC for Random Forest Model:  0.50106353408\n",
      "_____________________________________________________________________________\n",
      "\n",
      "\n",
      "_____________________________________________________________________________\n",
      "\n",
      "(7.) Model Summary for offer id - f19421c1d4aa40978ebb69ca19b0e20d : bogo\n",
      "_____________________________________________________________________________\n",
      "\n",
      "--------------------------\n",
      "    Confusion Matrix    \n",
      "--------------------------\n",
      "[[2354  236]\n",
      " [ 942   98]]\n",
      "\n",
      "\n",
      "---------------------------------\n",
      "    Classification Summary    \n",
      "---------------------------------\n",
      "             precision    recall  f1-score   support\n",
      "\n",
      "          0       0.71      0.91      0.80      2590\n",
      "          1       0.29      0.09      0.14      1040\n",
      "\n",
      "avg / total       0.59      0.68      0.61      3630\n",
      "\n",
      "\n",
      "\n",
      "--------------\n",
      "    AUC    \n",
      "--------------\n",
      "[ 0.53607587  0.50853448  0.51859296  0.50053614  0.5061429   0.50891054\n",
      "  0.48893165  0.49286867  0.48247476  0.52448899]\n",
      "\n",
      "\n",
      "-------------------\n",
      "    Mean AUC    \n",
      "-------------------\n",
      "Mean AUC for Random Forest Model:  0.506755696177\n",
      "_____________________________________________________________________________\n",
      "\n",
      "\n",
      "_____________________________________________________________________________\n",
      "\n",
      "(8.) Model Summary for offer id - 2906b810c7d4411798c6938adc9daaa5 : discount\n",
      "_____________________________________________________________________________\n",
      "\n",
      "--------------------------\n",
      "    Confusion Matrix    \n",
      "--------------------------\n",
      "[[2879   58]\n",
      " [ 675   18]]\n",
      "\n",
      "\n",
      "---------------------------------\n",
      "    Classification Summary    \n",
      "---------------------------------\n",
      "             precision    recall  f1-score   support\n",
      "\n",
      "          0       0.81      0.98      0.89      2937\n",
      "          1       0.24      0.03      0.05       693\n",
      "\n",
      "avg / total       0.70      0.80      0.73      3630\n",
      "\n",
      "\n",
      "\n",
      "--------------\n",
      "    AUC    \n",
      "--------------\n",
      "[ 0.54662835  0.55794271  0.54407868  0.49067605  0.56094266  0.52751296\n",
      "  0.52863723  0.55484237  0.54565187  0.57246589]\n",
      "\n",
      "\n",
      "-------------------\n",
      "    Mean AUC    \n",
      "-------------------\n",
      "Mean AUC for Random Forest Model:  0.542937877782\n",
      "_____________________________________________________________________________\n",
      "\n"
     ]
    }
   ],
   "source": [
    "RforestModels = Build_OfferModels_Summarize_TestPredictions()"
   ]
  },
  {
   "cell_type": "code",
   "execution_count": 269,
   "metadata": {},
   "outputs": [
    {
     "data": {
      "text/plain": [
       "[RandomForestClassifier(bootstrap=True, class_weight=None, criterion='gini',\n",
       "             max_depth=100, max_features='sqrt', max_leaf_nodes=None,\n",
       "             min_impurity_decrease=0.0, min_impurity_split=None,\n",
       "             min_samples_leaf=1, min_samples_split=2,\n",
       "             min_weight_fraction_leaf=0.0, n_estimators=200, n_jobs=1,\n",
       "             oob_score=False, random_state=None, verbose=0,\n",
       "             warm_start=False),\n",
       " RandomForestClassifier(bootstrap=True, class_weight=None, criterion='gini',\n",
       "             max_depth=100, max_features='sqrt', max_leaf_nodes=None,\n",
       "             min_impurity_decrease=0.0, min_impurity_split=None,\n",
       "             min_samples_leaf=1, min_samples_split=2,\n",
       "             min_weight_fraction_leaf=0.0, n_estimators=200, n_jobs=1,\n",
       "             oob_score=False, random_state=None, verbose=0,\n",
       "             warm_start=False),\n",
       " RandomForestClassifier(bootstrap=True, class_weight=None, criterion='gini',\n",
       "             max_depth=100, max_features='sqrt', max_leaf_nodes=None,\n",
       "             min_impurity_decrease=0.0, min_impurity_split=None,\n",
       "             min_samples_leaf=1, min_samples_split=2,\n",
       "             min_weight_fraction_leaf=0.0, n_estimators=200, n_jobs=1,\n",
       "             oob_score=False, random_state=None, verbose=0,\n",
       "             warm_start=False),\n",
       " RandomForestClassifier(bootstrap=True, class_weight=None, criterion='gini',\n",
       "             max_depth=100, max_features='sqrt', max_leaf_nodes=None,\n",
       "             min_impurity_decrease=0.0, min_impurity_split=None,\n",
       "             min_samples_leaf=1, min_samples_split=2,\n",
       "             min_weight_fraction_leaf=0.0, n_estimators=200, n_jobs=1,\n",
       "             oob_score=False, random_state=None, verbose=0,\n",
       "             warm_start=False),\n",
       " RandomForestClassifier(bootstrap=True, class_weight=None, criterion='gini',\n",
       "             max_depth=100, max_features='sqrt', max_leaf_nodes=None,\n",
       "             min_impurity_decrease=0.0, min_impurity_split=None,\n",
       "             min_samples_leaf=1, min_samples_split=2,\n",
       "             min_weight_fraction_leaf=0.0, n_estimators=200, n_jobs=1,\n",
       "             oob_score=False, random_state=None, verbose=0,\n",
       "             warm_start=False),\n",
       " RandomForestClassifier(bootstrap=True, class_weight=None, criterion='gini',\n",
       "             max_depth=100, max_features='sqrt', max_leaf_nodes=None,\n",
       "             min_impurity_decrease=0.0, min_impurity_split=None,\n",
       "             min_samples_leaf=1, min_samples_split=2,\n",
       "             min_weight_fraction_leaf=0.0, n_estimators=200, n_jobs=1,\n",
       "             oob_score=False, random_state=None, verbose=0,\n",
       "             warm_start=False),\n",
       " RandomForestClassifier(bootstrap=True, class_weight=None, criterion='gini',\n",
       "             max_depth=100, max_features='sqrt', max_leaf_nodes=None,\n",
       "             min_impurity_decrease=0.0, min_impurity_split=None,\n",
       "             min_samples_leaf=1, min_samples_split=2,\n",
       "             min_weight_fraction_leaf=0.0, n_estimators=200, n_jobs=1,\n",
       "             oob_score=False, random_state=None, verbose=0,\n",
       "             warm_start=False),\n",
       " RandomForestClassifier(bootstrap=True, class_weight=None, criterion='gini',\n",
       "             max_depth=100, max_features='sqrt', max_leaf_nodes=None,\n",
       "             min_impurity_decrease=0.0, min_impurity_split=None,\n",
       "             min_samples_leaf=1, min_samples_split=2,\n",
       "             min_weight_fraction_leaf=0.0, n_estimators=200, n_jobs=1,\n",
       "             oob_score=False, random_state=None, verbose=0,\n",
       "             warm_start=False)]"
      ]
     },
     "execution_count": 269,
     "metadata": {},
     "output_type": "execute_result"
    }
   ],
   "source": [
    "RforestModels"
   ]
  },
  {
   "cell_type": "markdown",
   "metadata": {},
   "source": [
    "## 4.2. In this section we will build a Logistic Regression model for each of the BOGO and discount type offers and summarize the quality of the models."
   ]
  },
  {
   "cell_type": "code",
   "execution_count": 297,
   "metadata": {},
   "outputs": [
    {
     "data": {
      "text/plain": [
       "14512    0\n",
       "7382     0\n",
       "1733     0\n",
       "2055     0\n",
       "12475    0\n",
       "Name: ae264e3637204a6fb9bb56bc8210ddfd, dtype: int64"
      ]
     },
     "execution_count": 297,
     "metadata": {},
     "output_type": "execute_result"
    }
   ],
   "source": [
    "y_test.head()"
   ]
  },
  {
   "cell_type": "code",
   "execution_count": 339,
   "metadata": {},
   "outputs": [
    {
     "data": {
      "text/plain": [
       "LogisticRegression(C=1.0, class_weight=None, dual=False, fit_intercept=True,\n",
       "          intercept_scaling=1, max_iter=10000, multi_class='ovr', n_jobs=1,\n",
       "          penalty='l2', random_state=None, solver='liblinear', tol=0.0001,\n",
       "          verbose=0, warm_start=False)"
      ]
     },
     "execution_count": 339,
     "metadata": {},
     "output_type": "execute_result"
    }
   ],
   "source": [
    "from sklearn.linear_model import LogisticRegression\n",
    "from sklearn import metrics\n",
    "X_train, X_test, y_train, y_test = train_test_split(X, y, test_size=0.2, random_state=45)\n",
    "logreg = LogisticRegression(max_iter=10000)\n",
    "logreg.fit(X_train, y_train)"
   ]
  },
  {
   "cell_type": "code",
   "execution_count": 340,
   "metadata": {},
   "outputs": [
    {
     "name": "stdout",
     "output_type": "stream",
     "text": [
      "Accuracy of logistic regression classifier on test set: 0.79\n"
     ]
    }
   ],
   "source": [
    "y_pred = logreg.predict(X_test)\n",
    "print('Accuracy of logistic regression classifier on test set: {:.2f}'.format(logreg.score(X_test, y_test)))"
   ]
  },
  {
   "cell_type": "code",
   "execution_count": 341,
   "metadata": {},
   "outputs": [
    {
     "data": {
      "text/plain": [
       "array([0, 0, 0, ..., 0, 0, 0])"
      ]
     },
     "execution_count": 341,
     "metadata": {},
     "output_type": "execute_result"
    }
   ],
   "source": [
    "y_pred"
   ]
  },
  {
   "cell_type": "code",
   "execution_count": 342,
   "metadata": {},
   "outputs": [
    {
     "data": {
      "text/plain": [
       "array([[1745,    0],\n",
       "       [ 455,    0]])"
      ]
     },
     "execution_count": 342,
     "metadata": {},
     "output_type": "execute_result"
    }
   ],
   "source": [
    "from sklearn.metrics import confusion_matrix\n",
    "confusion_matrix(y_test, y_pred)"
   ]
  },
  {
   "cell_type": "code",
   "execution_count": 343,
   "metadata": {},
   "outputs": [
    {
     "name": "stdout",
     "output_type": "stream",
     "text": [
      "             precision    recall  f1-score   support\n",
      "\n",
      "          0       0.79      1.00      0.88      1745\n",
      "          1       0.00      0.00      0.00       455\n",
      "\n",
      "avg / total       0.63      0.79      0.70      2200\n",
      "\n"
     ]
    },
    {
     "name": "stderr",
     "output_type": "stream",
     "text": [
      "/opt/conda/lib/python3.6/site-packages/sklearn/metrics/classification.py:1135: UndefinedMetricWarning: Precision and F-score are ill-defined and being set to 0.0 in labels with no predicted samples.\n",
      "  'precision', 'predicted', average, warn_for)\n"
     ]
    }
   ],
   "source": [
    "print(classification_report(y_test, y_pred))"
   ]
  },
  {
   "cell_type": "code",
   "execution_count": 344,
   "metadata": {},
   "outputs": [],
   "source": [
    "basic_logit_model_cv_score = cross_val_score(logreg, X, y, cv=10, scoring='roc_auc')"
   ]
  },
  {
   "cell_type": "code",
   "execution_count": 345,
   "metadata": {},
   "outputs": [
    {
     "name": "stdout",
     "output_type": "stream",
     "text": [
      "Mean AUC Score of logit model:  0.540862484941\n"
     ]
    }
   ],
   "source": [
    "print(\"Mean AUC Score of logit model: \", basic_logit_model_cv_score.mean())"
   ]
  },
  {
   "cell_type": "markdown",
   "metadata": {},
   "source": [
    " ## 4.2 In this section we will deploy the offer model on a new unseen customer predict if we should send an offer to this customer. Meaning if we receive a 1 for this offer we can go ahead and strongly send this offer to this customer. "
   ]
  },
  {
   "cell_type": "code",
   "execution_count": 270,
   "metadata": {},
   "outputs": [
    {
     "name": "stdout",
     "output_type": "stream",
     "text": [
      "422\n"
     ]
    },
    {
     "data": {
      "text/plain": [
       "333"
      ]
     },
     "execution_count": 270,
     "metadata": {},
     "output_type": "execute_result"
    }
   ],
   "source": [
    "print(profile_of_no_transaction_users.shape[0])\n",
    "profile_of_no_transaction_users_valid = profile_of_no_transaction_users.dropna(subset=['gender'])\n",
    "profile_of_no_transaction_users_valid.shape[0]"
   ]
  },
  {
   "cell_type": "code",
   "execution_count": 271,
   "metadata": {},
   "outputs": [
    {
     "data": {
      "text/plain": [
       "333"
      ]
     },
     "execution_count": 271,
     "metadata": {},
     "output_type": "execute_result"
    }
   ],
   "source": [
    "profile_of_no_transaction_users_valid = profile_of_no_transaction_users_valid.dropna(how='all')\n",
    "profile_of_no_transaction_users_valid.shape[0]"
   ]
  },
  {
   "cell_type": "code",
   "execution_count": 272,
   "metadata": {},
   "outputs": [
    {
     "data": {
      "text/html": [
       "<div>\n",
       "<style scoped>\n",
       "    .dataframe tbody tr th:only-of-type {\n",
       "        vertical-align: middle;\n",
       "    }\n",
       "\n",
       "    .dataframe tbody tr th {\n",
       "        vertical-align: top;\n",
       "    }\n",
       "\n",
       "    .dataframe thead th {\n",
       "        text-align: right;\n",
       "    }\n",
       "</style>\n",
       "<table border=\"1\" class=\"dataframe\">\n",
       "  <thead>\n",
       "    <tr style=\"text-align: right;\">\n",
       "      <th></th>\n",
       "      <th>age</th>\n",
       "      <th>became_member_on</th>\n",
       "      <th>gender</th>\n",
       "      <th>id</th>\n",
       "      <th>income</th>\n",
       "      <th>has_transacted</th>\n",
       "    </tr>\n",
       "  </thead>\n",
       "  <tbody>\n",
       "    <tr>\n",
       "      <th>90</th>\n",
       "      <td>70</td>\n",
       "      <td>20180613</td>\n",
       "      <td>F</td>\n",
       "      <td>13b7b2eccf664a329d83d2a238a9a11d</td>\n",
       "      <td>74000.0</td>\n",
       "      <td>False</td>\n",
       "    </tr>\n",
       "    <tr>\n",
       "      <th>92</th>\n",
       "      <td>62</td>\n",
       "      <td>20180410</td>\n",
       "      <td>F</td>\n",
       "      <td>ffc6c9fbe34b4578911dcdf6745b4c74</td>\n",
       "      <td>57000.0</td>\n",
       "      <td>False</td>\n",
       "    </tr>\n",
       "    <tr>\n",
       "      <th>202</th>\n",
       "      <td>81</td>\n",
       "      <td>20180503</td>\n",
       "      <td>M</td>\n",
       "      <td>accec36a10704e1fbaeb9b28b8bc5da8</td>\n",
       "      <td>93000.0</td>\n",
       "      <td>False</td>\n",
       "    </tr>\n",
       "    <tr>\n",
       "      <th>219</th>\n",
       "      <td>79</td>\n",
       "      <td>20180711</td>\n",
       "      <td>F</td>\n",
       "      <td>688e4f2487d44ad8bbcc0f96936f42d6</td>\n",
       "      <td>106000.0</td>\n",
       "      <td>False</td>\n",
       "    </tr>\n",
       "    <tr>\n",
       "      <th>225</th>\n",
       "      <td>74</td>\n",
       "      <td>20180517</td>\n",
       "      <td>F</td>\n",
       "      <td>4e5923e5deab4d5cb1624a0b1cc9909c</td>\n",
       "      <td>103000.0</td>\n",
       "      <td>False</td>\n",
       "    </tr>\n",
       "  </tbody>\n",
       "</table>\n",
       "</div>"
      ],
      "text/plain": [
       "     age  became_member_on gender                                id    income  \\\n",
       "90    70          20180613      F  13b7b2eccf664a329d83d2a238a9a11d   74000.0   \n",
       "92    62          20180410      F  ffc6c9fbe34b4578911dcdf6745b4c74   57000.0   \n",
       "202   81          20180503      M  accec36a10704e1fbaeb9b28b8bc5da8   93000.0   \n",
       "219   79          20180711      F  688e4f2487d44ad8bbcc0f96936f42d6  106000.0   \n",
       "225   74          20180517      F  4e5923e5deab4d5cb1624a0b1cc9909c  103000.0   \n",
       "\n",
       "     has_transacted  \n",
       "90            False  \n",
       "92            False  \n",
       "202           False  \n",
       "219           False  \n",
       "225           False  "
      ]
     },
     "execution_count": 272,
     "metadata": {},
     "output_type": "execute_result"
    }
   ],
   "source": [
    "profile_of_no_transaction_users_valid.head()"
   ]
  },
  {
   "cell_type": "code",
   "execution_count": 273,
   "metadata": {},
   "outputs": [
    {
     "data": {
      "text/html": [
       "<div>\n",
       "<style scoped>\n",
       "    .dataframe tbody tr th:only-of-type {\n",
       "        vertical-align: middle;\n",
       "    }\n",
       "\n",
       "    .dataframe tbody tr th {\n",
       "        vertical-align: top;\n",
       "    }\n",
       "\n",
       "    .dataframe thead th {\n",
       "        text-align: right;\n",
       "    }\n",
       "</style>\n",
       "<table border=\"1\" class=\"dataframe\">\n",
       "  <thead>\n",
       "    <tr style=\"text-align: right;\">\n",
       "      <th></th>\n",
       "      <th>age</th>\n",
       "      <th>became_member_on</th>\n",
       "      <th>gender</th>\n",
       "      <th>income</th>\n",
       "    </tr>\n",
       "  </thead>\n",
       "  <tbody>\n",
       "    <tr>\n",
       "      <th>90</th>\n",
       "      <td>70</td>\n",
       "      <td>20180613</td>\n",
       "      <td>F</td>\n",
       "      <td>74000.0</td>\n",
       "    </tr>\n",
       "    <tr>\n",
       "      <th>92</th>\n",
       "      <td>62</td>\n",
       "      <td>20180410</td>\n",
       "      <td>F</td>\n",
       "      <td>57000.0</td>\n",
       "    </tr>\n",
       "    <tr>\n",
       "      <th>202</th>\n",
       "      <td>81</td>\n",
       "      <td>20180503</td>\n",
       "      <td>M</td>\n",
       "      <td>93000.0</td>\n",
       "    </tr>\n",
       "    <tr>\n",
       "      <th>219</th>\n",
       "      <td>79</td>\n",
       "      <td>20180711</td>\n",
       "      <td>F</td>\n",
       "      <td>106000.0</td>\n",
       "    </tr>\n",
       "    <tr>\n",
       "      <th>225</th>\n",
       "      <td>74</td>\n",
       "      <td>20180517</td>\n",
       "      <td>F</td>\n",
       "      <td>103000.0</td>\n",
       "    </tr>\n",
       "  </tbody>\n",
       "</table>\n",
       "</div>"
      ],
      "text/plain": [
       "     age  became_member_on gender    income\n",
       "90    70          20180613      F   74000.0\n",
       "92    62          20180410      F   57000.0\n",
       "202   81          20180503      M   93000.0\n",
       "219   79          20180711      F  106000.0\n",
       "225   74          20180517      F  103000.0"
      ]
     },
     "execution_count": 273,
     "metadata": {},
     "output_type": "execute_result"
    }
   ],
   "source": [
    "profile_to_deploy = profile_of_no_transaction_users_valid.drop(['has_transacted', 'id'], axis=1)\n",
    "profile_to_deploy.head()"
   ]
  },
  {
   "cell_type": "code",
   "execution_count": 274,
   "metadata": {},
   "outputs": [
    {
     "data": {
      "text/html": [
       "<div>\n",
       "<style scoped>\n",
       "    .dataframe tbody tr th:only-of-type {\n",
       "        vertical-align: middle;\n",
       "    }\n",
       "\n",
       "    .dataframe tbody tr th {\n",
       "        vertical-align: top;\n",
       "    }\n",
       "\n",
       "    .dataframe thead th {\n",
       "        text-align: right;\n",
       "    }\n",
       "</style>\n",
       "<table border=\"1\" class=\"dataframe\">\n",
       "  <thead>\n",
       "    <tr style=\"text-align: right;\">\n",
       "      <th></th>\n",
       "      <th>age</th>\n",
       "      <th>became_member_on</th>\n",
       "      <th>income</th>\n",
       "      <th>gender_F</th>\n",
       "      <th>gender_M</th>\n",
       "      <th>gender_O</th>\n",
       "    </tr>\n",
       "  </thead>\n",
       "  <tbody>\n",
       "    <tr>\n",
       "      <th>90</th>\n",
       "      <td>70</td>\n",
       "      <td>20180613</td>\n",
       "      <td>74000.0</td>\n",
       "      <td>1</td>\n",
       "      <td>0</td>\n",
       "      <td>0</td>\n",
       "    </tr>\n",
       "    <tr>\n",
       "      <th>92</th>\n",
       "      <td>62</td>\n",
       "      <td>20180410</td>\n",
       "      <td>57000.0</td>\n",
       "      <td>1</td>\n",
       "      <td>0</td>\n",
       "      <td>0</td>\n",
       "    </tr>\n",
       "    <tr>\n",
       "      <th>202</th>\n",
       "      <td>81</td>\n",
       "      <td>20180503</td>\n",
       "      <td>93000.0</td>\n",
       "      <td>0</td>\n",
       "      <td>1</td>\n",
       "      <td>0</td>\n",
       "    </tr>\n",
       "    <tr>\n",
       "      <th>219</th>\n",
       "      <td>79</td>\n",
       "      <td>20180711</td>\n",
       "      <td>106000.0</td>\n",
       "      <td>1</td>\n",
       "      <td>0</td>\n",
       "      <td>0</td>\n",
       "    </tr>\n",
       "    <tr>\n",
       "      <th>225</th>\n",
       "      <td>74</td>\n",
       "      <td>20180517</td>\n",
       "      <td>103000.0</td>\n",
       "      <td>1</td>\n",
       "      <td>0</td>\n",
       "      <td>0</td>\n",
       "    </tr>\n",
       "  </tbody>\n",
       "</table>\n",
       "</div>"
      ],
      "text/plain": [
       "     age  became_member_on    income  gender_F  gender_M  gender_O\n",
       "90    70          20180613   74000.0         1         0         0\n",
       "92    62          20180410   57000.0         1         0         0\n",
       "202   81          20180503   93000.0         0         1         0\n",
       "219   79          20180711  106000.0         1         0         0\n",
       "225   74          20180517  103000.0         1         0         0"
      ]
     },
     "execution_count": 274,
     "metadata": {},
     "output_type": "execute_result"
    }
   ],
   "source": [
    "profile_to_deploy = pd.get_dummies(profile_to_deploy, prefix=['gender'])\n",
    "profile_to_deploy.head()"
   ]
  },
  {
   "cell_type": "code",
   "execution_count": 275,
   "metadata": {},
   "outputs": [],
   "source": [
    "# deploy models on test data\n",
    "RforestModels_0_predictions = RforestModels[0].predict(profile_to_deploy)\n",
    "RforestModels_1_predictions = RforestModels[1].predict(profile_to_deploy)\n",
    "RforestModels_2_predictions = RforestModels[2].predict(profile_to_deploy)\n",
    "RforestModels_3_predictions = RforestModels[3].predict(profile_to_deploy)\n",
    "RforestModels_4_predictions = RforestModels[4].predict(profile_to_deploy)\n",
    "RforestModels_5_predictions = RforestModels[5].predict(profile_to_deploy)\n",
    "RforestModels_6_predictions = RforestModels[6].predict(profile_to_deploy)\n",
    "RforestModels_7_predictions = RforestModels[7].predict(profile_to_deploy)"
   ]
  },
  {
   "cell_type": "code",
   "execution_count": 276,
   "metadata": {},
   "outputs": [
    {
     "data": {
      "text/plain": [
       "(array([0, 1]), array([325,   8]))"
      ]
     },
     "execution_count": 276,
     "metadata": {},
     "output_type": "execute_result"
    }
   ],
   "source": [
    "np.unique(RforestModels_0_predictions, return_counts=True)"
   ]
  },
  {
   "cell_type": "code",
   "execution_count": 277,
   "metadata": {},
   "outputs": [
    {
     "data": {
      "text/plain": [
       "(array([0, 1]), array([320,  13]))"
      ]
     },
     "execution_count": 277,
     "metadata": {},
     "output_type": "execute_result"
    }
   ],
   "source": [
    "np.unique(RforestModels_1_predictions, return_counts=True)"
   ]
  },
  {
   "cell_type": "code",
   "execution_count": 278,
   "metadata": {},
   "outputs": [
    {
     "data": {
      "text/plain": [
       "(array([0, 1]), array([330,   3]))"
      ]
     },
     "execution_count": 278,
     "metadata": {},
     "output_type": "execute_result"
    }
   ],
   "source": [
    "np.unique(RforestModels_3_predictions, return_counts=True)"
   ]
  },
  {
   "cell_type": "code",
   "execution_count": 279,
   "metadata": {},
   "outputs": [
    {
     "data": {
      "text/plain": [
       "(array([0, 1]), array([299,  34]))"
      ]
     },
     "execution_count": 279,
     "metadata": {},
     "output_type": "execute_result"
    }
   ],
   "source": [
    "np.unique(RforestModels_4_predictions, return_counts=True)"
   ]
  },
  {
   "cell_type": "code",
   "execution_count": 280,
   "metadata": {},
   "outputs": [
    {
     "data": {
      "text/plain": [
       "(array([0, 1]), array([283,  50]))"
      ]
     },
     "execution_count": 280,
     "metadata": {},
     "output_type": "execute_result"
    }
   ],
   "source": [
    "np.unique(RforestModels_5_predictions, return_counts=True)"
   ]
  },
  {
   "cell_type": "code",
   "execution_count": 281,
   "metadata": {},
   "outputs": [
    {
     "data": {
      "text/plain": [
       "(array([0, 1]), array([307,  26]))"
      ]
     },
     "execution_count": 281,
     "metadata": {},
     "output_type": "execute_result"
    }
   ],
   "source": [
    "np.unique(RforestModels_6_predictions, return_counts=True)"
   ]
  },
  {
   "cell_type": "code",
   "execution_count": 282,
   "metadata": {},
   "outputs": [
    {
     "data": {
      "text/plain": [
       "(array([0, 1]), array([325,   8]))"
      ]
     },
     "execution_count": 282,
     "metadata": {},
     "output_type": "execute_result"
    }
   ],
   "source": [
    "np.unique(RforestModels_7_predictions, return_counts=True)"
   ]
  },
  {
   "cell_type": "code",
   "execution_count": null,
   "metadata": {},
   "outputs": [],
   "source": []
  }
 ],
 "metadata": {
  "kernelspec": {
   "display_name": "Python 3",
   "language": "python",
   "name": "python3"
  },
  "language_info": {
   "codemirror_mode": {
    "name": "ipython",
    "version": 3
   },
   "file_extension": ".py",
   "mimetype": "text/x-python",
   "name": "python",
   "nbconvert_exporter": "python",
   "pygments_lexer": "ipython3",
   "version": "3.6.3"
  }
 },
 "nbformat": 4,
 "nbformat_minor": 2
}
